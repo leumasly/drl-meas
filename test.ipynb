{
 "cells": [
  {
   "cell_type": "code",
   "execution_count": 7,
   "metadata": {},
   "outputs": [
    {
     "ename": "TypeError",
     "evalue": "Lockin.__init__() missing 1 required positional argument: 'resource'",
     "output_type": "error",
     "traceback": [
      "\u001b[1;31m---------------------------------------------------------------------------\u001b[0m",
      "\u001b[1;31mTypeError\u001b[0m                                 Traceback (most recent call last)",
      "Cell \u001b[1;32mIn[7], line 2\u001b[0m\n\u001b[0;32m      1\u001b[0m \u001b[39mfrom\u001b[39;00m \u001b[39minstruments\u001b[39;00m \u001b[39mimport\u001b[39;00m Lockin\n\u001b[1;32m----> 2\u001b[0m lockin1 \u001b[39m=\u001b[39m Lockin()\n",
      "\u001b[1;31mTypeError\u001b[0m: Lockin.__init__() missing 1 required positional argument: 'resource'"
     ]
    }
   ],
   "source": []
  }
 ],
 "metadata": {
  "kernelspec": {
   "display_name": "meas",
   "language": "python",
   "name": "python3"
  },
  "language_info": {
   "codemirror_mode": {
    "name": "ipython",
    "version": 3
   },
   "file_extension": ".py",
   "mimetype": "text/x-python",
   "name": "python",
   "nbconvert_exporter": "python",
   "pygments_lexer": "ipython3",
   "version": "3.11.0"
  },
  "orig_nbformat": 4,
  "vscode": {
   "interpreter": {
    "hash": "271ef34232959196be8c92428c7c08a4aeefde9b5449327c557b9ec55a84b48f"
   }
  }
 },
 "nbformat": 4,
 "nbformat_minor": 2
}
