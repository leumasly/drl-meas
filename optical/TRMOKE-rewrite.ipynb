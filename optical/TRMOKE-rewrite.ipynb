{
 "cells": [
  {
   "cell_type": "code",
   "execution_count": 2,
   "metadata": {},
   "outputs": [
    {
     "ename": "NameError",
     "evalue": "name 'Kepco' is not defined",
     "output_type": "error",
     "traceback": [
      "\u001b[1;31m---------------------------------------------------------------------------\u001b[0m",
      "\u001b[1;31mNameError\u001b[0m                                 Traceback (most recent call last)",
      "Cell \u001b[1;32mIn[2], line 3\u001b[0m\n\u001b[0;32m      1\u001b[0m \u001b[39mimport\u001b[39;00m \u001b[39msys\u001b[39;00m\n\u001b[0;32m      2\u001b[0m sys\u001b[39m.\u001b[39mpath\u001b[39m.\u001b[39mappend(\u001b[39m\"\u001b[39m\u001b[39m../\u001b[39m\u001b[39m\"\u001b[39m)\n\u001b[1;32m----> 3\u001b[0m \u001b[39mimport\u001b[39;00m \u001b[39moptics\u001b[39;00m\n",
      "File \u001b[1;32mc:\\Users\\leumas\\code\\drl-meas\\optical\\..\\optics.py:8\u001b[0m\n\u001b[0;32m      4\u001b[0m \u001b[39mimport\u001b[39;00m \u001b[39mpymeasure\u001b[39;00m\n\u001b[0;32m      5\u001b[0m \u001b[39mfrom\u001b[39;00m \u001b[39mpymeasure\u001b[39;00m\u001b[39m.\u001b[39;00m\u001b[39minstruments\u001b[39;00m\u001b[39m.\u001b[39;00m\u001b[39mkeithley\u001b[39;00m \u001b[39mimport\u001b[39;00m Keithley2400\n\u001b[1;32m----> 8\u001b[0m \u001b[39mdef\u001b[39;00m \u001b[39mSetfield\u001b[39m(Kepco\u001b[39m=\u001b[39mKepco, magcurr\u001b[39m=\u001b[39m\u001b[39m0\u001b[39m):\n\u001b[0;32m      9\u001b[0m     Kepco\u001b[39m.\u001b[39mwrite(\u001b[39m\"\u001b[39m\u001b[39mCURR \u001b[39m\u001b[39m{}\u001b[39;00m\u001b[39m\"\u001b[39m\u001b[39m.\u001b[39mformat(magcurr))\n\u001b[0;32m     10\u001b[0m     Flag \u001b[39m=\u001b[39m \u001b[39mFalse\u001b[39;00m\n",
      "\u001b[1;31mNameError\u001b[0m: name 'Kepco' is not defined"
     ]
    }
   ],
   "source": [
    "import sys\n",
    "sys.path.append(\"../\")\n",
    "import optics"
   ]
  },
  {
   "cell_type": "code",
   "execution_count": null,
   "metadata": {},
   "outputs": [],
   "source": [
    "Kepco = rm.open_resource(\"GPIB0::2::INSTR\")\n",
    "Delayline = rm.open_resource(\"ASRL6::INSTR\", baud_rate=9600)\n",
    "lock1 = Lockin(rm, 1)\n",
    "lock2 = Lockin(rm, 8)\n",
    "Fluke = rm.open_resource(\"GPIB0::6::INSTR\")"
   ]
  }
 ],
 "metadata": {
  "kernelspec": {
   "display_name": "meas",
   "language": "python",
   "name": "python3"
  },
  "language_info": {
   "codemirror_mode": {
    "name": "ipython",
    "version": 3
   },
   "file_extension": ".py",
   "mimetype": "text/x-python",
   "name": "python",
   "nbconvert_exporter": "python",
   "pygments_lexer": "ipython3",
   "version": "3.11.0"
  },
  "orig_nbformat": 4,
  "vscode": {
   "interpreter": {
    "hash": "271ef34232959196be8c92428c7c08a4aeefde9b5449327c557b9ec55a84b48f"
   }
  }
 },
 "nbformat": 4,
 "nbformat_minor": 2
}
