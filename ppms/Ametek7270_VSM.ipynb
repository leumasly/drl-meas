{
 "cells": [
  {
   "cell_type": "code",
   "execution_count": 3,
   "metadata": {
    "collapsed": true
   },
   "outputs": [],
   "source": [
    "import visa\n",
    "import time\n",
    "import numpy as np"
   ]
  },
  {
   "cell_type": "code",
   "execution_count": 4,
   "metadata": {},
   "outputs": [
    {
     "data": {
      "text/plain": [
       "('ASRL3::INSTR', 'ASRL10::INSTR', 'GPIB0::14::INSTR')"
      ]
     },
     "execution_count": 4,
     "metadata": {},
     "output_type": "execute_result"
    }
   ],
   "source": [
    "rm = visa.ResourceManager()\n",
    "rm.list_resources()"
   ]
  },
  {
   "cell_type": "code",
   "execution_count": 5,
   "metadata": {},
   "outputs": [],
   "source": [
    "ametek7270 = rm.open_resource('USB0::0x0A2D::0x001B::09140123::RAW')\n",
    "keithley6221 = rm.open_resource('GPIB0::14::INSTR')\n",
    "gauss = rm.open_resource('GPIB0::14::INSTR')"
   ]
  },
  {
   "cell_type": "code",
   "execution_count": 6,
   "metadata": {},
   "outputs": [],
   "source": [
    "SENSITIVITIES = [\n",
    "        0.0, 2.0e-9, 5.0e-9, 10.0e-9, 20.0e-9, 50.0e-9, 100.0e-9,\n",
    "        200.0e-9, 500.0e-9, 1.0e-6, 2.0e-6, 5.0e-6, 10.0e-6,\n",
    "        20.0e-6, 50.0e-6, 100.0e-6, 200.0e-6, 500.0e-6, 1.0e-3,\n",
    "        2.0e-3, 5.0e-3, 10.0e-3, 20.0e-3, 50.0e-3, 100.0e-3,\n",
    "        200.0e-3, 500.0e-3, 1.0\n",
    "    ]\n",
    "TIME_CONSTANTS = [\n",
    "        10.0e-6, 20.0e-6, 50.0e-6, 100.0e-6, 200.0e-6, 500.0e-6,\n",
    "        1.0e-3, 2.0e-3, 5.0e-3, 10.0e-3, 20.0e-3, 50.0e-3, 100.0e-3,\n",
    "        200.0e-3, 500.0e-3, 1.0, 2.0, 5.0, 10.0, 20.0, 50.0,\n",
    "        100.0, 200.0, 500.0, 1.0e3, 2.0e3, 5.0e3, 10.0e3,\n",
    "        20.0e3, 50.0e3, 100.0e3\n",
    "    ]"
   ]
  },
  {
   "cell_type": "code",
   "execution_count": 62,
   "metadata": {},
   "outputs": [],
   "source": [
    "def init_ac(ac, freq=157, start_I=0.002, stand_by_I=0.002):\n",
    "    ac.write(\"SOUR:WAVE:ABOR\")\n",
    "    ac.write(\"SOUR:WAVE:AMPL {}\".format(start_I))\n",
    "    ac.write(\"SOUR:WAVE:FREQ {}\".format(freq))\n",
    "    ac.write(\"SOUR:WAVE:ARM\")\n",
    "    ac.write(\"SOUR:WAVE:INIT\")\n",
    "    time.sleep(3)\n",
    "    ac.write(\"SOUR:WAVE:AMPL {}\".format(stand_by_I))\n",
    "    "
   ]
  },
  {
   "cell_type": "code",
   "execution_count": 10,
   "metadata": {},
   "outputs": [],
   "source": [
    "def init_ametek(ame, time_constant=0.5, sensitivity=10.0e-6, harmonic=1):\n",
    "    ame.write(\"TC {}\".format(TIME_CONSTANTS.index(time_constant)))\n",
    "    ame.write(\"SEN {}\".format(SENSITIVITIES.index(sensitivity)))\n",
    "    ame.write(\"REFN {}\".format(harmonic))\n",
    "    "
   ]
  },
  {
   "cell_type": "code",
   "execution_count": 11,
   "metadata": {},
   "outputs": [],
   "source": [
    "def lockin_measurement(ame, keith, ac_A=0.001, standby_I=0.0005,  duration=4, time_per_point=0.1, points_stored=5, show_data=False):\n",
    "    X = []\n",
    "    Y = []\n",
    "    M = []\n",
    "    P = []\n",
    "    keith.write(\"SOUR:WAVE:AMPL {}\".format(ac_A))\n",
    "    for i in range(int(duration/time_per_point)):\n",
    "        time.sleep(time_per_point)\n",
    "        m, p = ame.query('MP.').replace(\"\\n\\x00\", \"\").split(\",\")\n",
    "        x, y = ame.query('XY.').replace(\"\\n\\x00\", \"\").split(\",\")\n",
    "        X.append(float(x))\n",
    "        Y.append(float(y))\n",
    "        M.append(float(m))\n",
    "        P.append(float(p))\n",
    "    keith.write(\"SOUR:WAVE:AMPL {}\".format(standby_I))\n",
    "    res = []\n",
    "    all_result = [X, Y, M, P]\n",
    "    for i in all_result:\n",
    "        i = i[-points_stored:]\n",
    "        i = np.array(i)\n",
    "        res.append(i.mean())\n",
    "        res.append(i.std())\n",
    "    if show_data:\n",
    "        print(all_result)\n",
    "    return res"
   ]
  },
  {
   "cell_type": "code",
   "execution_count": 35,
   "metadata": {},
   "outputs": [],
   "source": [
    "init_ametek(ametek7270, time_constant=0.1, sensitivity=0.00005, harmonic=2)"
   ]
  },
  {
   "cell_type": "code",
   "execution_count": 66,
   "metadata": {},
   "outputs": [],
   "source": [
    "init_ac(keithley6221, freq=163, stand_by_I=0.0005)"
   ]
  },
  {
   "cell_type": "markdown",
   "metadata": {},
   "source": [
    "do first harmonic measurement, get lowest AC GAIN input limit,(low ac gain input limit, low backgraound noise for 2nd harmnic result) auto phase,"
   ]
  },
  {
   "cell_type": "code",
   "execution_count": 65,
   "metadata": {},
   "outputs": [
    {
     "name": "stdout",
     "output_type": "stream",
     "text": [
      "[[-0.009455, -0.00645, 0.005025, 0.02047, 0.017175, -0.074395, -0.15, -0.15, -0.15, -0.15, -0.15, -0.15, -0.15, -0.15, -0.15, -0.15, -0.15, -0.15, -0.15, -0.15, -0.15, -0.149625, -0.15, -0.15, -0.15, -0.15, -0.15, -0.15, -0.15, -0.001005], [-0.042835, -0.05161, -0.090665, -0.15, -0.15, -0.15, -0.05495, 0.056335, 0.124835, 0.135045, 0.126055, 0.132825, 0.138365, 0.118765, 0.0821, 0.04436, 0.016365, -0.006885, -0.04297, -0.09033, -0.12666, -0.134015, -0.078755, 0.076325, 0.15, 0.15, 0.15, 0.15, 0.15, 0.15], [0.043845, 0.05201, 0.0908, 0.15, 0.15, 0.15, 0.15, 0.15, 0.15, 0.15, 0.15, 0.15, 0.15, 0.15, 0.15, 0.15, 0.15, 0.15, 0.15, 0.15, 0.15, 0.15, 0.15, 0.15, 0.15, 0.15, 0.15, 0.15, 0.15, 0.15], [-102.47, -97.12, -86.83, -82.23, -83.47, -99.28, -159.88, 159.42, 140.23, 138.0, 139.96, 138.48, 137.3, 141.63, 151.31, 163.53, 173.78, -177.37, -164.02, -148.95, -139.82, -138.15, -151.72, 153.03, 135.0, 135.0, 135.0, 135.0, 135.0, 90.96]]\n"
     ]
    },
    {
     "data": {
      "text/plain": [
       "[-0.135063,\n",
       " 0.04468613986461573,\n",
       " 0.0636895,\n",
       " 0.11851882018164878,\n",
       " 0.14999999999999997,\n",
       " 2.7755575615628914e-17,\n",
       " 48.92999999999999,\n",
       " 126.70022367778205]"
      ]
     },
     "execution_count": 65,
     "metadata": {},
     "output_type": "execute_result"
    }
   ],
   "source": [
    "lockin_measurement(ametek7270, keithley6221, ac_A=0.006, standby_I=0.0005,  duration=3, time_per_point=0.1,\n",
    "                   points_stored=10, show_data=True)"
   ]
  },
  {
   "cell_type": "code",
   "execution_count": 232,
   "metadata": {},
   "outputs": [],
   "source": [
    "Pos = [1,1,2,2,3,3,3,3,3,3,3,3,3,4,4,4,4,5,6,7] + [8]*20\n",
    "Pos_index = [0]"
   ]
  },
  {
   "cell_type": "code",
   "execution_count": 233,
   "metadata": {},
   "outputs": [],
   "source": [
    "def get_position():\n",
    "    Pos_index[0] += 1\n",
    "    return Pos[Pos_index[0]-1]"
   ]
  },
  {
   "cell_type": "code",
   "execution_count": 38,
   "metadata": {},
   "outputs": [],
   "source": [
    "import subprocess\n",
    "def get_position():\n",
    "    result = subprocess.check_output([r'C:\\Program Files\\IronPython 2.7\\ipy.exe', \n",
    "                                      r'C:\\Users\\yanglabuser\\Desktop\\Sam files\\_switch\\ppms-master\\ppms_position.py'])\n",
    "\n",
    "    current_p = round(float(result.decode('utf-8').strip().split(',')[1][:-1]))\n",
    "    return current_p"
   ]
  },
  {
   "cell_type": "code",
   "execution_count": 29,
   "metadata": {},
   "outputs": [],
   "source": [
    "x = get_position()"
   ]
  },
  {
   "cell_type": "code",
   "execution_count": 27,
   "metadata": {},
   "outputs": [
    {
     "data": {
      "text/plain": [
       "2"
      ]
     },
     "execution_count": 27,
     "metadata": {},
     "output_type": "execute_result"
    }
   ],
   "source": [
    "round(1.9)"
   ]
  },
  {
   "cell_type": "code",
   "execution_count": 30,
   "metadata": {},
   "outputs": [
    {
     "name": "stdout",
     "output_type": "stream",
     "text": [
      "2\n"
     ]
    }
   ],
   "source": [
    "print(x)"
   ]
  },
  {
   "cell_type": "code",
   "execution_count": 39,
   "metadata": {},
   "outputs": [],
   "source": [
    "def angular_measurement(ame, keith, sample_id=\"CoFe_Pt_RXX_2nd\", ac_A=0.005, standby_I=0.0005,  duration=3, \n",
    "                        time_per_point=0.1, points_stored=10, counts_per_angle=4, wait_time_out=10,\n",
    "                        wait_per_measurement=5, freq=153):\n",
    "    filename = sample_id + \"_ac_{}_duration_{}_f_{}.csv\".format(ac_A, duration, freq)\n",
    "    with open(filename, 'w') as f:\n",
    "        f.write(\"X,dX,Y,dY,M,dM,P,dP,POS\\n\")\n",
    "    point_count = 0\n",
    "    count = 0 # if position didn't change count++, stop measurement once count > \n",
    "    last_position = None\n",
    "    while count < wait_time_out:\n",
    "        pos = get_position()\n",
    "        print(\"current position: {}\".format(pos))\n",
    "        if pos == last_position and point_count > counts_per_angle:\n",
    "            count += 1\n",
    "            time.sleep(0)\n",
    "        else:\n",
    "            res = lockin_measurement(ame, keith, ac_A=ac_A, standby_I=standby_I,  duration=duration,\n",
    "                               time_per_point=time_per_point, points_stored=points_stored)\n",
    "            res.append(pos)\n",
    "            res = [str(i) for i in res]\n",
    "            with open(filename, 'a') as f:\n",
    "                f.write(\",\".join(res) + \"\\n\")\n",
    "            time.sleep(wait_per_measurement)\n",
    "            if pos == last_position:\n",
    "                point_count += 1\n",
    "            else:\n",
    "                point_count =0\n",
    "            last_position = pos\n",
    "            count = 0\n",
    "                "
   ]
  },
  {
   "cell_type": "code",
   "execution_count": 41,
   "metadata": {},
   "outputs": [],
   "source": [
    "do_measurment = True"
   ]
  },
  {
   "cell_type": "code",
   "execution_count": 58,
   "metadata": {},
   "outputs": [
    {
     "name": "stdout",
     "output_type": "stream",
     "text": [
      "current position: 0\n",
      "current position: -3\n",
      "current position: 0\n",
      "current position: 0\n",
      "current position: 0\n",
      "current position: 0\n",
      "current position: 0\n",
      "current position: 20\n",
      "current position: 20\n",
      "current position: 20\n",
      "current position: 20\n",
      "current position: 32\n",
      "current position: 40\n",
      "current position: 40\n",
      "current position: 40\n",
      "current position: 40\n",
      "current position: 60\n",
      "current position: 60\n",
      "current position: 60\n",
      "current position: 60\n",
      "current position: 60\n",
      "current position: 80\n",
      "current position: 80\n",
      "current position: 80\n",
      "current position: 80\n",
      "current position: 80\n",
      "current position: 100\n",
      "current position: 100\n",
      "current position: 100\n",
      "current position: 100\n",
      "current position: 111\n"
     ]
    },
    {
     "ename": "PermissionError",
     "evalue": "[Errno 13] Permission denied: 'CoFe_SIO_RXx_2nd_test_scan_ac_0.0008_duration_3_f_163.csv'",
     "output_type": "error",
     "traceback": [
      "\u001b[0;31m---------------------------------------------------------------------------\u001b[0m",
      "\u001b[0;31mPermissionError\u001b[0m                           Traceback (most recent call last)",
      "\u001b[0;32m<ipython-input-58-23dde678b818>\u001b[0m in \u001b[0;36m<module>\u001b[0;34m()\u001b[0m\n\u001b[1;32m      3\u001b[0m angular_measurement(ametek7270, keithley6221, sample_id=\"CoFe_SIO_RXx_2nd_test_scan\", ac_A=0.0008, standby_I=0.0005,  duration=3, \n\u001b[1;32m      4\u001b[0m                         \u001b[0mtime_per_point\u001b[0m\u001b[0;34m=\u001b[0m\u001b[0;36m0.1\u001b[0m\u001b[0;34m,\u001b[0m \u001b[0mpoints_stored\u001b[0m\u001b[0;34m=\u001b[0m\u001b[0;36m5\u001b[0m\u001b[0;34m,\u001b[0m \u001b[0mcounts_per_angle\u001b[0m\u001b[0;34m=\u001b[0m\u001b[0;36m20\u001b[0m\u001b[0;34m,\u001b[0m \u001b[0mwait_time_out\u001b[0m\u001b[0;34m=\u001b[0m\u001b[0;36m80\u001b[0m\u001b[0;34m,\u001b[0m\u001b[0;34m\u001b[0m\u001b[0m\n\u001b[0;32m----> 5\u001b[0;31m                         wait_per_measurement=10, freq=163)\n\u001b[0m\u001b[1;32m      6\u001b[0m \u001b[0mdo_measurment\u001b[0m\u001b[0;34m=\u001b[0m\u001b[0;32mFalse\u001b[0m\u001b[0;34m\u001b[0m\u001b[0m\n",
      "\u001b[0;32m<ipython-input-39-72acf11dcee1>\u001b[0m in \u001b[0;36mangular_measurement\u001b[0;34m(ame, keith, sample_id, ac_A, standby_I, duration, time_per_point, points_stored, counts_per_angle, wait_time_out, wait_per_measurement, freq)\u001b[0m\n\u001b[1;32m     19\u001b[0m             \u001b[0mres\u001b[0m\u001b[0;34m.\u001b[0m\u001b[0mappend\u001b[0m\u001b[0;34m(\u001b[0m\u001b[0mpos\u001b[0m\u001b[0;34m)\u001b[0m\u001b[0;34m\u001b[0m\u001b[0m\n\u001b[1;32m     20\u001b[0m             \u001b[0mres\u001b[0m \u001b[0;34m=\u001b[0m \u001b[0;34m[\u001b[0m\u001b[0mstr\u001b[0m\u001b[0;34m(\u001b[0m\u001b[0mi\u001b[0m\u001b[0;34m)\u001b[0m \u001b[0;32mfor\u001b[0m \u001b[0mi\u001b[0m \u001b[0;32min\u001b[0m \u001b[0mres\u001b[0m\u001b[0;34m]\u001b[0m\u001b[0;34m\u001b[0m\u001b[0m\n\u001b[0;32m---> 21\u001b[0;31m             \u001b[0;32mwith\u001b[0m \u001b[0mopen\u001b[0m\u001b[0;34m(\u001b[0m\u001b[0mfilename\u001b[0m\u001b[0;34m,\u001b[0m \u001b[0;34m'a'\u001b[0m\u001b[0;34m)\u001b[0m \u001b[0;32mas\u001b[0m \u001b[0mf\u001b[0m\u001b[0;34m:\u001b[0m\u001b[0;34m\u001b[0m\u001b[0m\n\u001b[0m\u001b[1;32m     22\u001b[0m                 \u001b[0mf\u001b[0m\u001b[0;34m.\u001b[0m\u001b[0mwrite\u001b[0m\u001b[0;34m(\u001b[0m\u001b[0;34m\",\"\u001b[0m\u001b[0;34m.\u001b[0m\u001b[0mjoin\u001b[0m\u001b[0;34m(\u001b[0m\u001b[0mres\u001b[0m\u001b[0;34m)\u001b[0m \u001b[0;34m+\u001b[0m \u001b[0;34m\"\\n\"\u001b[0m\u001b[0;34m)\u001b[0m\u001b[0;34m\u001b[0m\u001b[0m\n\u001b[1;32m     23\u001b[0m             \u001b[0mtime\u001b[0m\u001b[0;34m.\u001b[0m\u001b[0msleep\u001b[0m\u001b[0;34m(\u001b[0m\u001b[0mwait_per_measurement\u001b[0m\u001b[0;34m)\u001b[0m\u001b[0;34m\u001b[0m\u001b[0m\n",
      "\u001b[0;31mPermissionError\u001b[0m: [Errno 13] Permission denied: 'CoFe_SIO_RXx_2nd_test_scan_ac_0.0008_duration_3_f_163.csv'"
     ]
    }
   ],
   "source": [
    "if not do_measurment:\n",
    "    raise\n",
    "angular_measurement(ametek7270, keithley6221, sample_id=\"CoFe_SIO_RXy_2nd_test_scan\", ac_A=0.006, standby_I=0.0005,  duration=3, \n",
    "                        time_per_point=0.1, points_stored=5, counts_per_angle=20, wait_time_out=80,\n",
    "                        wait_per_measurement=10, freq=163)\n",
    "do_measurment=False"
   ]
  },
  {
   "cell_type": "code",
   "execution_count": null,
   "metadata": {},
   "outputs": [],
   "source": []
  }
 ],
 "metadata": {
  "kernelspec": {
   "display_name": "Python 3",
   "language": "python",
   "name": "python3"
  },
  "language_info": {
   "codemirror_mode": {
    "name": "ipython",
    "version": 3
   },
   "file_extension": ".py",
   "mimetype": "text/x-python",
   "name": "python",
   "nbconvert_exporter": "python",
   "pygments_lexer": "ipython3",
   "version": "3.7.3"
  }
 },
 "nbformat": 4,
 "nbformat_minor": 1
}
