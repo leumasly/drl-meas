{
 "cells": [
  {
   "cell_type": "code",
   "execution_count": 1,
   "metadata": {
    "collapsed": true
   },
   "outputs": [],
   "source": [
    "import visa\n",
    "import time\n",
    "import numpy as np"
   ]
  },
  {
   "cell_type": "code",
   "execution_count": 5,
   "metadata": {},
   "outputs": [
    {
     "data": {
      "text/plain": [
       "('ASRL3::INSTR', 'ASRL10::INSTR', 'GPIB0::12::INSTR', 'GPIB0::14::INSTR')"
      ]
     },
     "execution_count": 5,
     "metadata": {},
     "output_type": "execute_result"
    }
   ],
   "source": [
    "rm = visa.ResourceManager()\n",
    "rm.list_resources()"
   ]
  },
  {
   "cell_type": "code",
   "execution_count": 6,
   "metadata": {},
   "outputs": [],
   "source": [
    "ametek7270 = rm.open_resource('USB0::0x0A2D::0x001B::09140123::RAW')\n",
    "keithley6221 = rm.open_resource('GPIB0::14::INSTR')\n",
    "guass = rm.open_resource('GPIB0::12::INSTR')"
   ]
  },
  {
   "cell_type": "code",
   "execution_count": 18,
   "metadata": {},
   "outputs": [],
   "source": [
    "def get_position():\n",
    "    f = guass.query(\"RDGFIELD?\")\n",
    "    f = round(float(f[:-2]) / 10) * 10\n",
    "    return f"
   ]
  },
  {
   "cell_type": "code",
   "execution_count": 20,
   "metadata": {},
   "outputs": [
    {
     "data": {
      "text/plain": [
       "930"
      ]
     },
     "execution_count": 20,
     "metadata": {},
     "output_type": "execute_result"
    }
   ],
   "source": [
    "get_position()"
   ]
  },
  {
   "cell_type": "code",
   "execution_count": 6,
   "metadata": {},
   "outputs": [],
   "source": [
    "SENSITIVITIES = [\n",
    "        0.0, 2.0e-9, 5.0e-9, 10.0e-9, 20.0e-9, 50.0e-9, 100.0e-9,\n",
    "        200.0e-9, 500.0e-9, 1.0e-6, 2.0e-6, 5.0e-6, 10.0e-6,\n",
    "        20.0e-6, 50.0e-6, 100.0e-6, 200.0e-6, 500.0e-6, 1.0e-3,\n",
    "        2.0e-3, 5.0e-3, 10.0e-3, 20.0e-3, 50.0e-3, 100.0e-3,\n",
    "        200.0e-3, 500.0e-3, 1.0\n",
    "    ]\n",
    "TIME_CONSTANTS = [\n",
    "        10.0e-6, 20.0e-6, 50.0e-6, 100.0e-6, 200.0e-6, 500.0e-6,\n",
    "        1.0e-3, 2.0e-3, 5.0e-3, 10.0e-3, 20.0e-3, 50.0e-3, 100.0e-3,\n",
    "        200.0e-3, 500.0e-3, 1.0, 2.0, 5.0, 10.0, 20.0, 50.0,\n",
    "        100.0, 200.0, 500.0, 1.0e3, 2.0e3, 5.0e3, 10.0e3,\n",
    "        20.0e3, 50.0e3, 100.0e3\n",
    "    ]"
   ]
  },
  {
   "cell_type": "code",
   "execution_count": 62,
   "metadata": {},
   "outputs": [],
   "source": [
    "def init_ac(ac, freq=157, start_I=0.002, stand_by_I=0.002):\n",
    "    ac.write(\"SOUR:WAVE:ABOR\")\n",
    "    ac.write(\"SOUR:WAVE:AMPL {}\".format(start_I))\n",
    "    ac.write(\"SOUR:WAVE:FREQ {}\".format(freq))\n",
    "    ac.write(\"SOUR:WAVE:ARM\")\n",
    "    ac.write(\"SOUR:WAVE:INIT\")\n",
    "    time.sleep(3)\n",
    "    ac.write(\"SOUR:WAVE:AMPL {}\".format(stand_by_I))\n",
    "    "
   ]
  },
  {
   "cell_type": "code",
   "execution_count": 10,
   "metadata": {},
   "outputs": [],
   "source": [
    "def init_ametek(ame, time_constant=0.5, sensitivity=10.0e-6, harmonic=1):\n",
    "    ame.write(\"TC {}\".format(TIME_CONSTANTS.index(time_constant)))\n",
    "    ame.write(\"SEN {}\".format(SENSITIVITIES.index(sensitivity)))\n",
    "    ame.write(\"REFN {}\".format(harmonic))"
   ]
  },
  {
   "cell_type": "code",
   "execution_count": 21,
   "metadata": {},
   "outputs": [],
   "source": [
    "def lockin_measurement(ame, time_per_point=0.1, points_stored=10, show_data=False):\n",
    "    X = []\n",
    "    Y = []\n",
    "    M = []\n",
    "    P = []\n",
    "    \n",
    "    for i in range(points_stored):\n",
    "        time.sleep(time_per_point)\n",
    "        m, p = ame.query('MP.').replace(\"\\n\\x00\", \"\").split(\",\")\n",
    "        x, y = ame.query('XY.').replace(\"\\n\\x00\", \"\").split(\",\")\n",
    "        X.append(float(x))\n",
    "        Y.append(float(y))\n",
    "        M.append(float(m))\n",
    "        P.append(float(p))\n",
    "    res = []\n",
    "    all_result = [X, Y, M, P]\n",
    "    for i in all_result:\n",
    "        i = np.array(i)\n",
    "        res.append(i.mean())\n",
    "        res.append(i.std())\n",
    "    if show_data:\n",
    "        print(all_result)\n",
    "    return res"
   ]
  },
  {
   "cell_type": "code",
   "execution_count": 23,
   "metadata": {},
   "outputs": [
    {
     "data": {
      "text/plain": [
       "[-8.653e-07,\n 3.90000000000001e-09,\n 1.037e-07,\n 1.951922129594313e-09,\n 8.711e-07,\n 3.884584919910994e-09,\n 173.157,\n 0.12165936051122148]"
      ]
     },
     "execution_count": 23,
     "metadata": {},
     "output_type": "execute_result"
    }
   ],
   "source": [
    "lockin_measurement(ametek7270, time_per_point=0.2, points_stored=10, show_data=False)"
   ]
  },
  {
   "cell_type": "code",
   "execution_count": 24,
   "metadata": {},
   "outputs": [],
   "source": [
    "def field_measurement(ame, sample_id=\"TIG_PT_Rxy_2nd\", ac_A=0.002,\n",
    "                        time_per_point=0.1, points_stored=10, counts_per_angle=10, wait_time_out=10,\n",
    "                        wait_per_measurement=5, freq=153):\n",
    "    filename = sample_id + \"_ac_{}_duration_{}_f_{}.csv\".format(ac_A, \"on\", freq)\n",
    "    with open(filename, 'w') as f:\n",
    "        f.write(\"X,dX,Y,dY,M,dM,P,dP,Field\\n\")\n",
    "    point_count = 0\n",
    "    count = 0 # if position didn't change count++, stop measurement once count > \n",
    "    last_position = None\n",
    "    while count < wait_time_out:\n",
    "        pos = get_position()\n",
    "        print(\"current field: {}\".format(pos))\n",
    "        if pos == last_position and point_count > counts_per_angle:\n",
    "            count += 1\n",
    "            time.sleep(1)\n",
    "        else:\n",
    "            res = lockin_measurement(ame, time_per_point=time_per_point, points_stored=points_stored)\n",
    "            res.append(pos)\n",
    "            res = [str(i) for i in res]\n",
    "            with open(filename, 'a') as f:\n",
    "                f.write(\",\".join(res) + \"\\n\")\n",
    "            time.sleep(wait_per_measurement)\n",
    "            if pos == last_position:\n",
    "                point_count += 1\n",
    "            else:\n",
    "                point_count =0\n",
    "            last_position = pos\n",
    "            count = 0\n",
    "                "
   ]
  },
  {
   "cell_type": "code",
   "execution_count": 25,
   "metadata": {},
   "outputs": [
    {
     "name": "stdout",
     "output_type": "stream",
     "text": [
      "current field: 1040\n"
     ]
    },
    {
     "name": "stdout",
     "output_type": "stream",
     "text": [
      "current field: 1040\n"
     ]
    },
    {
     "name": "stdout",
     "output_type": "stream",
     "text": [
      "current field: 1040\n"
     ]
    },
    {
     "name": "stdout",
     "output_type": "stream",
     "text": [
      "current field: 1040\n"
     ]
    },
    {
     "name": "stdout",
     "output_type": "stream",
     "text": [
      "current field: 1040\n"
     ]
    },
    {
     "name": "stdout",
     "output_type": "stream",
     "text": [
      "current field: 1040\n"
     ]
    },
    {
     "name": "stdout",
     "output_type": "stream",
     "text": [
      "current field: 1040\n"
     ]
    },
    {
     "name": "stdout",
     "output_type": "stream",
     "text": [
      "current field: 830\n"
     ]
    },
    {
     "name": "stdout",
     "output_type": "stream",
     "text": [
      "current field: 830\n"
     ]
    },
    {
     "name": "stdout",
     "output_type": "stream",
     "text": [
      "current field: 830\n"
     ]
    },
    {
     "name": "stdout",
     "output_type": "stream",
     "text": [
      "current field: 830\n"
     ]
    },
    {
     "name": "stdout",
     "output_type": "stream",
     "text": [
      "current field: 830\n"
     ]
    },
    {
     "name": "stdout",
     "output_type": "stream",
     "text": [
      "current field: 830\n"
     ]
    },
    {
     "name": "stdout",
     "output_type": "stream",
     "text": [
      "current field: 830\n"
     ]
    },
    {
     "name": "stdout",
     "output_type": "stream",
     "text": [
      "current field: 830\n"
     ]
    },
    {
     "name": "stdout",
     "output_type": "stream",
     "text": [
      "current field: 830\n"
     ]
    },
    {
     "name": "stdout",
     "output_type": "stream",
     "text": [
      "current field: 830\n"
     ]
    },
    {
     "name": "stdout",
     "output_type": "stream",
     "text": [
      "current field: 830\n"
     ]
    },
    {
     "name": "stdout",
     "output_type": "stream",
     "text": [
      "current field: 520\n"
     ]
    },
    {
     "name": "stdout",
     "output_type": "stream",
     "text": [
      "current field: 520\n"
     ]
    },
    {
     "name": "stdout",
     "output_type": "stream",
     "text": [
      "current field: 520\n"
     ]
    },
    {
     "name": "stdout",
     "output_type": "stream",
     "text": [
      "current field: 520\n"
     ]
    },
    {
     "name": "stdout",
     "output_type": "stream",
     "text": [
      "current field: 520\n"
     ]
    },
    {
     "name": "stdout",
     "output_type": "stream",
     "text": [
      "current field: 520\n"
     ]
    },
    {
     "name": "stdout",
     "output_type": "stream",
     "text": [
      "current field: 520\n"
     ]
    },
    {
     "name": "stdout",
     "output_type": "stream",
     "text": [
      "current field: 520\n"
     ]
    },
    {
     "ename": "PermissionError",
     "evalue": "[Errno 13] Permission denied: 'TIG_PT_Rxy_2nd_ac_0.002_duration_on_f_153.csv'",
     "traceback": [
      "\u001b[0;31m---------------------------------------------------------------------------\u001b[0m",
      "\u001b[0;31mPermissionError\u001b[0m                           Traceback (most recent call last)",
      "\u001b[0;32m<ipython-input-25-973ce14d470f>\u001b[0m in \u001b[0;36m<module>\u001b[0;34m()\u001b[0m\n\u001b[1;32m      1\u001b[0m field_measurement(ametek7270, sample_id=\"TIG_PT_Rxy_2nd\", ac_A=0.002,\n\u001b[1;32m      2\u001b[0m                         \u001b[0mtime_per_point\u001b[0m\u001b[0;34m=\u001b[0m\u001b[0;36m0.1\u001b[0m\u001b[0;34m,\u001b[0m \u001b[0mpoints_stored\u001b[0m\u001b[0;34m=\u001b[0m\u001b[0;36m10\u001b[0m\u001b[0;34m,\u001b[0m \u001b[0mcounts_per_angle\u001b[0m\u001b[0;34m=\u001b[0m\u001b[0;36m10\u001b[0m\u001b[0;34m,\u001b[0m \u001b[0mwait_time_out\u001b[0m\u001b[0;34m=\u001b[0m\u001b[0;36m10\u001b[0m\u001b[0;34m,\u001b[0m\u001b[0;34m\u001b[0m\u001b[0m\n\u001b[0;32m----> 3\u001b[0;31m                         wait_per_measurement=5, freq=153)\n\u001b[0m",
      "\u001b[0;32m<ipython-input-24-4076eb66d10c>\u001b[0m in \u001b[0;36mfield_measurement\u001b[0;34m(ame, sample_id, ac_A, time_per_point, points_stored, counts_per_angle, wait_time_out, wait_per_measurement, freq)\u001b[0m\n\u001b[1;32m     18\u001b[0m             \u001b[0mres\u001b[0m\u001b[0;34m.\u001b[0m\u001b[0mappend\u001b[0m\u001b[0;34m(\u001b[0m\u001b[0mpos\u001b[0m\u001b[0;34m)\u001b[0m\u001b[0;34m\u001b[0m\u001b[0m\n\u001b[1;32m     19\u001b[0m             \u001b[0mres\u001b[0m \u001b[0;34m=\u001b[0m \u001b[0;34m[\u001b[0m\u001b[0mstr\u001b[0m\u001b[0;34m(\u001b[0m\u001b[0mi\u001b[0m\u001b[0;34m)\u001b[0m \u001b[0;32mfor\u001b[0m \u001b[0mi\u001b[0m \u001b[0;32min\u001b[0m \u001b[0mres\u001b[0m\u001b[0;34m]\u001b[0m\u001b[0;34m\u001b[0m\u001b[0m\n\u001b[0;32m---> 20\u001b[0;31m             \u001b[0;32mwith\u001b[0m \u001b[0mopen\u001b[0m\u001b[0;34m(\u001b[0m\u001b[0mfilename\u001b[0m\u001b[0;34m,\u001b[0m \u001b[0;34m'a'\u001b[0m\u001b[0;34m)\u001b[0m \u001b[0;32mas\u001b[0m \u001b[0mf\u001b[0m\u001b[0;34m:\u001b[0m\u001b[0;34m\u001b[0m\u001b[0m\n\u001b[0m\u001b[1;32m     21\u001b[0m                 \u001b[0mf\u001b[0m\u001b[0;34m.\u001b[0m\u001b[0mwrite\u001b[0m\u001b[0;34m(\u001b[0m\u001b[0;34m\",\"\u001b[0m\u001b[0;34m.\u001b[0m\u001b[0mjoin\u001b[0m\u001b[0;34m(\u001b[0m\u001b[0mres\u001b[0m\u001b[0;34m)\u001b[0m \u001b[0;34m+\u001b[0m \u001b[0;34m\"\\n\"\u001b[0m\u001b[0;34m)\u001b[0m\u001b[0;34m\u001b[0m\u001b[0m\n\u001b[1;32m     22\u001b[0m             \u001b[0mtime\u001b[0m\u001b[0;34m.\u001b[0m\u001b[0msleep\u001b[0m\u001b[0;34m(\u001b[0m\u001b[0mwait_per_measurement\u001b[0m\u001b[0;34m)\u001b[0m\u001b[0;34m\u001b[0m\u001b[0m\n",
      "\u001b[0;31mPermissionError\u001b[0m: [Errno 13] Permission denied: 'TIG_PT_Rxy_2nd_ac_0.002_duration_on_f_153.csv'"
     ],
     "output_type": "error"
    }
   ],
   "source": [
    "field_measurement(ametek7270, sample_id=\"TIG_PT_Rxy_2nd_test\", ac_A=0.002,\n",
    "                        time_per_point=0.1, points_stored=10, counts_per_angle=10, wait_time_out=100,\n",
    "                        wait_per_measurement=5, freq=153)"
   ]
  },
  {
   "cell_type": "code",
   "execution_count": 11,
   "metadata": {},
   "outputs": [],
   "source": [
    "fileds = [5000, 1000]\n",
    "steps = [500, 10]"
   ]
  },
  {
   "cell_type": "code",
   "execution_count": 19,
   "metadata": {},
   "outputs": [],
   "source": [
    "def generate_fields(fileds, steps):\n",
    "    assert (len(fileds) == len(steps))\n",
    "    res = []\n",
    "    for i in range(len(fileds)):\n",
    "        res.extend([f for f in range(fileds[i], fileds[i + 1] if i+1 < len(fileds) else 0, \n",
    "                                   -1 * steps[i])])\n",
    "    res = res + [0] + [-1* f for f in res[::-1]]\n",
    "    res += res[::-1][1:]\n",
    "    return res  "
   ]
  },
  {
   "cell_type": "code",
   "execution_count": 1,
   "metadata": {
    "collapsed": true
   },
   "outputs": [
    {
     "ename": "NameError",
     "evalue": "name 'generate_fields' is not defined",
     "traceback": [
      "\u001b[0;31m---------------------------------------------------------------------------\u001b[0m",
      "\u001b[0;31mNameError\u001b[0m                                 Traceback (most recent call last)",
      "\u001b[0;32m<ipython-input-1-e6d4e4ab8c42>\u001b[0m in \u001b[0;36m<module>\u001b[0;34m()\u001b[0m\n\u001b[0;32m----> 1\u001b[0;31m \u001b[0mgenerate_fields\u001b[0m\u001b[0;34m(\u001b[0m\u001b[0mfileds\u001b[0m\u001b[0;34m,\u001b[0m \u001b[0msteps\u001b[0m\u001b[0;34m)\u001b[0m\u001b[0;34m\u001b[0m\u001b[0m\n\u001b[0m",
      "\u001b[0;31mNameError\u001b[0m: name 'generate_fields' is not defined"
     ],
     "output_type": "error"
    }
   ],
   "source": [
    "generate_fields(fileds, steps)"
   ]
  },
  {
   "cell_type": "code",
   "execution_count": null,
   "metadata": {},
   "outputs": [],
   "source": [
    "def field_depend(vsm, ame, keith, frequency, current, points_stored, fields, \n",
    "                 ramp_rate, time_per_point=0.1, sample_id=\"test\"):\n",
    "    \n",
    "    init_ac(keith, freq=frequency, start_I=current, stand_by_I=current)\n",
    "    filename = sample_id + \"_ac_{}_duration_{}_f_{}.csv\".format(current, frequency)\n",
    "    \n",
    "    with open(filename, 'w') as f:\n",
    "        f.write(\"X,dX,Y,dY,M,dM,P,dP\\n\")\n",
    "        \n",
    "    for f in fields:\n",
    "        set_and_wait(f, ramp_rate)\n",
    "        res = lockin_always_on(ame, time_per_point=time_per_point, \n",
    "                         points_stored=points_stored, show_data=False)\n",
    "        \n",
    "        res = [str(i) for i in res]\n",
    "        with open(filename, 'a') as f:\n",
    "            f.write(\",\".join(res) + \"\\n\")\n"
   ]
  },
  {
   "cell_type": "code",
   "execution_count": null,
   "metadata": {},
   "outputs": [],
   "source": [
    "generate_fields(fileds, steps)"
   ]
  }
 ],
 "metadata": {
  "kernelspec": {
   "display_name": "Python 2",
   "language": "python",
   "name": "python2"
  },
  "language_info": {
   "codemirror_mode": {
    "name": "ipython",
    "version": 2
   },
   "file_extension": ".py",
   "mimetype": "text/x-python",
   "name": "python",
   "nbconvert_exporter": "python",
   "pygments_lexer": "ipython2",
   "version": "2.7.6"
  }
 },
 "nbformat": 4,
 "nbformat_minor": 0
}
