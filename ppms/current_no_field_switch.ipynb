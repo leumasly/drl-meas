{
 "cells": [
  {
   "cell_type": "code",
   "execution_count": 2,
   "metadata": {},
   "outputs": [],
   "source": [
    "import pyvisa as visa\n",
    "#import visa\n",
    "import time\n",
    "import numpy as np\n",
    "import pymeasure\n",
    "from pymeasure.instruments.keithley import Keithley2400\n",
    "import pandas as pd\n",
    "import matplotlib.pyplot as plt\n",
    "import datetime\n",
    "\n",
    "N = 100000 # minimum digit 10uA"
   ]
  },
  {
   "cell_type": "code",
   "execution_count": 3,
   "metadata": {},
   "outputs": [],
   "source": []
  },
  {
   "cell_type": "markdown",
   "metadata": {},
   "source": [
    "#Check 6221 compliance, Check 2400 output off state, very important!!!!"
   ]
  },
  {
   "cell_type": "code",
   "execution_count": 3,
   "metadata": {},
   "outputs": [
    {
     "name": "stdout",
     "output_type": "stream",
     "text": [
      "2022-05-23 15:26:38.245256\n"
     ]
    }
   ],
   "source": [
    "import datetime\n",
    "print(datetime.datetime.now())"
   ]
  },
  {
   "cell_type": "code",
   "execution_count": 4,
   "metadata": {},
   "outputs": [
    {
     "data": {
      "text/plain": [
       "('ASRL1::INSTR',\n",
       " 'GPIB0::15::INSTR',\n",
       " 'GPIB1::1::INSTR',\n",
       " 'GPIB1::7::INSTR',\n",
       " 'GPIB1::8::INSTR',\n",
       " 'GPIB1::12::INSTR',\n",
       " 'GPIB1::13::INSTR',\n",
       " 'GPIB1::23::INSTR')"
      ]
     },
     "execution_count": 4,
     "metadata": {},
     "output_type": "execute_result"
    }
   ],
   "source": [
    "rm = visa.ResourceManager()\n",
    "rm.list_resources()"
   ]
  },
  {
   "cell_type": "code",
   "execution_count": 190,
   "metadata": {},
   "outputs": [],
   "source": []
  },
  {
   "cell_type": "code",
   "execution_count": 191,
   "metadata": {},
   "outputs": [
    {
     "data": {
      "text/plain": [
       "(6, <StatusCode.success: 0>)"
      ]
     },
     "execution_count": 191,
     "metadata": {},
     "output_type": "execute_result"
    }
   ],
   "source": [
    "#volt.write(\"*RST\")"
   ]
  },
  {
   "cell_type": "code",
   "execution_count": 4,
   "metadata": {},
   "outputs": [],
   "source": [
    "#switch\n",
    "ac_6221_id = 12\n",
    "dc_2400_id = 23\n",
    "nanovolt_id = 1\n",
    "\n",
    "ac = rm.open_resource('GPIB1::{}::INSTR'.format(ac_6221_id))\n",
    "dc = Keithley2400(\"GPIB1::{}\".format(dc_2400_id))\n",
    "volt = rm.open_resource('GPIB1::{}::INSTR'.format(nanovolt_id))"
   ]
  },
  {
   "cell_type": "code",
   "execution_count": null,
   "metadata": {},
   "outputs": [],
   "source": [
    "#volt.write(\":sens:volt:chan2:rang 0.8\")"
   ]
  },
  {
   "cell_type": "code",
   "execution_count": 5,
   "metadata": {},
   "outputs": [],
   "source": [
    "def trigger_ac(ac, offs=0.005, amp=1e-6, duration=0.005, wait_after_arm=2):\n",
    "    ac.write(\"SOUR:WAVE:ABOR\")\n",
    "    ac.write(\"SOUR:WAVE:OFFS {}\".format(offs))\n",
    "    ac.write(\"SOUR:WAVE:AMPL {}\".format(amp))\n",
    "    ac.write(\"SOUR:WAVE:DUR:TIME {}\".format(duration))\n",
    "    ac.write(\"SOUR:WAVE:ARM\")\n",
    "    time.sleep(wait_after_arm)\n",
    "    ac.write(\"SOUR:WAVE:INIT\")"
   ]
  },
  {
   "cell_type": "code",
   "execution_count": 6,
   "metadata": {},
   "outputs": [],
   "source": [
    "def init_switch_communication(ac=ac, dc=dc, volt=volt):\n",
    "    \n",
    "    dc.apply_current()# Sets up to source current\n",
    "    dc.source_current_range = 10e-3   # Sets the source current range to 10 mA\n",
    "    dc.compliance_voltage = 10        # Sets the compliance voltage to 10 V\n",
    "    dc.source_current = 100e-6            # Sets the source current to 0.1 mA\n",
    "    dc.enable_source() \n",
    "    #print(\"enable dc1 current now, current:\" + str(dc))\n",
    "    print(\"check nano volt 1:\")\n",
    "    \n",
    "    for i in range(10):\n",
    "        if i > 6:\n",
    "            print(volt.query(\"fetch?\"))\n",
    "        time.sleep(0.1)\n",
    "        \n",
    "    time.sleep(1)\n",
    "    dc.shutdown()   \n",
    "    print(\"dc1 current disabled\")\n",
    "    \n",
    "    print(\"check ac_1: offerset 50uA, amp1uA, duration 3s\")\n",
    "    trigger_ac(ac, offs=0.00005, amp=1e-6, duration=3, wait_after_arm=2)\n",
    "    time.sleep(1)\n"
   ]
  },
  {
   "cell_type": "code",
   "execution_count": 7,
   "metadata": {},
   "outputs": [
    {
     "name": "stdout",
     "output_type": "stream",
     "text": [
      "check nano volt 1:\n",
      "+9.81433832E-06\n",
      "\n",
      "+9.81433832E-06\n",
      "\n",
      "+9.81433832E-06\n",
      "\n",
      "dc1 current disabled\n",
      "check ac_1: offerset 50uA, amp1uA, duration 3s\n"
     ]
    }
   ],
   "source": [
    "init_switch_communication()"
   ]
  },
  {
   "cell_type": "code",
   "execution_count": 11,
   "metadata": {},
   "outputs": [],
   "source": []
  },
  {
   "cell_type": "code",
   "execution_count": 40,
   "metadata": {
    "collapsed": true
   },
   "outputs": [
    {
     "name": "stdout",
     "output_type": "stream",
     "text": [
      "check ac_1: offerset 50uA, amp1uA, duration 10s\n",
      "check ac_2: offerset 50uA, amp1uA, duration 10s\n",
      "check ac_mid: offerset 50uA, amp1uA, duration 10s\n",
      "enable dc current now, current:<pymeasure.instruments.keithley.keithley2400.Keithley2400 object at 0x0000000004BE8F60>\n",
      "check nano volt:\n",
      "-2.80284775E-07\n",
      "\n",
      "-8.83834280E-05\n",
      "\n",
      "-8.83774182E-05\n",
      "\n",
      "-8.83972507E-05\n",
      "\n",
      "-8.83089059E-05\n",
      "\n",
      "-8.82824626E-05\n",
      "\n",
      "-8.83954477E-05\n",
      "\n",
      "-8.83581867E-05\n",
      "\n",
      "-8.82878715E-05\n",
      "\n",
      "-8.82091425E-05\n",
      "\n",
      "dc current disabled\n"
     ]
    }
   ],
   "source": [
    "init_communication()"
   ]
  },
  {
   "cell_type": "code",
   "execution_count": 8,
   "metadata": {},
   "outputs": [],
   "source": [
    "def measure_resistance(dc, volt, dc_current=100e-6, measure_points=30, skip_points=10, time_per_point=0.1):\n",
    "    dc.apply_current()  # Sets up to source current\n",
    "    dc.source_current_range = 10e-3   # Sets the source current range to 10 mA\n",
    "    dc.compliance_voltage = 10        # Sets the compliance voltage to 10 V\n",
    "    dc.source_current = dc_current            # Sets the source current to 0 mA\n",
    "    dc.enable_source() \n",
    "    v_up = []\n",
    "    for i in range(30):  # apply positive current\n",
    "        time.sleep(time_per_point)\n",
    "        if i < skip_points:\n",
    "            continue\n",
    "        v_up.append(float(volt.query(\"fetch?\")))\n",
    "    v_up = sorted(v_up)\n",
    "    v_up = v_up[3: -3]\n",
    "    # Sets the compliance voltage to 10 V\n",
    "    dc.source_current = -1 * dc_current\n",
    "    dc.enable_source() \n",
    "    \n",
    "    v_down = []\n",
    "    for i in range(measure_points):   # apply negative current\n",
    "        time.sleep(time_per_point)\n",
    "        if i < skip_points:\n",
    "            continue\n",
    "        v_down.append(float(volt.query(\"fetch?\")))\n",
    "    \n",
    "    dc.shutdown() \n",
    "    #dc.source_current = dc_current\n",
    "    #dc.enable_source() \n",
    "    \n",
    "    v_down = sorted(v_down)\n",
    "    v_down = v_down[3: -3]\n",
    "    \n",
    "    average_v = (np.array(v_up).mean() - np.array(v_down).mean())/2\n",
    "    average_v = np.array(v_up).mean()\n",
    "    std_v = (np.array(v_up).std() + np.array(v_down).std())/2\n",
    "    std_v = np.array(v_up).std()\n",
    "    return average_v, std_v"
   ]
  },
  {
   "cell_type": "code",
   "execution_count": 9,
   "metadata": {},
   "outputs": [],
   "source": [
    "def generate_current(currents, steps, reversed=False):\n",
    "    res = []\n",
    "    currents = [int(i * N) for i in currents]\n",
    "    steps = [int(i * N) for i in steps]\n",
    "    #res += list(range(0, currents[0], steps[0]))  \n",
    "    assert (len(currents) == len(steps))\n",
    "    for i in range(len(currents)):\n",
    "        res.extend([f for f in range(currents[i], currents[i + 1] if i+1 < len(currents) else 0, \n",
    "                                     -1 * steps[i])])\n",
    "    res = res + [0] + [-1 * f for f in res[::-1]]\n",
    "    res += res[::-1][1:]\n",
    "    res = list(range(0, currents[0], steps[0])) + res\n",
    "    if reversed:\n",
    "        return [-1* i / N for i in res] \n",
    "    else:\n",
    "        return [i / N for i in res] \n"
   ]
  },
  {
   "cell_type": "code",
   "execution_count": 10,
   "metadata": {},
   "outputs": [],
   "source": [
    "def switch_measurement(sample_id='', currents=[], dc_current=100e-6, duration=0.001, pulse_count=2,\n",
    "                        wait_after_trigger=15, wait_after_hall=2, dc=dc, volt=volt, ac=ac):\n",
    "    file_name = \"data/{}_{}ms_wait{}s_{}.csv\".format(sample_id,  \n",
    "                                                                   int(duration * 1e3), \n",
    "                                                                   wait_after_trigger, \n",
    "                                                                   int(time.time()))\n",
    "    with open(file_name, 'w') as f:\n",
    "        f.write(\"Pulse_I,average_v, std_v, dc_current\\n\")\n",
    "\n",
    "    for i in currents:\n",
    "        for _ in range(pulse_count):\n",
    "            #print(\"current pulse: {}mA\".format(i*1000))\n",
    "            trigger_ac(ac, offs=i, duration=duration)\n",
    "            time.sleep(wait_after_trigger)\n",
    "            average_v, std_v = measure_resistance(dc=dc, volt=volt, dc_current=dc_current)\n",
    "            with open(file_name, 'a') as f:\n",
    "                f.write(\"{},{},{},{}\\n\".format(i, average_v, std_v, dc_current))\n",
    "            print(\"current pulse: {}mA -> Rxy: {}mV\".format(i*1000, average_v*1000))\n",
    "            time.sleep(wait_after_hall)\n"
   ]
  },
  {
   "cell_type": "code",
   "execution_count": 23,
   "metadata": {},
   "outputs": [
    {
     "name": "stdout",
     "output_type": "stream",
     "text": [
      "[0.0, -0.005, 0.0, 0.005, 0.0, -0.005]\n"
     ]
    }
   ],
   "source": [
    "do_task_single = True\n",
    "current = [5e-3]\n",
    "steps = [10e-3]\n",
    "currents = generate_current(current, steps, True)\n",
    "print(currents)"
   ]
  },
  {
   "cell_type": "code",
   "execution_count": 22,
   "metadata": {
    "scrolled": true
   },
   "outputs": [
    {
     "name": "stdout",
     "output_type": "stream",
     "text": [
      "current pulse: 0.0mA -> Rxy: 0.009233611374999999mV\n",
      "current pulse: -10.0mA -> Rxy: 0.009243680102857144mV\n",
      "current pulse: -20.0mA -> Rxy: 0.009226663131428572mV\n",
      "current pulse: -30.0mA -> Rxy: 0.009716046399285715mV\n",
      "current pulse: -40.0mA -> Rxy: -0.015870143235714285mV\n",
      "current pulse: -50.0mA -> Rxy: -0.07594743595714284mV\n",
      "current pulse: -40.0mA -> Rxy: 9.899999999999999e+40mV\n",
      "current pulse: -30.0mA -> Rxy: 9.899999999999999e+40mV\n"
     ]
    },
    {
     "ename": "KeyboardInterrupt",
     "evalue": "",
     "output_type": "error",
     "traceback": [
      "\u001b[1;31m---------------------------------------------------------------------------\u001b[0m",
      "\u001b[1;31mKeyboardInterrupt\u001b[0m                         Traceback (most recent call last)",
      "\u001b[1;32m<ipython-input-22-742165a77df8>\u001b[0m in \u001b[0;36m<module>\u001b[1;34m\u001b[0m\n\u001b[0;32m      3\u001b[0m     \u001b[1;32mraise\u001b[0m\u001b[1;33m\u001b[0m\u001b[1;33m\u001b[0m\u001b[0m\n\u001b[0;32m      4\u001b[0m \u001b[1;33m\u001b[0m\u001b[0m\n\u001b[1;32m----> 5\u001b[1;33m switch_measurement(sample_id='CoFeGd_Grad_40Oe', currents=currents, dc_current=100e-6, duration=0.001,\n\u001b[0m\u001b[0;32m      6\u001b[0m                    wait_after_trigger=0.2, wait_after_hall=0.2, dc=dc, volt=volt, ac=ac,pulse_count=1)\n\u001b[0;32m      7\u001b[0m \u001b[1;33m\u001b[0m\u001b[0m\n",
      "\u001b[1;32m<ipython-input-10-cb759bb9f19b>\u001b[0m in \u001b[0;36mswitch_measurement\u001b[1;34m(sample_id, currents, dc_current, duration, pulse_count, wait_after_trigger, wait_after_hall, dc, volt, ac)\u001b[0m\n\u001b[0;32m     13\u001b[0m             \u001b[0mtrigger_ac\u001b[0m\u001b[1;33m(\u001b[0m\u001b[0mac\u001b[0m\u001b[1;33m,\u001b[0m \u001b[0moffs\u001b[0m\u001b[1;33m=\u001b[0m\u001b[0mi\u001b[0m\u001b[1;33m,\u001b[0m \u001b[0mduration\u001b[0m\u001b[1;33m=\u001b[0m\u001b[0mduration\u001b[0m\u001b[1;33m)\u001b[0m\u001b[1;33m\u001b[0m\u001b[1;33m\u001b[0m\u001b[0m\n\u001b[0;32m     14\u001b[0m             \u001b[0mtime\u001b[0m\u001b[1;33m.\u001b[0m\u001b[0msleep\u001b[0m\u001b[1;33m(\u001b[0m\u001b[0mwait_after_trigger\u001b[0m\u001b[1;33m)\u001b[0m\u001b[1;33m\u001b[0m\u001b[1;33m\u001b[0m\u001b[0m\n\u001b[1;32m---> 15\u001b[1;33m             \u001b[0maverage_v\u001b[0m\u001b[1;33m,\u001b[0m \u001b[0mstd_v\u001b[0m \u001b[1;33m=\u001b[0m \u001b[0mmeasure_resistance\u001b[0m\u001b[1;33m(\u001b[0m\u001b[0mdc\u001b[0m\u001b[1;33m=\u001b[0m\u001b[0mdc\u001b[0m\u001b[1;33m,\u001b[0m \u001b[0mvolt\u001b[0m\u001b[1;33m=\u001b[0m\u001b[0mvolt\u001b[0m\u001b[1;33m,\u001b[0m \u001b[0mdc_current\u001b[0m\u001b[1;33m=\u001b[0m\u001b[0mdc_current\u001b[0m\u001b[1;33m)\u001b[0m\u001b[1;33m\u001b[0m\u001b[1;33m\u001b[0m\u001b[0m\n\u001b[0m\u001b[0;32m     16\u001b[0m             \u001b[1;32mwith\u001b[0m \u001b[0mopen\u001b[0m\u001b[1;33m(\u001b[0m\u001b[0mfile_name\u001b[0m\u001b[1;33m,\u001b[0m \u001b[1;34m'a'\u001b[0m\u001b[1;33m)\u001b[0m \u001b[1;32mas\u001b[0m \u001b[0mf\u001b[0m\u001b[1;33m:\u001b[0m\u001b[1;33m\u001b[0m\u001b[1;33m\u001b[0m\u001b[0m\n\u001b[0;32m     17\u001b[0m                 \u001b[0mf\u001b[0m\u001b[1;33m.\u001b[0m\u001b[0mwrite\u001b[0m\u001b[1;33m(\u001b[0m\u001b[1;34m\"{},{},{},{}\\n\"\u001b[0m\u001b[1;33m.\u001b[0m\u001b[0mformat\u001b[0m\u001b[1;33m(\u001b[0m\u001b[0mi\u001b[0m\u001b[1;33m,\u001b[0m \u001b[0maverage_v\u001b[0m\u001b[1;33m,\u001b[0m \u001b[0mstd_v\u001b[0m\u001b[1;33m,\u001b[0m \u001b[0mdc_current\u001b[0m\u001b[1;33m)\u001b[0m\u001b[1;33m)\u001b[0m\u001b[1;33m\u001b[0m\u001b[1;33m\u001b[0m\u001b[0m\n",
      "\u001b[1;32m<ipython-input-8-e83249a680de>\u001b[0m in \u001b[0;36mmeasure_resistance\u001b[1;34m(dc, volt, dc_current, measure_points, skip_points, time_per_point)\u001b[0m\n\u001b[0;32m      7\u001b[0m     \u001b[0mv_up\u001b[0m \u001b[1;33m=\u001b[0m \u001b[1;33m[\u001b[0m\u001b[1;33m]\u001b[0m\u001b[1;33m\u001b[0m\u001b[1;33m\u001b[0m\u001b[0m\n\u001b[0;32m      8\u001b[0m     \u001b[1;32mfor\u001b[0m \u001b[0mi\u001b[0m \u001b[1;32min\u001b[0m \u001b[0mrange\u001b[0m\u001b[1;33m(\u001b[0m\u001b[1;36m30\u001b[0m\u001b[1;33m)\u001b[0m\u001b[1;33m:\u001b[0m  \u001b[1;31m# apply positive current\u001b[0m\u001b[1;33m\u001b[0m\u001b[1;33m\u001b[0m\u001b[0m\n\u001b[1;32m----> 9\u001b[1;33m         \u001b[0mtime\u001b[0m\u001b[1;33m.\u001b[0m\u001b[0msleep\u001b[0m\u001b[1;33m(\u001b[0m\u001b[0mtime_per_point\u001b[0m\u001b[1;33m)\u001b[0m\u001b[1;33m\u001b[0m\u001b[1;33m\u001b[0m\u001b[0m\n\u001b[0m\u001b[0;32m     10\u001b[0m         \u001b[1;32mif\u001b[0m \u001b[0mi\u001b[0m \u001b[1;33m<\u001b[0m \u001b[0mskip_points\u001b[0m\u001b[1;33m:\u001b[0m\u001b[1;33m\u001b[0m\u001b[1;33m\u001b[0m\u001b[0m\n\u001b[0;32m     11\u001b[0m             \u001b[1;32mcontinue\u001b[0m\u001b[1;33m\u001b[0m\u001b[1;33m\u001b[0m\u001b[0m\n",
      "\u001b[1;31mKeyboardInterrupt\u001b[0m: "
     ]
    }
   ],
   "source": [
    "# single measurement\n",
    "if not do_task_single:\n",
    "    raise\n",
    "\n",
    "switch_measurement(sample_id='CoFeGd_Grad_40Oe', currents=currents, dc_current=100e-6, duration=0.001,\n",
    "                   wait_after_trigger=0.2, wait_after_hall=0.2, dc=dc, volt=volt, ac=ac,pulse_count=1)\n",
    "\n",
    "do_task_single = False\n"
   ]
  },
  {
   "cell_type": "code",
   "execution_count": 1,
   "metadata": {},
   "outputs": [],
   "source": [
    "def generate_max_c(max_c, min_c, steps):\n",
    "    res = list(range(int(min_c*N ), int(max_c*N ), int(steps * N)))\n",
    "    return [i/ N  for i in res] + [max_c]"
   ]
  },
  {
   "cell_type": "code",
   "execution_count": 4,
   "metadata": {},
   "outputs": [
    {
     "name": "stdout",
     "output_type": "stream",
     "text": [
      "[0.005, 0.007, 0.009, 0.01]\n"
     ]
    }
   ],
   "source": [
    "do_task_muti = True\n",
    "max_c_max = 10e-3\n",
    "min_c_max = 5e-3\n",
    "max_steps = 2e-3\n",
    "measure_steps = [1e-3]\n",
    "max_currents = generate_max_c(max_c_max, min_c_max, max_steps)\n",
    "print(max_currents)"
   ]
  },
  {
   "cell_type": "code",
   "execution_count": 7,
   "metadata": {},
   "outputs": [
    {
     "name": "stdout",
     "output_type": "stream",
     "text": [
      "[0.0, 0.001, 0.002, 0.003, 0.004, 0.005, 0.004, 0.003, 0.002, 0.001, 0.0, -0.001, -0.002, -0.003, -0.004, -0.005, -0.004, -0.003, -0.002, -0.001, 0.0, 0.001, 0.002, 0.003, 0.004, 0.005]\n",
      "[0.0, 0.001, 0.002, 0.003, 0.004, 0.005, 0.006, 0.007, 0.006, 0.005, 0.004, 0.003, 0.002, 0.001, 0.0, -0.001, -0.002, -0.003, -0.004, -0.005, -0.006, -0.007, -0.006, -0.005, -0.004, -0.003, -0.002, -0.001, 0.0, 0.001, 0.002, 0.003, 0.004, 0.005, 0.006, 0.007]\n",
      "[0.0, 0.001, 0.002, 0.003, 0.004, 0.005, 0.006, 0.007, 0.008, 0.009, 0.008, 0.007, 0.006, 0.005, 0.004, 0.003, 0.002, 0.001, 0.0, -0.001, -0.002, -0.003, -0.004, -0.005, -0.006, -0.007, -0.008, -0.009, -0.008, -0.007, -0.006, -0.005, -0.004, -0.003, -0.002, -0.001, 0.0, 0.001, 0.002, 0.003, 0.004, 0.005, 0.006, 0.007, 0.008, 0.009]\n",
      "[0.0, 0.001, 0.002, 0.003, 0.004, 0.005, 0.006, 0.007, 0.008, 0.009, 0.01, 0.009, 0.008, 0.007, 0.006, 0.005, 0.004, 0.003, 0.002, 0.001, 0.0, -0.001, -0.002, -0.003, -0.004, -0.005, -0.006, -0.007, -0.008, -0.009, -0.01, -0.009, -0.008, -0.007, -0.006, -0.005, -0.004, -0.003, -0.002, -0.001, 0.0, 0.001, 0.002, 0.003, 0.004, 0.005, 0.006, 0.007, 0.008, 0.009, 0.01]\n"
     ]
    }
   ],
   "source": [
    "# muti measurement\n",
    "if not do_task_muti:\n",
    "    raise\n",
    "\n",
    "for max_current in max_currents:\n",
    "    current = [max_current]\n",
    "    currents = generate_current(current, measure_steps)\n",
    "    print(currents)\n",
    "    continue\n",
    "    switch_measurement(sample_id='test', currents=currents, dc_current=100e-6, duration=0.001,\n",
    "                   wait_after_trigger=15, wait_after_hall=2, dc=dc, volt=volt, ac=ac)\n",
    "\n",
    "do_task_muti = False\n",
    "\n"
   ]
  },
  {
   "cell_type": "code",
   "execution_count": null,
   "metadata": {},
   "outputs": [],
   "source": []
  }
 ],
 "metadata": {
  "kernelspec": {
   "display_name": "Python 3",
   "language": "python",
   "name": "python3"
  },
  "language_info": {
   "codemirror_mode": {
    "name": "ipython",
    "version": 3
   },
   "file_extension": ".py",
   "mimetype": "text/x-python",
   "name": "python",
   "nbconvert_exporter": "python",
   "pygments_lexer": "ipython3",
   "version": "3.8.8"
  }
 },
 "nbformat": 4,
 "nbformat_minor": 1
}
