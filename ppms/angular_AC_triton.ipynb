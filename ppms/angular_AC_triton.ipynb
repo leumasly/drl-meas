{
 "cells": [
  {
   "cell_type": "code",
   "execution_count": 1,
   "metadata": {},
   "outputs": [],
   "source": [
    "import visa\n",
    "import time\n",
    "import numpy as np\n",
    "import pymeasure\n",
    "from pymeasure.instruments.keithley import Keithley2400\n",
    "import pandas as pd\n",
    "import matplotlib.pyplot as plt\n",
    "import datetime\n",
    "\n",
    "import subprocess\n",
    "def get_position():\n",
    "    result = subprocess.check_output([r'C:\\Program Files\\IronPython 2.7\\ipy.exe', \n",
    "                                      r'C:\\Users\\yanglabuser\\Desktop\\Sam files\\_switch\\ppms-master\\ppms_position.py'])\n",
    "\n",
    "    current_p = round(float(result.decode('utf-8').strip().split(',')[1][:-1]))\n",
    "    return current_p\n",
    "\n",
    "def set_T(t=300):\n",
    "    if t < 2 or t > 400:\n",
    "        raise\n",
    "    result = subprocess.check_output([r'C:\\Program Files\\IronPython 2.7\\ipy.exe', \n",
    "                                      r'C:\\Users\\yanglabuser\\Desktop\\Sam files\\_switch\\ppms-master\\ppms.py', str(t)])\n",
    "\n",
    "    current_t = result.decode('utf-8').strip()\n",
    "    if abs(float(current_t)-t)<1:\n",
    "        print(\"current T {}\".format(current_t))\n",
    "        return\n",
    "    else:\n",
    "        print(\"set t:\")\n",
    "        print(t)\n",
    "        print(\"current t:\")\n",
    "        print(current_t)\n",
    "        raise\n",
    "\n",
    "\n",
    "\n",
    "\n",
    "def set_Field(field=0, persistent=False):\n",
    "    if abs(field) > 140000:\n",
    "        raise\n",
    "    if persistent:\n",
    "        result = subprocess.check_output([r'C:\\Program Files\\IronPython 2.7\\ipy.exe', \n",
    "                                      r'C:\\Users\\yanglabuser\\Desktop\\Sam files\\_switch\\ppms-master\\ppms_set_field.py',\n",
    "                                          str(field), str('persistent')])\n",
    "    else:\n",
    "        result = subprocess.check_output([r'C:\\Program Files\\IronPython 2.7\\ipy.exe', \n",
    "                                          r'C:\\Users\\yanglabuser\\Desktop\\Sam files\\_switch\\ppms-master\\ppms_set_field.py', \n",
    "                                          str(field)])\n",
    "\n",
    "    current_field = result.decode('utf-8').strip()\n",
    "    print(current_field)\n",
    "    if abs(float(current_field)-field)<2:\n",
    "        print(\"current field {}\".format(current_field))\n",
    "        return\n",
    "    else:\n",
    "        print(\"set field:\")\n",
    "        print(field)\n",
    "        print(\"current t:\")\n",
    "        print(current_field)\n",
    "        raise\n",
    "        \n",
    "sensitivity = {1:0, 0.1:3, 0.01:6, 0.001:9, 0.5:1, 0.00005:13,\n",
    "               0.0001:12, 0.00001:15, 0.000001:18, 0.0002:11, 0.05:4, 0.00002:14}\n",
    "\n",
    "def set_position(p):\n",
    "    if p >360 and p < -10:\n",
    "        raise\n",
    "    subprocess.check_output([r'C:\\Program Files\\IronPython 2.7\\ipy.exe', \n",
    "                                      r'C:\\Users\\yanglabuser\\Desktop\\Sam files\\_switch\\ppms-master\\ppms_move_p.py',\n",
    "                                          str(p)])\n"
   ]
  },
  {
   "cell_type": "code",
   "execution_count": 3,
   "metadata": {},
   "outputs": [],
   "source": [
    "import lakeshore"
   ]
  },
  {
   "cell_type": "code",
   "execution_count": 27,
   "metadata": {},
   "outputs": [],
   "source": [
    "import time\n",
    "import numpy as np\n",
    "import lakeshore\n",
    "\n",
    "#head = lakeshore.SSMSystem()\n",
    "current_source = head.get_source_pod(1)\n",
    "voltage_pod_1 = head.get_measure_pod(1)\n",
    "voltage_pod_2 = head.get_measure_pod(2)\n",
    "voltage_pod_3 = head.get_measure_pod(3)\n",
    "\n",
    "# Configure current source pod\n",
    "excitation_current_frequency = 17.3\n",
    "excitation_current_amplitude = 150E-6\n",
    "dc_current_level = 0.0\n",
    "current_source.configure_i_range(autorange=False, max_level=excitation_current_amplitude)\n",
    "current_source.use_dc_coupling()\n",
    "current_source.apply_ac_current(excitation_current_frequency, excitation_current_amplitude, dc_current_level)\n",
    "\n",
    "\n",
    "def lock_in_measure(pod, count=10, time_step=0.1, wait_before_measure=3, harm=2, sens=0.00001, time_constant=1.0):\n",
    "    # Setup voltage measurement pod\n",
    "    pod.setup_lock_in_measurement(reference_source='S1', time_constant=time_constant, reference_harmonic=harm)\n",
    "    pod.configure_voltage_range(autorange=False, max_level=sens)\n",
    "\n",
    "    time.sleep(wait_before_measure)\n",
    "\n",
    "    xs, ys, rs, thetas = [], [], [], []\n",
    "    for i in range(count):\n",
    "        xs.append(pod.get_lock_in_x())\n",
    "        ys.append(pod.get_lock_in_y())\n",
    "        rs.append(pod.get_lock_in_magnitude())\n",
    "        thetas.append(pod.get_lock_in_angle())\n",
    "\n",
    "        time.sleep(time_step)\n",
    "\n",
    "    x_mean, x_std = np.mean(xs), np.std(xs)\n",
    "    y_mean, y_std = np.mean(ys), np.std(ys)\n",
    "    r_mean, r_std = np.mean(rs), np.std(rs)\n",
    "    theta_mean, theta_std = np.mean(thetas), np.std(thetas)\n",
    "\n",
    "    return x_mean, y_mean, r_mean, theta_mean, \\\n",
    "           x_std, y_std, r_std, theta_std\n",
    "\n",
    "\n",
    "# Example calls:\n",
    "res1 = lock_in_measure(voltage_pod_1, harm=1, sens=0.01)\n",
    "res3 = lock_in_measure(voltage_pod_3, harm=2, sens=0.01)"
   ]
  },
  {
   "cell_type": "markdown",
   "metadata": {},
   "source": [
    "#Check 6221 compliance, Check 2400 output off state"
   ]
  },
  {
   "cell_type": "code",
   "execution_count": 16,
   "metadata": {},
   "outputs": [
    {
     "data": {
      "text/plain": [
       "(0.04069341545936058,\n",
       " -9.765210180337539e-05,\n",
       " 0.038269783700157295,\n",
       " -0.0024953103718271478,\n",
       " 0.018920124884168703,\n",
       " 4.6272405383153214e-05,\n",
       " 0.01795202541943751,\n",
       " 7.060433596716998e-05)"
      ]
     },
     "execution_count": 16,
     "metadata": {},
     "output_type": "execute_result"
    }
   ],
   "source": [
    "res1"
   ]
  },
  {
   "cell_type": "code",
   "execution_count": 17,
   "metadata": {},
   "outputs": [
    {
     "data": {
      "text/plain": [
       "(-6.495659873264239e-08,\n",
       " 1.8029670214524412e-06,\n",
       " 1.8041505662701964e-06,\n",
       " 1.6069760649813378,\n",
       " 4.284191185689004e-09,\n",
       " 3.013768906904261e-09,\n",
       " 2.8457500887928906e-09,\n",
       " 0.0020937138280751966)"
      ]
     },
     "execution_count": 17,
     "metadata": {},
     "output_type": "execute_result"
    }
   ],
   "source": [
    "res3"
   ]
  },
  {
   "cell_type": "code",
   "execution_count": 32,
   "metadata": {},
   "outputs": [],
   "source": [
    "current_source.apply_ac_current(excitation_current_frequency, 0, dc_current_level)"
   ]
  },
  {
   "cell_type": "code",
   "execution_count": 18,
   "metadata": {},
   "outputs": [
    {
     "name": "stdout",
     "output_type": "stream",
     "text": [
      "2020-02-11 14:25:30.366651\n"
     ]
    }
   ],
   "source": [
    "import datetime\n",
    "print(datetime.datetime.now())"
   ]
  },
  {
   "cell_type": "code",
   "execution_count": 19,
   "metadata": {},
   "outputs": [],
   "source": [
    "import os"
   ]
  },
  {
   "cell_type": "code",
   "execution_count": 20,
   "metadata": {},
   "outputs": [
    {
     "name": "stdout",
     "output_type": "stream",
     "text": [
      "C:\\Users\\Admin\\Desktop\\Sam files\\_switch\n"
     ]
    }
   ],
   "source": [
    "print(os.getcwd())"
   ]
  },
  {
   "cell_type": "code",
   "execution_count": 5,
   "metadata": {},
   "outputs": [
    {
     "data": {
      "text/plain": [
       "('ASRL3::INSTR', 'ASRL10::INSTR')"
      ]
     },
     "execution_count": 5,
     "metadata": {},
     "output_type": "execute_result"
    }
   ],
   "source": [
    "rm = visa.ResourceManager()\n",
    "rm.list_resources()"
   ]
  },
  {
   "cell_type": "code",
   "execution_count": 6,
   "metadata": {},
   "outputs": [],
   "source": []
  },
  {
   "cell_type": "code",
   "execution_count": 8,
   "metadata": {},
   "outputs": [
    {
     "data": {
      "text/plain": [
       "(-0.0010672429344, -2.7712251267e-06, 0.0010672467761, -179.85116577)"
      ]
     },
     "execution_count": 8,
     "metadata": {},
     "output_type": "execute_result"
    }
   ],
   "source": [
    "lock.lock_in_read()"
   ]
  },
  {
   "cell_type": "code",
   "execution_count": 14,
   "metadata": {},
   "outputs": [],
   "source": []
  },
  {
   "cell_type": "code",
   "execution_count": 9,
   "metadata": {},
   "outputs": [],
   "source": []
  },
  {
   "cell_type": "code",
   "execution_count": 10,
   "metadata": {},
   "outputs": [],
   "source": []
  },
  {
   "cell_type": "code",
   "execution_count": 11,
   "metadata": {},
   "outputs": [],
   "source": []
  },
  {
   "cell_type": "code",
   "execution_count": 28,
   "metadata": {},
   "outputs": [],
   "source": [
    "def lock_angular_measurement_set_p(positions, lock, first_range=0.01, second_range=0.00001, time_step=0.1,\n",
    "                             input_I =0.001, wait_before_measure=30, \n",
    "                             lock_count=10, sample_id=\"Fe2O3\",  \n",
    "                             time_after_move=10, time_out_count = 60*5):\n",
    "    filename = \"./data/\" + sample_id + \"_{}.csv\".format(int(time.time()))\n",
    "    with open(filename, 'w') as f:\n",
    "        f.write(\"x,y,r,theta,std_x,std_y,std_r,std_theta,x2,y2,r2,theta2,std_x2,std_y2,std_r2,std_theta2,ac_I,POS\\n\")\n",
    "    \n",
    "    for pos in positions:\n",
    "        set_position(pos)\n",
    "        time.sleep(time_after_move)\n",
    "        print(\"current position: {}\".format(pos))\n",
    "        res1 = lock_in_measure(voltage_pod_1, harm=1, sens=0.01)\n",
    "        res2 = lock_in_measure(voltage_pod_3, harm=2, sens=0.01)\n",
    "\n",
    "        with open(filename, 'a') as f:\n",
    "            f.write(\"{},{},{},{},{},{},{},{},{},{},{},{},{},{},{},{},{},{}\\n\".format(*res1, *res2, input_I, pos))\n",
    "    set_position(0)\n",
    "    time.sleep(60)"
   ]
  },
  {
   "cell_type": "code",
   "execution_count": 29,
   "metadata": {},
   "outputs": [],
   "source": [
    "do_task = True"
   ]
  },
  {
   "cell_type": "code",
   "execution_count": 209,
   "metadata": {},
   "outputs": [],
   "source": [
    "#ps = list(range(-5, 15, 3)) + list(range(15, 165, 10)) + list(range(165, 195, 3)) + list(range(195, 346, 10))"
   ]
  },
  {
   "cell_type": "code",
   "execution_count": 14,
   "metadata": {},
   "outputs": [],
   "source": [
    "#ps = list(range(-5, 346, 10))"
   ]
  },
  {
   "cell_type": "code",
   "execution_count": 23,
   "metadata": {},
   "outputs": [],
   "source": [
    "ps = list(range(0,361,10))"
   ]
  },
  {
   "cell_type": "code",
   "execution_count": 24,
   "metadata": {},
   "outputs": [
    {
     "data": {
      "text/plain": [
       "37"
      ]
     },
     "execution_count": 24,
     "metadata": {},
     "output_type": "execute_result"
    }
   ],
   "source": [
    "len(ps)"
   ]
  },
  {
   "cell_type": "code",
   "execution_count": 30,
   "metadata": {},
   "outputs": [],
   "source": [
    "do_task = True"
   ]
  },
  {
   "cell_type": "code",
   "execution_count": 31,
   "metadata": {},
   "outputs": [
    {
     "name": "stdout",
     "output_type": "stream",
     "text": [
      "current position: 0\n",
      "current position: 10\n",
      "current position: 20\n",
      "current position: 30\n",
      "current position: 40\n",
      "current position: 50\n",
      "current position: 60\n",
      "current position: 70\n",
      "current position: 80\n",
      "current position: 90\n",
      "current position: 100\n",
      "current position: 110\n",
      "current position: 120\n",
      "current position: 130\n",
      "current position: 140\n",
      "current position: 150\n",
      "current position: 160\n",
      "current position: 170\n",
      "current position: 180\n",
      "current position: 190\n",
      "current position: 200\n",
      "current position: 210\n",
      "current position: 220\n",
      "current position: 230\n",
      "current position: 240\n",
      "current position: 250\n",
      "current position: 260\n",
      "current position: 270\n",
      "current position: 280\n",
      "current position: 290\n",
      "current position: 300\n",
      "current position: 310\n",
      "current position: 320\n",
      "current position: 330\n",
      "current position: 340\n",
      "current position: 350\n",
      "current position: 360\n",
      "-0.000416718539782\n",
      "current field -0.000416718539782\n"
     ]
    }
   ],
   "source": [
    "#rxy measurment 14, 10\n",
    "fields = [20000]\n",
    "temp = 300\n",
    "#set_T(temp)\n",
    "#time.sleep(25*60)\n",
    "if not do_task:\n",
    "    raise\n",
    "for f in fields:\n",
    "    #set_Field(f, True)\n",
    "\n",
    "    lock_angular_measurement_set_p(ps, _, sample_id=\"Triton_2nmPt_Fe2o3_30nm_test_150uA_rxy_alpha\"+ str(temp) + \"K\" + str(f)+ \"G\", \n",
    "                               first_range=0.01, second_range=0.00001,wait_before_measure=60)\n",
    "     \n",
    "set_Field(0, True)\n",
    "do_task=False"
   ]
  },
  {
   "cell_type": "code",
   "execution_count": null,
   "metadata": {},
   "outputs": [],
   "source": []
  }
 ],
 "metadata": {
  "kernelspec": {
   "display_name": "Python 3",
   "language": "python",
   "name": "python3"
  },
  "language_info": {
   "codemirror_mode": {
    "name": "ipython",
    "version": 3
   },
   "file_extension": ".py",
   "mimetype": "text/x-python",
   "name": "python",
   "nbconvert_exporter": "python",
   "pygments_lexer": "ipython3",
   "version": "3.8.1"
  }
 },
 "nbformat": 4,
 "nbformat_minor": 1
}
