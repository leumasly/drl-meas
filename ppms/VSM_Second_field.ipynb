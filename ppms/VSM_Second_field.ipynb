{
 "cells": [
  {
   "cell_type": "code",
   "execution_count": null,
   "metadata": {
    "collapsed": true
   },
   "outputs": [],
   "source": [
    "import visa\n",
    "import time\n",
    "import numpy as np\n"
   ]
  },
  {
   "cell_type": "code",
   "execution_count": 3,
   "metadata": {},
   "outputs": [
    {
     "data": {
      "text/plain": [
       "('ASRL3::INSTR',\n 'ASRL10::INSTR',\n 'GPIB0::3::INSTR',\n 'GPIB0::7::INSTR',\n 'GPIB0::12::INSTR',\n 'GPIB0::14::INSTR',\n 'GPIB0::24::INSTR')"
      ]
     },
     "execution_count": 3,
     "metadata": {},
     "output_type": "execute_result"
    }
   ],
   "source": [
    "rm = visa.ResourceManager()\n",
    "rm.list_resources()"
   ]
  },
  {
   "cell_type": "code",
   "execution_count": 32,
   "metadata": {},
   "outputs": [
    {
     "data": {
      "text/plain": [
       "0"
      ]
     },
     "execution_count": 32,
     "metadata": {},
     "output_type": "execute_result"
    }
   ],
   "source": [
    "# simple.py\n",
    "\n",
    "import wx\n",
    "\n",
    "app = wx.App()\n",
    "\n",
    "frame = wx.Frame(None, title='Simple application')\n",
    "frame.Show()\n",
    "\n",
    "app.MainLoop()"
   ]
  },
  {
   "cell_type": "code",
   "execution_count": 5,
   "metadata": {},
   "outputs": [],
   "source": [
    "vsm = rm.open_resource('GPIB0::9::INSTR')"
   ]
  },
  {
   "cell_type": "code",
   "execution_count": 4,
   "metadata": {},
   "outputs": [],
   "source": [
    "ametek7270 = rm.open_resource('USB0::0x0A2D::0x001B::09140123::RAW')\n",
    "keithley6221 = rm.open_resource('GPIB0::14::INSTR')\n",
    "guass = rm.open_resource('GPIB0::13::INSTR')"
   ]
  },
  {
   "cell_type": "code",
   "execution_count": 5,
   "metadata": {},
   "outputs": [],
   "source": [
    "def gauss_field():\n",
    "    f = guass.query(\"RDGFIELD?\")\n",
    "    f = round(float(f[:-2]) / 100) * 100\n",
    "    return f"
   ]
  },
  {
   "cell_type": "code",
   "execution_count": 7,
   "metadata": {},
   "outputs": [
    {
     "data": {
      "text/plain": [
       "1000"
      ]
     },
     "execution_count": 7,
     "metadata": {},
     "output_type": "execute_result"
    }
   ],
   "source": [
    "gauss_field()"
   ]
  },
  {
   "cell_type": "code",
   "execution_count": 23,
   "metadata": {},
   "outputs": [],
   "source": [
    "def next_stable_field(last_field=None, wait_count= 8, time_per_poind=0.5, max_wait=5*60):\n",
    "    next_fields = []\n",
    "    for i in range(int(max_wait/time_per_poind)):\n",
    "        time.sleep(time_per_poind)\n",
    "        current_field = gauss_field()\n",
    "        if current_field == last_field:\n",
    "            continue\n",
    "        else:\n",
    "            next_fields.append(current_field)\n",
    "            if next_fields[-wait_count:] == [next_fields[-1]] * wait_count:\n",
    "                return next_fields[-1]\n",
    "    print(\"wait field time out\")"
   ]
  },
  {
   "cell_type": "code",
   "execution_count": 13,
   "metadata": {},
   "outputs": [
    {
     "name": "stdout",
     "output_type": "stream",
     "text": [
      "[1000]\n1\n"
     ]
    },
    {
     "name": "stdout",
     "output_type": "stream",
     "text": [
      "[1000, 1000]\n2\n"
     ]
    },
    {
     "name": "stdout",
     "output_type": "stream",
     "text": [
      "[1000, 1000, 1000]\n3\n"
     ]
    },
    {
     "name": "stdout",
     "output_type": "stream",
     "text": [
      "[1000, 1000, 1000, 1000]\n4\n"
     ]
    },
    {
     "name": "stdout",
     "output_type": "stream",
     "text": [
      "[1000, 1000, 1000, 1000, 1000]\n5\n"
     ]
    },
    {
     "name": "stdout",
     "output_type": "stream",
     "text": [
      "[1000, 1000, 1000, 1000, 1000, 1000]\n6\n"
     ]
    },
    {
     "name": "stdout",
     "output_type": "stream",
     "text": [
      "[1000, 1000, 1000, 1000, 1000, 1000, 1000]\n7\n"
     ]
    },
    {
     "name": "stdout",
     "output_type": "stream",
     "text": [
      "[1000, 1000, 1000, 1000, 1000, 1000, 1000, 1000]\n8\n1000\n"
     ]
    }
   ],
   "source": [
    "print(next_stable_field())"
   ]
  },
  {
   "cell_type": "code",
   "execution_count": 71,
   "metadata": {},
   "outputs": [],
   "source": [
    ""
   ]
  },
  {
   "cell_type": "code",
   "execution_count": 61,
   "metadata": {},
   "outputs": [
    {
     "data": {
      "text/plain": [
       "'LSCI,MODEL455,LSA12A6,11262013\\r\\n'"
      ]
     },
     "execution_count": 61,
     "metadata": {},
     "output_type": "execute_result"
    }
   ],
   "source": [
    "guass.query(\"*IDN?\")"
   ]
  },
  {
   "cell_type": "code",
   "execution_count": 8,
   "metadata": {},
   "outputs": [],
   "source": [
    "def num_to_hex(x):\n",
    "    if x == 0:\n",
    "        return \"00000000\"\n",
    "    res = []\n",
    "    if x > 0:\n",
    "        res.append(str(0))\n",
    "    else:\n",
    "        res.append(str(8))\n",
    "    x = abs(x)\n",
    "    e = 0\n",
    "    m = x\n",
    "    while m > 2:\n",
    "        m = m / 2\n",
    "        e += 1\n",
    "\n",
    "    res.append(hex(e+1)[2:])\n",
    "    \n",
    "    m = m * 128\n",
    "    m_int = int(m)\n",
    "    m_digit = m - m_int\n",
    "    m_digit = int(m_digit * 65536)\n",
    "    \n",
    "    m_int = hex(m_int)[2:]\n",
    "    m_int = \"0\" * (2-len(m_int)) + m_int\n",
    "    m_digit = hex(m_digit)[2:]\n",
    "    m_digit = \"0\" * (4-len(m_digit)) + m_digit\n",
    "    \n",
    "    res.append(m_int)\n",
    "    res.append(m_digit)\n",
    "    res = \"\".join(res).upper()\n",
    "    assert (len(res)) == 8\n",
    "    return res"
   ]
  },
  {
   "cell_type": "code",
   "execution_count": 9,
   "metadata": {},
   "outputs": [],
   "source": [
    "def hex_to_num(s):\n",
    "    sign = s[0]\n",
    "    if sign == '0':\n",
    "        sign = 1\n",
    "    elif sign=='8':\n",
    "        sign = -1\n",
    "    else:\n",
    "        return 0\n",
    "        \n",
    "    e = int(s[1],16) - 1\n",
    "    m_int = s[2:4].lstrip('0')\n",
    "    if len(m_int) == 0:\n",
    "        m_int = '0'\n",
    "    m_int = int(m_int,16)\n",
    "    m_float = s[4:].lstrip('0')\n",
    "    if len(m_float) == 0:\n",
    "        m_float = '0'\n",
    "    m_float = int(m_float,16)\n",
    "    m = (m_int + (m_float / 65536))/128\n",
    "    res = sign * m * 2** e\n",
    "    return res"
   ]
  },
  {
   "cell_type": "code",
   "execution_count": 10,
   "metadata": {},
   "outputs": [
    {
     "data": {
      "text/plain": [
       "'08C7FD2F'"
      ]
     },
     "execution_count": 10,
     "metadata": {},
     "output_type": "execute_result"
    }
   ],
   "source": [
    "num_to_hex(199.989)"
   ]
  },
  {
   "cell_type": "code",
   "execution_count": 11,
   "metadata": {},
   "outputs": [
    {
     "data": {
      "text/plain": [
       "199.98899841308594"
      ]
     },
     "execution_count": 11,
     "metadata": {},
     "output_type": "execute_result"
    }
   ],
   "source": [
    "hex_to_num('08C7FD2F')"
   ]
  },
  {
   "cell_type": "code",
   "execution_count": 183,
   "metadata": {},
   "outputs": [
    {
     "name": "stdout",
     "output_type": "stream",
     "text": [
      "0 convert to 00000000\n1 convert to 01800000\n10 convert to 04A00000\n100 convert to 07C80000\n1000 convert to 0AFA0000\n10000 convert to 0E9C4000\n888 convert to 0ADE0000\n-10 convert to 84A00000\n-100 convert to 87C80000\n-1000 convert to 8AFA0000\n-10000 convert to 8E9C4000\n-888 convert to 8ADE0000\n"
     ]
    }
   ],
   "source": [
    "check = [0, 1, 10, 100, 1000, 10000, 888, -10, -100, -1000, -10000, -888]\n",
    "for i in check:\n",
    "    print( \"{} convert to {}\".format(i, num_to_hex(i)))"
   ]
  },
  {
   "cell_type": "code",
   "execution_count": 39,
   "metadata": {},
   "outputs": [],
   "source": [
    "def set_field(f, rate):\n",
    "    if abs(f) > 15000:\n",
    "        print(\"set field too high\")\n",
    "        raise\n",
    "    vsm.write(\"CONTR \" + num_to_hex(rate))\n",
    "    vsm.write(\"CONTO \" + num_to_hex(f))\n",
    "    check_stable()\n",
    "def read_field():\n",
    "    f = vsm.query(\"READ?\")[18:26].lower()\n",
    "    if not(len(f) == 8):\n",
    "        raise\n",
    "    f = hex_to_num(f)\n",
    "    return f"
   ]
  },
  {
   "cell_type": "code",
   "execution_count": 26,
   "metadata": {},
   "outputs": [
    {
     "data": {
      "text/plain": [
       "'2\\r\\n'"
      ]
     },
     "execution_count": 26,
     "metadata": {},
     "output_type": "execute_result"
    }
   ],
   "source": [
    "vsm.query(\"CONST?\")"
   ]
  },
  {
   "cell_type": "code",
   "execution_count": 30,
   "metadata": {},
   "outputs": [],
   "source": [
    "def check_stable(time_per_point=0.5):\n",
    "    current = [0, 0 ,0]\n",
    "    target = [2, 2, 2]\n",
    "    while True:\n",
    "        next_point = int(vsm.query(\"CONST?\")[0])\n",
    "        current.pop(0)\n",
    "        current.append(next_point)\n",
    "        if current == target:\n",
    "            return\n",
    "        time.sleep(time_per_point)"
   ]
  },
  {
   "cell_type": "code",
   "execution_count": 31,
   "metadata": {},
   "outputs": [],
   "source": [
    "check_stable()"
   ]
  },
  {
   "cell_type": "code",
   "execution_count": 33,
   "metadata": {},
   "outputs": [],
   "source": [
    "set_field(100, 1000)"
   ]
  },
  {
   "cell_type": "code",
   "execution_count": 149,
   "metadata": {},
   "outputs": [
    {
     "data": {
      "text/plain": [
       "0"
      ]
     },
     "execution_count": 149,
     "metadata": {},
     "output_type": "execute_result"
    }
   ],
   "source": [
    "read_field()"
   ]
  },
  {
   "cell_type": "code",
   "execution_count": 120,
   "metadata": {
    "collapsed": false
   },
   "outputs": [
    {
     "data": {
      "text/plain": [
       "'ffb93999'"
      ]
     },
     "execution_count": 120,
     "metadata": {},
     "output_type": "execute_result"
    }
   ],
   "source": [
    "vsm.query(\"READ?\")[18:26].lower()"
   ]
  },
  {
   "cell_type": "code",
   "execution_count": 121,
   "metadata": {},
   "outputs": [
    {
     "data": {
      "text/plain": [
       "0"
      ]
     },
     "execution_count": 121,
     "metadata": {},
     "output_type": "execute_result"
    }
   ],
   "source": [
    "hex_to_num('fdc20b94')"
   ]
  },
  {
   "cell_type": "code",
   "execution_count": 56,
   "metadata": {},
   "outputs": [],
   "source": [
    ""
   ]
  },
  {
   "cell_type": "code",
   "execution_count": 25,
   "metadata": {},
   "outputs": [],
   "source": [
    "set_field(10000, 1000)"
   ]
  },
  {
   "cell_type": "code",
   "execution_count": 187,
   "metadata": {},
   "outputs": [],
   "source": [
    "def set_and_wait(f, rate, wait_for_stable=5, wait_timeout=600, error=0.5):\n",
    "    set_field(f, rate)\n",
    "    stable_count = 0\n",
    "    i = 0\n",
    "    while i < wait_timeout and stable_count < wait_for_stable:\n",
    "        i += 1\n",
    "        if abs(read_field() - f) < error:\n",
    "            stable_count += 1\n",
    "        else:\n",
    "            stable_count = 0\n",
    "        time.sleep(1)\n",
    "    print(\"current field is: {}G\".format(read_field()))"
   ]
  },
  {
   "cell_type": "code",
   "execution_count": 60,
   "metadata": {},
   "outputs": [
    {
     "name": "stdout",
     "output_type": "stream",
     "text": [
      "current field is: 29.862655639648438G\n"
     ]
    }
   ],
   "source": [
    "set_and_wait(30, 50, wait_for_stable=5, wait_timeout=600, error=0.5)"
   ]
  },
  {
   "cell_type": "code",
   "execution_count": 15,
   "metadata": {},
   "outputs": [],
   "source": [
    "SENSITIVITIES = [\n",
    "        0.0, 2.0e-9, 5.0e-9, 10.0e-9, 20.0e-9, 50.0e-9, 100.0e-9,\n",
    "        200.0e-9, 500.0e-9, 1.0e-6, 2.0e-6, 5.0e-6, 10.0e-6,\n",
    "        20.0e-6, 50.0e-6, 100.0e-6, 200.0e-6, 500.0e-6, 1.0e-3,\n",
    "        2.0e-3, 5.0e-3, 10.0e-3, 20.0e-3, 50.0e-3, 100.0e-3,\n",
    "        200.0e-3, 500.0e-3, 1.0\n",
    "    ]\n",
    "TIME_CONSTANTS = [\n",
    "        10.0e-6, 20.0e-6, 50.0e-6, 100.0e-6, 200.0e-6, 500.0e-6,\n",
    "        1.0e-3, 2.0e-3, 5.0e-3, 10.0e-3, 20.0e-3, 50.0e-3, 100.0e-3,\n",
    "        200.0e-3, 500.0e-3, 1.0, 2.0, 5.0, 10.0, 20.0, 50.0,\n",
    "        100.0, 200.0, 500.0, 1.0e3, 2.0e3, 5.0e3, 10.0e3,\n",
    "        20.0e3, 50.0e3, 100.0e3\n",
    "    ]"
   ]
  },
  {
   "cell_type": "code",
   "execution_count": 16,
   "metadata": {},
   "outputs": [],
   "source": [
    "def init_ac(ac, freq=157, start_I=0.002, stand_by_I=0.002):\n",
    "    ac.write(\"SOUR:WAVE:ABOR\")\n",
    "    ac.write(\"SOUR:WAVE:AMPL {}\".format(start_I))\n",
    "    ac.write(\"SOUR:WAVE:FREQ {}\".format(freq))\n",
    "    ac.write(\"SOUR:WAVE:ARM\")\n",
    "    ac.write(\"SOUR:WAVE:INIT\")\n",
    "    time.sleep(3)\n",
    "    ac.write(\"SOUR:WAVE:AMPL {}\".format(stand_by_I))\n",
    "    "
   ]
  },
  {
   "cell_type": "code",
   "execution_count": 17,
   "metadata": {},
   "outputs": [],
   "source": [
    "def init_ametek(ame, time_constant=0.5, sensitivity=10.0e-6, harmonic=1):\n",
    "    ame.write(\"TC {}\".format(TIME_CONSTANTS.index(time_constant)))\n",
    "    ame.write(\"SEN {}\".format(SENSITIVITIES.index(sensitivity)))\n",
    "    ame.write(\"REFN {}\".format(harmonic))"
   ]
  },
  {
   "cell_type": "code",
   "execution_count": 18,
   "metadata": {},
   "outputs": [],
   "source": [
    "def lockin_always_on(ame, time_per_point=0.1, points_stored=5, show_data=False, skip=50):\n",
    "    X = []\n",
    "    Y = []\n",
    "    M = []\n",
    "    P = []\n",
    "    for _ in range(skip + points_stored):\n",
    "        time.sleep(time_per_point)\n",
    "        m, p = ame.query('MP.').replace(\"\\n\\x00\", \"\").split(\",\")\n",
    "        x, y = ame.query('XY.').replace(\"\\n\\x00\", \"\").split(\",\")\n",
    "        X.append(float(x))\n",
    "        Y.append(float(y))\n",
    "        M.append(float(m))\n",
    "        P.append(float(p))\n",
    "    \n",
    "    res = []\n",
    "    all_result = [X, Y, M, P]\n",
    "\n",
    "    for i in all_result:\n",
    "        i = i[-points_stored:]\n",
    "        i = np.array(i)\n",
    "        res.append(i.mean())\n",
    "        res.append(i.std())\n",
    "    if show_data:\n",
    "        print(all_result)\n",
    "    return res"
   ]
  },
  {
   "cell_type": "code",
   "execution_count": 19,
   "metadata": {},
   "outputs": [],
   "source": [
    "fileds = [14000]\n",
    "steps = [1000]"
   ]
  },
  {
   "cell_type": "code",
   "execution_count": 20,
   "metadata": {},
   "outputs": [],
   "source": [
    "def generate_fields(fileds, steps):\n",
    "    assert (len(fileds) == len(steps))\n",
    "    res = []\n",
    "    for i in range(len(fileds)):\n",
    "        res.extend([f for f in range(fileds[i], fileds[i + 1] if i+1 < len(fileds) else 0, \n",
    "                                   -1 * steps[i])])\n",
    "    res = res + [0] + [-1* f for f in res[::-1]]\n",
    "    res += res[::-1][1:]\n",
    "    return res  "
   ]
  },
  {
   "cell_type": "code",
   "execution_count": 21,
   "metadata": {
    "collapsed": true
   },
   "outputs": [
    {
     "name": "stdout",
     "output_type": "stream",
     "text": [
      "[14000, 13000, 12000, 11000, 10000, 9000, 8000, 7000, 6000, 5000, 4000, 3000, 2000, 1000, 0, -1000, -2000, -3000, -4000, -5000, -6000, -7000, -8000, -9000, -10000, -11000, -12000, -13000, -14000, -13000, -12000, -11000, -10000, -9000, -8000, -7000, -6000, -5000, -4000, -3000, -2000, -1000, 0, 1000, 2000, 3000, 4000, 5000, 6000, 7000, 8000, 9000, 10000, 11000, 12000, 13000, 14000]\n"
     ]
    }
   ],
   "source": [
    "fs = generate_fields(fileds, steps)\n",
    "print(fs)"
   ]
  },
  {
   "cell_type": "code",
   "execution_count": 37,
   "metadata": {},
   "outputs": [],
   "source": [
    "def field_depend(ame, frequency, current, points_stored, fields, skip=10,\n",
    "                 ramp_rate=50, time_per_point=0.1, sample_id=\"test\"):\n",
    "    \n",
    "    #init_ac(keith, freq=frequency, start_I=current, stand_by_I=current)\n",
    "    filename = sample_id + \"_ac_{}_on_f_{}.csv\".format(current, frequency)\n",
    "    \n",
    "    with open(filename, 'w') as f:\n",
    "        f.write(\"X,dX,Y,dY,M,dM,P,dP,Field\\n\")\n",
    "        \n",
    "    for f in fields:\n",
    "        print(\"setting {}\".format(f))\n",
    "        set_field(f, ramp_rate)\n",
    "        res = lockin_always_on(ame, time_per_point=time_per_point, \n",
    "                         points_stored=points_stored, show_data=False, skip=skip)\n",
    "        res.append(f)\n",
    "        res = [str(i) for i in res]\n",
    "        with open(filename, 'a') as file:\n",
    "            file.write(\",\".join(res) + \"\\n\")"
   ]
  },
  {
   "cell_type": "code",
   "execution_count": 46,
   "metadata": {
    "collapsed": true
   },
   "outputs": [
    {
     "name": "stdout",
     "output_type": "stream",
     "text": [
      "setting 14000\n"
     ]
    },
    {
     "name": "stdout",
     "output_type": "stream",
     "text": [
      "setting 13000\n"
     ]
    },
    {
     "name": "stdout",
     "output_type": "stream",
     "text": [
      "setting 12000\n"
     ]
    },
    {
     "name": "stdout",
     "output_type": "stream",
     "text": [
      "setting 11000\n"
     ]
    },
    {
     "name": "stdout",
     "output_type": "stream",
     "text": [
      "setting 10000\n"
     ]
    },
    {
     "name": "stdout",
     "output_type": "stream",
     "text": [
      "setting 9000\n"
     ]
    },
    {
     "name": "stdout",
     "output_type": "stream",
     "text": [
      "setting 8000\n"
     ]
    },
    {
     "name": "stdout",
     "output_type": "stream",
     "text": [
      "setting 7000\n"
     ]
    },
    {
     "name": "stdout",
     "output_type": "stream",
     "text": [
      "setting 6000\n"
     ]
    },
    {
     "name": "stdout",
     "output_type": "stream",
     "text": [
      "setting 5000\n"
     ]
    },
    {
     "name": "stdout",
     "output_type": "stream",
     "text": [
      "setting 4000\n"
     ]
    },
    {
     "name": "stdout",
     "output_type": "stream",
     "text": [
      "setting 3000\n"
     ]
    },
    {
     "name": "stdout",
     "output_type": "stream",
     "text": [
      "setting 2000\n"
     ]
    },
    {
     "name": "stdout",
     "output_type": "stream",
     "text": [
      "setting 1000\n"
     ]
    },
    {
     "name": "stdout",
     "output_type": "stream",
     "text": [
      "setting 0\n"
     ]
    },
    {
     "name": "stdout",
     "output_type": "stream",
     "text": [
      "setting -1000\n"
     ]
    },
    {
     "name": "stdout",
     "output_type": "stream",
     "text": [
      "setting -2000\n"
     ]
    },
    {
     "name": "stdout",
     "output_type": "stream",
     "text": [
      "setting -3000\n"
     ]
    },
    {
     "name": "stdout",
     "output_type": "stream",
     "text": [
      "setting -4000\n"
     ]
    },
    {
     "name": "stdout",
     "output_type": "stream",
     "text": [
      "setting -5000\n"
     ]
    },
    {
     "name": "stdout",
     "output_type": "stream",
     "text": [
      "setting -6000\n"
     ]
    },
    {
     "name": "stdout",
     "output_type": "stream",
     "text": [
      "setting -7000\n"
     ]
    },
    {
     "name": "stdout",
     "output_type": "stream",
     "text": [
      "setting -8000\n"
     ]
    },
    {
     "name": "stdout",
     "output_type": "stream",
     "text": [
      "setting -9000\n"
     ]
    },
    {
     "name": "stdout",
     "output_type": "stream",
     "text": [
      "setting -10000\n"
     ]
    },
    {
     "name": "stdout",
     "output_type": "stream",
     "text": [
      "setting -11000\n"
     ]
    },
    {
     "name": "stdout",
     "output_type": "stream",
     "text": [
      "setting -12000\n"
     ]
    },
    {
     "name": "stdout",
     "output_type": "stream",
     "text": [
      "setting -13000\n"
     ]
    },
    {
     "name": "stdout",
     "output_type": "stream",
     "text": [
      "setting -14000\n"
     ]
    },
    {
     "name": "stdout",
     "output_type": "stream",
     "text": [
      "setting -13000\n"
     ]
    },
    {
     "name": "stdout",
     "output_type": "stream",
     "text": [
      "setting -12000\n"
     ]
    },
    {
     "name": "stdout",
     "output_type": "stream",
     "text": [
      "setting -11000\n"
     ]
    },
    {
     "name": "stdout",
     "output_type": "stream",
     "text": [
      "setting -10000\n"
     ]
    },
    {
     "name": "stdout",
     "output_type": "stream",
     "text": [
      "setting -9000\n"
     ]
    },
    {
     "name": "stdout",
     "output_type": "stream",
     "text": [
      "setting -8000\n"
     ]
    },
    {
     "name": "stdout",
     "output_type": "stream",
     "text": [
      "setting -7000\n"
     ]
    },
    {
     "name": "stdout",
     "output_type": "stream",
     "text": [
      "setting -6000\n"
     ]
    },
    {
     "name": "stdout",
     "output_type": "stream",
     "text": [
      "setting -5000\n"
     ]
    },
    {
     "name": "stdout",
     "output_type": "stream",
     "text": [
      "setting -4000\n"
     ]
    },
    {
     "name": "stdout",
     "output_type": "stream",
     "text": [
      "setting -3000\n"
     ]
    },
    {
     "name": "stdout",
     "output_type": "stream",
     "text": [
      "setting -2000\n"
     ]
    },
    {
     "name": "stdout",
     "output_type": "stream",
     "text": [
      "setting -1000\n"
     ]
    },
    {
     "name": "stdout",
     "output_type": "stream",
     "text": [
      "setting 0\n"
     ]
    },
    {
     "name": "stdout",
     "output_type": "stream",
     "text": [
      "setting 1000\n"
     ]
    },
    {
     "name": "stdout",
     "output_type": "stream",
     "text": [
      "setting 2000\n"
     ]
    },
    {
     "name": "stdout",
     "output_type": "stream",
     "text": [
      "setting 3000\n"
     ]
    },
    {
     "name": "stdout",
     "output_type": "stream",
     "text": [
      "setting 4000\n"
     ]
    },
    {
     "name": "stdout",
     "output_type": "stream",
     "text": [
      "setting 5000\n"
     ]
    },
    {
     "name": "stdout",
     "output_type": "stream",
     "text": [
      "setting 6000\n"
     ]
    },
    {
     "name": "stdout",
     "output_type": "stream",
     "text": [
      "setting 7000\n"
     ]
    },
    {
     "name": "stdout",
     "output_type": "stream",
     "text": [
      "setting 8000\n"
     ]
    },
    {
     "name": "stdout",
     "output_type": "stream",
     "text": [
      "setting 9000\n"
     ]
    },
    {
     "name": "stdout",
     "output_type": "stream",
     "text": [
      "setting 10000\n"
     ]
    },
    {
     "name": "stdout",
     "output_type": "stream",
     "text": [
      "setting 11000\n"
     ]
    },
    {
     "name": "stdout",
     "output_type": "stream",
     "text": [
      "setting 12000\n"
     ]
    },
    {
     "name": "stdout",
     "output_type": "stream",
     "text": [
      "setting 13000\n"
     ]
    },
    {
     "name": "stdout",
     "output_type": "stream",
     "text": [
      "setting 14000\n"
     ]
    }
   ],
   "source": [
    "field_depend(ametek7270, frequency=57, current=0.003, points_stored=10, fields=fs, skip=10,\n",
    "                 ramp_rate=3000, time_per_point=0.2, sample_id=\"Fe2O330nm_pt2_10um_57Hz_RT_3mA\")"
   ]
  },
  {
   "cell_type": "code",
   "execution_count": 201,
   "metadata": {},
   "outputs": [],
   "source": [
    "set_field(-5000, 50)"
   ]
  },
  {
   "cell_type": "code",
   "execution_count": 22,
   "metadata": {},
   "outputs": [],
   "source": [
    "def field_depend_gauss(ame, frequency, current, points_stored, fields, skip=10,\n",
    "                 ramp_rate=50, time_per_point=0.1, sample_id=\"test\", gauss_per_point=0.5, last_field=None):\n",
    "    \n",
    "    #init_ac(keith, freq=frequency, start_I=current, stand_by_I=current)\n",
    "    filename = sample_id + \"_ac_{}_on_f_{}.csv\".format(current, frequency)\n",
    "    \n",
    "    with open(filename, 'w') as f:\n",
    "        f.write(\"X,dX,Y,dY,M,dM,P,dP,Field\\n\")\n",
    "        \n",
    "    while True:\n",
    "        f = next_stable_field(last_field)\n",
    "        last_field = f\n",
    "        print(\"current field: {}\".format(f))\n",
    "        res = lockin_always_on(ame, time_per_point=time_per_point, \n",
    "                         points_stored=points_stored, show_data=False, skip=skip)\n",
    "        res.append(f)\n",
    "        res = [str(i) for i in res]\n",
    "        with open(filename, 'a') as file:\n",
    "            file.write(\",\".join(res) + \"\\n\")"
   ]
  },
  {
   "cell_type": "code",
   "execution_count": 27,
   "metadata": {},
   "outputs": [
    {
     "name": "stdout",
     "output_type": "stream",
     "text": [
      "current field: 14800\n"
     ]
    },
    {
     "name": "stdout",
     "output_type": "stream",
     "text": [
      "wait field time out\ncurrent field: None\n"
     ]
    },
    {
     "name": "stdout",
     "output_type": "stream",
     "text": [
      "current field: 0\n"
     ]
    },
    {
     "name": "stdout",
     "output_type": "stream",
     "text": [
      "current field: 14800\n"
     ]
    },
    {
     "name": "stdout",
     "output_type": "stream",
     "text": [
      "current field: 13800\n"
     ]
    },
    {
     "name": "stdout",
     "output_type": "stream",
     "text": [
      "current field: 12800\n"
     ]
    },
    {
     "name": "stdout",
     "output_type": "stream",
     "text": [
      "current field: 11800\n"
     ]
    },
    {
     "name": "stdout",
     "output_type": "stream",
     "text": [
      "current field: 10800\n"
     ]
    },
    {
     "name": "stdout",
     "output_type": "stream",
     "text": [
      "current field: 9900\n"
     ]
    },
    {
     "name": "stdout",
     "output_type": "stream",
     "text": [
      "current field: 8900\n"
     ]
    },
    {
     "name": "stdout",
     "output_type": "stream",
     "text": [
      "current field: 7900\n"
     ]
    },
    {
     "name": "stdout",
     "output_type": "stream",
     "text": [
      "current field: 6900\n"
     ]
    },
    {
     "name": "stdout",
     "output_type": "stream",
     "text": [
      "current field: 5900\n"
     ]
    },
    {
     "name": "stdout",
     "output_type": "stream",
     "text": [
      "current field: 4900\n"
     ]
    },
    {
     "name": "stdout",
     "output_type": "stream",
     "text": [
      "current field: 3900\n"
     ]
    },
    {
     "name": "stdout",
     "output_type": "stream",
     "text": [
      "current field: 3000\n"
     ]
    },
    {
     "name": "stdout",
     "output_type": "stream",
     "text": [
      "current field: 2000\n"
     ]
    },
    {
     "name": "stdout",
     "output_type": "stream",
     "text": [
      "current field: 1000\n"
     ]
    },
    {
     "name": "stdout",
     "output_type": "stream",
     "text": [
      "current field: 0\n"
     ]
    },
    {
     "name": "stdout",
     "output_type": "stream",
     "text": [
      "current field: -1000\n"
     ]
    },
    {
     "name": "stdout",
     "output_type": "stream",
     "text": [
      "current field: -2000\n"
     ]
    },
    {
     "ename": "PermissionError",
     "evalue": "[Errno 13] Permission denied: 'Fe2O330nm_pt2_10um_57Hz_RT_5mA_150K_gauss_ac_0.003_on_f_57.csv'",
     "traceback": [
      "\u001b[0;31m---------------------------------------------------------------------------\u001b[0m",
      "\u001b[0;31mPermissionError\u001b[0m                           Traceback (most recent call last)",
      "\u001b[0;32m<ipython-input-27-29a146c29256>\u001b[0m in \u001b[0;36m<module>\u001b[0;34m()\u001b[0m\n\u001b[1;32m      1\u001b[0m field_depend_gauss(ametek7270, frequency=57, current=0.003, points_stored=10, fields=fs, skip=10,\n\u001b[0;32m----> 2\u001b[0;31m                  ramp_rate=3000, time_per_point=0.2, sample_id=\"Fe2O330nm_pt2_10um_57Hz_RT_5mA_150K_gauss\")\n\u001b[0m",
      "\u001b[0;32m<ipython-input-22-8dbd3b28180a>\u001b[0m in \u001b[0;36mfield_depend_gauss\u001b[0;34m(ame, frequency, current, points_stored, fields, skip, ramp_rate, time_per_point, sample_id, gauss_per_point, last_field)\u001b[0m\n\u001b[1;32m     16\u001b[0m         \u001b[0mres\u001b[0m\u001b[0;34m.\u001b[0m\u001b[0mappend\u001b[0m\u001b[0;34m(\u001b[0m\u001b[0mf\u001b[0m\u001b[0;34m)\u001b[0m\u001b[0;34m\u001b[0m\u001b[0m\n\u001b[1;32m     17\u001b[0m         \u001b[0mres\u001b[0m \u001b[0;34m=\u001b[0m \u001b[0;34m[\u001b[0m\u001b[0mstr\u001b[0m\u001b[0;34m(\u001b[0m\u001b[0mi\u001b[0m\u001b[0;34m)\u001b[0m \u001b[0;32mfor\u001b[0m \u001b[0mi\u001b[0m \u001b[0;32min\u001b[0m \u001b[0mres\u001b[0m\u001b[0;34m]\u001b[0m\u001b[0;34m\u001b[0m\u001b[0m\n\u001b[0;32m---> 18\u001b[0;31m         \u001b[0;32mwith\u001b[0m \u001b[0mopen\u001b[0m\u001b[0;34m(\u001b[0m\u001b[0mfilename\u001b[0m\u001b[0;34m,\u001b[0m \u001b[0;34m'a'\u001b[0m\u001b[0;34m)\u001b[0m \u001b[0;32mas\u001b[0m \u001b[0mfile\u001b[0m\u001b[0;34m:\u001b[0m\u001b[0;34m\u001b[0m\u001b[0m\n\u001b[0m\u001b[1;32m     19\u001b[0m             \u001b[0mfile\u001b[0m\u001b[0;34m.\u001b[0m\u001b[0mwrite\u001b[0m\u001b[0;34m(\u001b[0m\u001b[0;34m\",\"\u001b[0m\u001b[0;34m.\u001b[0m\u001b[0mjoin\u001b[0m\u001b[0;34m(\u001b[0m\u001b[0mres\u001b[0m\u001b[0;34m)\u001b[0m \u001b[0;34m+\u001b[0m \u001b[0;34m\"\\n\"\u001b[0m\u001b[0;34m)\u001b[0m\u001b[0;34m\u001b[0m\u001b[0m\n",
      "\u001b[0;31mPermissionError\u001b[0m: [Errno 13] Permission denied: 'Fe2O330nm_pt2_10um_57Hz_RT_5mA_150K_gauss_ac_0.003_on_f_57.csv'"
     ],
     "output_type": "error"
    }
   ],
   "source": [
    "field_depend_gauss(ametek7270, frequency=57, current=0.003, points_stored=10, fields=fs, skip=10,\n",
    "                 ramp_rate=3000, time_per_point=0.3, sample_id=\"Fe2O330nm_pt2_10um_57Hz_RT_5mA_270K_gauss\")"
   ]
  },
  {
   "cell_type": "code",
   "execution_count": null,
   "metadata": {},
   "outputs": [],
   "source": [
    ""
   ]
  },
  {
   "cell_type": "code",
   "execution_count": null,
   "metadata": {},
   "outputs": [],
   "source": []
  }
 ],
 "metadata": {
  "kernelspec": {
   "display_name": "Python 2",
   "language": "python",
   "name": "python2"
  },
  "language_info": {
   "codemirror_mode": {
    "name": "ipython",
    "version": 2
   },
   "file_extension": ".py",
   "mimetype": "text/x-python",
   "name": "python",
   "nbconvert_exporter": "python",
   "pygments_lexer": "ipython2",
   "version": "2.7.6"
  }
 },
 "nbformat": 4,
 "nbformat_minor": 0
}
