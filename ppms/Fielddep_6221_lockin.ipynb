{
 "cells": [
  {
   "cell_type": "code",
   "execution_count": 1,
   "id": "1a5b348b",
   "metadata": {},
   "outputs": [
    {
     "data": {
      "text/plain": [
       "('ASRL1::INSTR',\n",
       " 'GPIB0::15::INSTR',\n",
       " 'GPIB1::7::INSTR',\n",
       " 'GPIB1::8::INSTR',\n",
       " 'GPIB1::10::INSTR',\n",
       " 'GPIB1::11::INSTR',\n",
       " 'GPIB1::12::INSTR')"
      ]
     },
     "execution_count": 1,
     "metadata": {},
     "output_type": "execute_result"
    }
   ],
   "source": [
    "import pyvisa as visa\n",
    "#import visa\n",
    "import time\n",
    "import numpy as np\n",
    "import pymeasure\n",
    "from pymeasure.instruments.keithley import Keithley2400\n",
    "import pandas as pd\n",
    "import matplotlib.pyplot as plt\n",
    "import datetime\n",
    "from labview_automation import LabVIEW\n",
    "from MultiPyVu import MultiVuServer as mvs\n",
    "from MultiPyVu import MultiVuClient as mvc\n",
    "\n",
    "        \n",
    "def measure_resistance(dc, volt, dc_current=100e-6, measure_points=20, skip_points=10, time_per_point=0.02):\n",
    "    dc.apply_current()  # Sets up to source current\n",
    "    dc.source_current_range = 10e-3   # Sets the source current range to 10 mA\n",
    "    dc.compliance_voltage = 10        # Sets the compliance voltage to 10 V\n",
    "    dc.source_current = dc_current            # Sets the source current to 0 mA\n",
    "    dc.enable_source() \n",
    "    v_up = []\n",
    "    for i in range(measure_points):  # apply positive current\n",
    "        time.sleep(time_per_point)\n",
    "        if i < skip_points:\n",
    "            continue\n",
    "        v_up.append(float(volt.query(\"fetch?\")))\n",
    "    v_up = sorted(v_up)\n",
    "    v_up = v_up[3: -3]\n",
    "    # Sets the compliance voltage to 10 V\n",
    "    dc.source_current = -1 * dc_current\n",
    "    dc.enable_source() \n",
    "    \n",
    "    v_down = []\n",
    "    for i in range(measure_points):   # apply negative current\n",
    "        time.sleep(time_per_point)\n",
    "        if i < skip_points:\n",
    "            continue\n",
    "        v_down.append(float(volt.query(\"fetch?\")))\n",
    "    \n",
    "    dc.shutdown() \n",
    "    #dc.source_current = dc_current\n",
    "    #dc.enable_source() \n",
    "    \n",
    "    v_down = sorted(v_down)\n",
    "    v_down = v_down[3: -3]\n",
    "    \n",
    "    average_v = (np.array(v_up).mean() - np.array(v_down).mean())/2\n",
    "    std_v = (np.array(v_up).std() + np.array(v_down).std())/2\n",
    "    return average_v, std_v\n",
    "\n",
    "\n",
    "\n",
    "\n",
    "import subprocess\n",
    "def get_position():\n",
    "    result = subprocess.check_output([r'C:\\Program Files\\IronPython 2.7\\ipy.exe', \n",
    "                                      r'C:\\Users\\yanglabuser\\Desktop\\Sam files\\_switch\\ppms-master\\ppms_position.py'])\n",
    "\n",
    "    current_p = round(float(result.decode('utf-8').strip().split(',')[1][:-1]))\n",
    "    return current_p\n",
    "\n",
    "def set_T(t=300):\n",
    "    if t < 2 or t > 400:\n",
    "        raise\n",
    "    result = subprocess.check_output([r'C:\\Program Files\\IronPython 2.7\\ipy.exe', \n",
    "                                      r'C:\\Users\\yanglabuser\\Desktop\\Sam files\\_switch\\ppms-master\\ppms.py', str(t)])\n",
    "\n",
    "    current_t = result.decode('utf-8').strip()\n",
    "    if abs(float(current_t)-t)<1:\n",
    "        print(\"current T {}\".format(current_t))\n",
    "        return\n",
    "    else:\n",
    "        print(\"set t:\")\n",
    "        print(t)\n",
    "        print(\"current t:\")\n",
    "        print(current_t)\n",
    "        raise\n",
    "        \n",
    "def set_Field(field=0, persistent=True):\n",
    "    if abs(field) > 140000:\n",
    "        raise\n",
    "    if persistent:\n",
    "        result = subprocess.check_output([r'C:\\Program Files\\IronPython 2.7\\ipy.exe', \n",
    "                                      r'C:\\Users\\yanglabuser\\Desktop\\Sam files\\_switch\\ppms-master\\ppms_set_field.py',\n",
    "                                          str(field), str('persistent')])\n",
    "    else:\n",
    "        result = subprocess.check_output([r'C:\\Program Files\\IronPython 2.7\\ipy.exe', \n",
    "                                          r'C:\\Users\\yanglabuser\\Desktop\\Sam files\\_switch\\ppms-master\\ppms_set_field.py', \n",
    "                                          str(field)])\n",
    "\n",
    "    current_field = result.decode('utf-8').strip()\n",
    "    print(current_field)\n",
    "    if abs(float(current_field)-field)<2:\n",
    "        print(\"current field {}\".format(current_field))\n",
    "        return\n",
    "    else:\n",
    "        print(\"set field:\")\n",
    "        print(field)\n",
    "        print(\"current t:\")\n",
    "        print(current_field)\n",
    "        raise\n",
    "        \n",
    "def trigger_ac(ac, offs=0.005, amp=1e-6, duration=0.005, wait_after_arm=2):\n",
    "    ac.write(\"SOUR:WAVE:ABOR\")\n",
    "    ac.write(\"SOUR:WAVE:OFFS {}\".format(offs))\n",
    "    ac.write(\"SOUR:WAVE:AMPL {}\".format(amp))\n",
    "    ac.write(\"SOUR:WAVE:DUR:TIME {}\".format(duration))\n",
    "    ac.write(\"SOUR:WAVE:ARM\")\n",
    "    time.sleep(wait_after_arm)\n",
    "    ac.write(\"SOUR:WAVE:INIT\")\n",
    "    \n",
    "\n",
    "    \n",
    "def init_communication(amp=0.00005):\n",
    "    print(\"check ac_1: offerset 50uA, amp1uA, duration 10s\")\n",
    "    trigger_ac(ac_1, offs=amp, amp=1e-6, duration=5, wait_after_arm=2)\n",
    "    time.sleep(15)\n",
    "    \n",
    "    print(\"check ac_2: offerset 50uA, amp1uA, duration 10s\")\n",
    "    trigger_ac(ac_2, offs=amp, amp=1e-6, duration=5, wait_after_arm=2)\n",
    "    time.sleep(15)\n",
    "    \"\"\"\n",
    "    print(\"check ac_mid: offerset 50uA, amp1uA, duration 10s\")\n",
    "    trigger_ac(ac_mid, offs=amp, amp=1e-6, duration=5, wait_after_arm=2)\n",
    "    time.sleep(15)\"\"\"\n",
    "    \n",
    "    dc.apply_current()# Sets up to source current\n",
    "    dc.source_current_range = 10e-3   # Sets the source current range to 10 mA\n",
    "    dc.compliance_voltage = 10        # Sets the compliance voltage to 10 V\n",
    "    dc.source_current = amp            # Sets the source current to 0.1 mA\n",
    "    dc.enable_source() \n",
    "    print(\"enable dc current now, current:\" + str(dc))\n",
    "    print(\"check nano volt:\")\n",
    "    for i in range(10):\n",
    "        print(volt.query(\"fetch?\"))\n",
    "        time.sleep(0.1)\n",
    "    time.sleep(10)\n",
    "    dc.shutdown()   \n",
    "    print(\"dc current disabled\")\n",
    "\n",
    "    \n",
    "def do_measurement_three_pulses(sample_id='', ac_current=5*1e-3, dc_current=100e-6, duration=0.005, round=6, point_per_round=5,\n",
    "                                wait_after_trigger=15, pulse=None):\n",
    "    file_name = \"data/{}ac_{}uA{}ms_wait{}s_{}.csv\".format(sample_id, int(ac_current * 1e6), \n",
    "                                                                     int(duration * 1e3), wait_after_trigger, int(time.time()))\n",
    "    if not pulse is None:\n",
    "        file_name = file_name.replace(\".csv\", \"\".join(pulse) + \".csv\")\n",
    "    with open(file_name, 'w') as f:\n",
    "        f.write(\"round,ac_source,point_count,average_v, std_v, dc_current\\n\")\n",
    "        \n",
    "        \n",
    "    average_v, std_v = measure_resistance(dc=dc, volt=volt, dc_current=dc_current)\n",
    "    with open(file_name, 'a') as f:\n",
    "        f.write(\"{},{},{},{},{},{}\\n\".format(0, 'init', 0, average_v, std_v, dc_current))\n",
    "\n",
    "    for i in range(round):\n",
    "        print(\"round: \" + str(i+1))\n",
    "        if pulse is None:\n",
    "            pulse = ['ac_mid', '-ac_mid', 'ac_2', '-ac_2', 'ac_mid', '-ac_mid', 'ac_1', '-ac_1']\n",
    "        for current in pulse:\n",
    "            print(\"current:\" + current)\n",
    "            for point in range(point_per_round):\n",
    "                if current == 'ac_1':\n",
    "                    trigger_ac(ac_1, offs=ac_current, duration=duration)\n",
    "                elif current == '-ac_1':\n",
    "                    trigger_ac(ac_1, offs=-1 * ac_current, duration=duration)\n",
    "                elif current == 'ac_mid':\n",
    "                    trigger_ac(ac_mid, offs=ac_current, duration=duration)\n",
    "                elif current == '-ac_mid':\n",
    "                    trigger_ac(ac_mid, offs=-1 * ac_current, duration=duration)\n",
    "                elif current == 'ac_2':\n",
    "                    trigger_ac(ac_2, offs=ac_current, duration=duration)\n",
    "                elif current == '-ac_2':\n",
    "                    trigger_ac(ac_2, offs=-1 * ac_current, duration=duration)\n",
    "                else:\n",
    "                    print(\"no ac \" + current)\n",
    "                    raise\n",
    "                    \n",
    "                time.sleep(wait_after_trigger)\n",
    "                average_v, std_v = measure_resistance(dc=dc, volt=volt, dc_current=dc_current)\n",
    "                with open(file_name, 'a') as f:\n",
    "                    f.write(\"{},{},{},{},{},{}\\n\".format(i, current, point, average_v, std_v, dc_current))\n",
    "                print(average_v)\n",
    "                time.sleep(3)\n",
    "                \"\"\"\n",
    "                plt.clf()\n",
    "                df = pd.read_csv(file_name)\n",
    "                v = df['average_v']\n",
    "                v.plot()\n",
    "                plt.show()\"\"\"\n",
    "\n",
    "\n",
    "\n",
    "def LVread():\n",
    "    lv = LabVIEW()\n",
    "    lv.start() # Launches the active LabVIEW with the listener VI\n",
    "    with lv.client() as c:\n",
    "        control_values = {\n",
    "        \n",
    "            }\n",
    "    \n",
    "        indicators = c.run_vi_synchronous(r\"D:\\User Data\\Cheng Yang\\Sam files\\_switch\\test_labview_python\\\\PPMS_Status_Eckberg.vi\", control_values)\n",
    "    #  print(indicators['Temp (K)'],indicators['Angle'], indicators['Field'] )\n",
    "    #lv.kill() # Stop LabVIEW\n",
    "    T=float(indicators['Temp (K)'])\n",
    "    Ang=float(indicators['Angle'])\n",
    "    Field=float(indicators['Field'])\n",
    "    return T, Ang, Field\n",
    "\n",
    "\n",
    "\n",
    "    \n",
    "def do_measurement_one_pulse_FM(sample_id='', ac_current=[1*1e-3], dc_current=100e-6, duration=0.001,\n",
    "                                wait_after_trigger=1, pulse=None):\n",
    "    file_name = \"data/{}ac_{}ms_wait{}s_{}.csv\".format(sample_id, \n",
    "                                                                     int(duration * 1e3), wait_after_trigger, int(time.time()))\n",
    "    if not pulse is None:\n",
    "        file_name = file_name.replace(\".csv\", \"\".join(pulse) + \".csv\")\n",
    "    with open(file_name, 'w') as f:\n",
    "        f.write(\"current,ac_source,average_v, std_v, dc_current\\n\")\n",
    "        \n",
    "        \n",
    "    average_v, std_v = measure_resistance(dc=dc, volt=volt, dc_current=dc_current)\n",
    "    with open(file_name, 'a') as f:\n",
    "        f.write(\"{},{},{},{},{}\\n\".format(0, 'init', average_v, std_v, dc_current))\n",
    "\n",
    "    for i in ac_current:\n",
    "        print(\"pulse current=:{} A\".format(i))\n",
    "        if pulse is None:\n",
    "            pulse = ['ac_mid', '-ac_mid', 'ac_2', '-ac_2', 'ac_mid', '-ac_mid', 'ac_1', '-ac_1']\n",
    "        for current in pulse:\n",
    "            print(\"current:\" + current)\n",
    "            if current == 'ac_1':\n",
    "                    trigger_ac(ac_1, offs=i, duration=duration)\n",
    "            elif current == '-ac_1':\n",
    "                    trigger_ac(ac_1, offs=-1 * i, duration=duration)\n",
    "            elif current == 'ac_mid':\n",
    "                    trigger_ac(ac_mid, offs=i, duration=duration)\n",
    "            elif current == '-ac_mid':\n",
    "                    trigger_ac(ac_mid, offs=-1 * i, duration=duration)\n",
    "            elif current == 'ac_2':\n",
    "                    trigger_ac(ac_2, offs=i, duration=duration)\n",
    "            elif current == '-ac_2':\n",
    "                    trigger_ac(ac_2, offs=-1 * i, duration=duration)\n",
    "            else:\n",
    "                    print(\"no ac \" + current)\n",
    "                    raise\n",
    "                    \n",
    "            time.sleep(wait_after_trigger)\n",
    "            average_v, std_v = measure_resistance(dc=dc, volt=volt, dc_current=dc_current)\n",
    "            with open(file_name, 'a') as f:\n",
    "                f.write(\"{},{},{},{},{}\\n\".format(i, current, average_v, std_v, dc_current))\n",
    "            print(average_v)\n",
    "            time.sleep(0.1)\n",
    "                \n",
    "rm = visa.ResourceManager()\n",
    "rm.list_resources()\n"
   ]
  },
  {
   "cell_type": "code",
   "execution_count": 21,
   "id": "6ff814a7",
   "metadata": {},
   "outputs": [],
   "source": [
    "def SetField(Field=200, rate=100, Mode='persistent'):\n",
    "    with mvs.MultiVuServer() as server:\n",
    "\n",
    "    # Start the client\n",
    "        with mvc.MultiVuClient() as client:\n",
    "            if Mode=='persistent':\n",
    "                client.set_field(Field,\n",
    "                         rate, \n",
    "                         client.field.approach_mode.no_overshoot,\n",
    "                         client.field.driven_mode.persistent)\n",
    "            elif  Mode=='driven':\n",
    "                client.set_field(Field,\n",
    "                         rate, \n",
    "                         client.field.approach_mode.no_overshoot,\n",
    "                         client.field.driven_mode.driven)\n",
    "            else:\n",
    "                print(\"wrong mode\")\n",
    "                \n",
    "                \n",
    "def GetField():\n",
    "    with mvs.MultiVuServer() as server:\n",
    "\n",
    "    # Start the client\n",
    "        with mvc.MultiVuClient() as client:\n",
    "    \n",
    "            Field, sF = client.get_field()\n",
    "        \n",
    "    return Field, sF \n",
    "\n",
    "\n",
    "def SetTemp(Temp=2, rate=10, Mode='fast_settle'):\n",
    "    with mvs.MultiVuServer() as server:\n",
    "\n",
    "    # Start the client\n",
    "        with mvc.MultiVuClient() as client:\n",
    "            if Mode=='fast_settle':\n",
    "                client.set_temperature(Temp,\n",
    "                         rate, \n",
    "                         client.temperature.approach_mode.fast_settle)\n",
    "            elif  Mode=='no_overshoot':\n",
    "                 client.set_temperature(Temp,\n",
    "                         rate, \n",
    "                         client.temperature.approach_mode.no_overshoot)\n",
    "            else:\n",
    "                print(\"wrong mode\")\n",
    "def GetTemp():\n",
    "    with mvs.MultiVuServer() as server:\n",
    "\n",
    "    # Start the client\n",
    "        with mvc.MultiVuClient() as client:\n",
    "    \n",
    "            Temp, sT = client.get_temperature()\n",
    "        \n",
    "    return Temp, sT\n",
    "\n",
    "\n",
    "def SetTempStable(Temp=2, rate=10, Mode='fast_settle'):\n",
    "    with mvs.MultiVuServer() as server:\n",
    "\n",
    "    # Start the client\n",
    "        with mvc.MultiVuClient() as client:\n",
    "            if Mode=='fast_settle':\n",
    "                client.set_temperature(Temp,\n",
    "                         rate, \n",
    "                         client.temperature.approach_mode.fast_settle)\n",
    "            elif  Mode=='no_overshoot':\n",
    "                 client.set_temperature(Temp,\n",
    "                         rate, \n",
    "                         client.temperature.approach_mode.no_overshoot)\n",
    "            else:\n",
    "                print(\"wrong mode\")\n",
    "            \n",
    "            \n",
    "            Flg = 1\n",
    "            while  Flg:\n",
    "                time.sleep(60)\n",
    "                T = client.get_temperature()\n",
    "                if abs(T[0] - Temp)<0.1:\n",
    "                    Flg = 0\n",
    "            \n",
    "            time.sleep(60)\n",
    "            \n",
    "            Flg = 1\n",
    "            while  Flg:\n",
    "                time.sleep(60)\n",
    "                T = client.get_temperature()\n",
    "                if abs(T[0] - Temp)<0.1:\n",
    "                    print('Temp is {}'.format(Temp))\n",
    "                    Flg = 0\n",
    "                    \n",
    "def SetFieldStable(Field=200, rate=10, Mode='persistent'):\n",
    "     with mvs.MultiVuServer() as server:\n",
    "\n",
    "    # Start the client\n",
    "        with mvc.MultiVuClient() as client:\n",
    "            if Mode=='persistent':\n",
    "                client.set_field(Field,\n",
    "                             rate, \n",
    "                             client.field.approach_mode.no_overshoot,\n",
    "                             client.field.driven_mode.persistent)\n",
    "            elif Mode=='driven':\n",
    "                client.set_field(Field,\n",
    "                             rate, \n",
    "                             client.field.approach_mode.no_overshoot,\n",
    "                             client.field.driven_mode.driven)\n",
    "            else:\n",
    "                print(\"wrong mode\")\n",
    "                  \n",
    "            Flg = 1\n",
    "            while Flg:\n",
    "                time.sleep(1)\n",
    "                F = client.get_field()\n",
    "                if F[1]=='Holding (driven)' and abs(F[0]-Field)<1:\n",
    "                    Flg = 0\n",
    "                if F[1]=='Stable' and abs(F[0]-Field)<1:\n",
    "                    Flg = 0   \n",
    "            \n",
    "            print(\"field is stable = {}Oe\".format(F[0]))\n",
    "            \n",
    "            \n"
   ]
  },
  {
   "cell_type": "code",
   "execution_count": 3,
   "id": "5df6095e",
   "metadata": {},
   "outputs": [],
   "source": [
    "sensitivity = {1:26, 0.5:25, 0.2:24, 0.1:23, 0.05:22, 0.02:21, 0.01:20, 0.005:19, 0.002:18, 0.001:17, 0.0005:16, 0.0002:15,\n",
    "               0.0001:14, 0.00005:13, 0.00002:12, 0.00001:11, 0.000005:10, 0.000002:9, 0.000001:8, 0.0000005:7, 0.0000002:6, 0.0000001:5, 0.00000005:4, 0.00000002:3,\n",
    "               0.00000001:2, 0.000000005:1, 0.000000002:0}\n",
    "\n",
    "\n",
    "class Lockin:\n",
    "    def __init__(self, resource, gpib=1):\n",
    "        self.lock_in = resource.open_resource('GPIB1::{}::INSTR'.format(gpib))\n",
    "\n",
    "    def change_harmonic(self, harm=1, sens=1):\n",
    "\n",
    "       \n",
    "        self.lock_in.write(\"HARM {}\".format(harm))\n",
    "        self.lock_in.write(\"SENS {}\".format(sensitivity[sens]))\n",
    "\n",
    "    def lock_in_read(self):\n",
    "        x = float(self.lock_in.query(\"OUTP? 1\").strip())\n",
    "        y = float(self.lock_in.query(\"OUTP? 2\").strip())\n",
    "        r = float(self.lock_in.query(\"OUTP? 3\").strip())\n",
    "        theta = float(self.lock_in.query(\"OUTP? 4\").strip())\n",
    "        return x, y, r, theta\n",
    "\n",
    "    def lock_in_measure(self, count=10, time_step=0.1,\n",
    "                        wait_before_measure=1,\n",
    "                        harm=1, sens=0.00001):\n",
    "#        self.change_harmonic(harm, sens)\n",
    "        time.sleep(wait_before_measure)\n",
    "        xs, ys, rs, thetas = [], [], [], []\n",
    "        for i in range(count):\n",
    "            x, y, r, theta = self.lock_in_read()\n",
    "            xs += [x]\n",
    "            ys += [y]\n",
    "            rs += [r]\n",
    "            thetas += [theta]\n",
    "            time.sleep(time_step)\n",
    "            \n",
    "        xs = sorted(xs)\n",
    "        ys=  sorted(ys)\n",
    "        rs=  sorted(rs)\n",
    "        thetas=sorted(thetas)\n",
    "        \n",
    "        if len(xs)>30:\n",
    "            xs = xs[round(1/6*len(xs)): -round(1/6*len(xs))]\n",
    "            ys = ys[round(1/6*len(ys)): -round(1/6*len(ys))]\n",
    "            rs = rs[round(1/6*len(rs)): -round(1/6*len(rs))]\n",
    "            thetas = thetas[round(1/6*len(thetas)): -round(1/6*len(thetas))]\n",
    "\n",
    "        x_mean, x_std = np.mean(xs), np.std(xs)\n",
    "        y_mean, y_std = np.mean(ys), np.std(ys)\n",
    "        r_mean, r_std = np.mean(rs), np.std(rs)\n",
    "        theta_mean, theta_std = np.mean(thetas), np.std(thetas)\n",
    "        \n",
    "        \n",
    "        return x_mean, y_mean, r_mean, theta_mean, \\\n",
    "               x_std, y_std,r_std, theta_std"
   ]
  },
  {
   "cell_type": "code",
   "execution_count": 4,
   "id": "445599be",
   "metadata": {},
   "outputs": [],
   "source": [
    "#switch\n",
    "ac_6221_1_id = 12\n",
    "dc_2400_id = 24\n",
    "\n",
    "\n",
    "dc = Keithley2400(\"GPIB1::{}\".format(dc_2400_id))\n",
    "\n",
    "\n",
    "ac_1 = rm.open_resource('GPIB1::{}::INSTR'.format(ac_6221_1_id))\n",
    "\n",
    "lock1 = Lockin(rm, 7)\n",
    "lock2 = Lockin(rm, 8)\n",
    "lock3 = Lockin(rm, 10)\n",
    "lock4 = Lockin(rm, 11)"
   ]
  },
  {
   "cell_type": "code",
   "execution_count": 180,
   "id": "b9bf838c",
   "metadata": {},
   "outputs": [
    {
     "name": "stdout",
     "output_type": "stream",
     "text": [
      "(0.000864033, 9.38182e-05, 0.000869099, 6.198, 0.0, 0.0, 0.0, 0.0)\n",
      "(-4.24336e-08, -5.25035e-08, 6.74049e-08, -128.88, 0.0, 0.0, 0.0, 0.0)\n",
      "(-5.27016e-07, -1.78349e-07, 5.56003e-07, -161.382, 0.0, 0.0, 0.0, 0.0)\n",
      "(5.30856e-08, 2.90574e-07, 2.84987e-07, 95.232, 0.0, 0.0, 0.0, 0.0)\n"
     ]
    }
   ],
   "source": [
    "print(lock1.lock_in_measure(count=1, time_step=0.1, wait_before_measure=0.1))\n",
    "print(lock2.lock_in_measure(count=1, time_step=0.1, wait_before_measure=0.1))\n",
    "print(lock3.lock_in_measure(count=1, time_step=0.1, wait_before_measure=0.1))\n",
    "print(lock4.lock_in_measure(count=1, time_step=0.1, wait_before_measure=0.1))"
   ]
  },
  {
   "cell_type": "code",
   "execution_count": 250,
   "id": "f690b0ae",
   "metadata": {},
   "outputs": [
    {
     "name": "stdout",
     "output_type": "stream",
     "text": [
      "0.000861172\n",
      "-9.313749999999973e-11\n",
      "-4.7361500000000005e-07\n"
     ]
    }
   ],
   "source": [
    "A=lock1.lock_in_measure(count=1, time_step=0.1, wait_before_measure=0.1)\n",
    "B=lock2.lock_in_measure(count=10, time_step=0.1, wait_before_measure=0.1)\n",
    "C=lock3.lock_in_measure(count=10, time_step=0.1, wait_before_measure=0.1)\n",
    "print(A[0])\n",
    "print(B[1])\n",
    "print(C[0])"
   ]
  },
  {
   "cell_type": "code",
   "execution_count": 211,
   "id": "33663471",
   "metadata": {
    "scrolled": true
   },
   "outputs": [
    {
     "name": "stdout",
     "output_type": "stream",
     "text": [
      "[-90000 -89000 -88000 -87000 -86000 -85000 -84000 -83000 -82000 -81000\n",
      " -80000 -79000 -78000 -77000 -76000 -75000 -74000 -73000 -72000 -71000\n",
      " -70000 -69000 -68000 -67000 -66000 -65000 -64000 -63000 -62000 -61000\n",
      " -60000 -59000 -58000 -57000 -56000 -55000 -54000 -53000 -52000 -51000\n",
      " -50000 -49000 -48000 -47000 -46000 -45000 -44000 -43000 -42000 -41000\n",
      " -40000 -39000 -38000 -37000 -36000 -35000 -34000 -33000 -32000 -31000\n",
      " -30000 -29000 -28000 -27000 -26000 -25000 -24000 -23000 -22000 -21000\n",
      " -20000 -19000 -18000 -17000 -16000 -15000 -14000 -13000 -12000 -11000\n",
      " -10000  -9000  -8000  -7000  -6000  -5000  -4000  -3000  -2000  -1000\n",
      "      0   1000   2000   3000   4000   5000   6000   7000   8000   9000\n",
      "  10000  11000  12000  13000  14000  15000  16000  17000  18000  19000\n",
      "  20000  21000  22000  23000  24000  25000  26000  27000  28000  29000\n",
      "  30000  31000  32000  33000  34000  35000  36000  37000  38000  39000\n",
      "  40000  41000  42000  43000  44000  45000  46000  47000  48000  49000\n",
      "  50000  51000  52000  53000  54000  55000  56000  57000  58000  59000\n",
      "  60000  61000  62000  63000  64000  65000  66000  67000  68000  69000\n",
      "  70000  71000  72000  73000  74000  75000  76000  77000  78000  79000\n",
      "  80000  81000  82000  83000  84000  85000  86000  87000  88000  89000\n",
      "  90000  89000  88000  87000  86000  85000  84000  83000  82000  81000\n",
      "  80000  79000  78000  77000  76000  75000  74000  73000  72000  71000\n",
      "  70000  69000  68000  67000  66000  65000  64000  63000  62000  61000\n",
      "  60000  59000  58000  57000  56000  55000  54000  53000  52000  51000\n",
      "  50000  49000  48000  47000  46000  45000  44000  43000  42000  41000\n",
      "  40000  39000  38000  37000  36000  35000  34000  33000  32000  31000\n",
      "  30000  29000  28000  27000  26000  25000  24000  23000  22000  21000\n",
      "  20000  19000  18000  17000  16000  15000  14000  13000  12000  11000\n",
      "  10000   9000   8000   7000   6000   5000   4000   3000   2000   1000\n",
      "      0  -1000  -2000  -3000  -4000  -5000  -6000  -7000  -8000  -9000\n",
      " -10000 -11000 -12000 -13000 -14000 -15000 -16000 -17000 -18000 -19000\n",
      " -20000 -21000 -22000 -23000 -24000 -25000 -26000 -27000 -28000 -29000\n",
      " -30000 -31000 -32000 -33000 -34000 -35000 -36000 -37000 -38000 -39000\n",
      " -40000 -41000 -42000 -43000 -44000 -45000 -46000 -47000 -48000 -49000\n",
      " -50000 -51000 -52000 -53000 -54000 -55000 -56000 -57000 -58000 -59000\n",
      " -60000 -61000 -62000 -63000 -64000 -65000 -66000 -67000 -68000 -69000\n",
      " -70000 -71000 -72000 -73000 -74000 -75000 -76000 -77000 -78000 -79000\n",
      " -80000 -81000 -82000 -83000 -84000 -85000 -86000 -87000 -88000 -89000\n",
      " -90000      0]\n"
     ]
    }
   ],
   "source": [
    "Field=np.append(np.arange(-90000,90000,1000),np.arange(90000,-91000,-1000)) \n",
    "Field=np.append(Field, 0) \n",
    "print(Field)"
   ]
  },
  {
   "cell_type": "code",
   "execution_count": 22,
   "id": "73e47edf",
   "metadata": {},
   "outputs": [
    {
     "name": "stderr",
     "output_type": "stream",
     "text": [
      "MultiVuServer - Found PPMS running.\n",
      "MultiVuServer - listening on ('localhost', 5000)\n",
      "MultiVuServer - Press ESC to exit.\n",
      "MultiVuClient - Starting connection to ('localhost', 5000)\n",
      "MultiVuClient - Starting connection to ('localhost', 5000)\n",
      "MultiVuServer - Accepted connection from ('127.0.0.1', 52131)\n",
      "MultiVuClient - Connected to PPMS MultiVuServer at ('127.0.0.1', 52131)\n",
      "MultiVuClient - Connected to PPMS MultiVuServer at ('127.0.0.1', 52131)\n",
      "MultiVuServer - Client ('127.0.0.1', 52131) disconnected.\n",
      "MultiVuClient - Closing connection to ('127.0.0.1', 52131)\n",
      "MultiVuClient - Closing connection to ('127.0.0.1', 52131)\n"
     ]
    },
    {
     "name": "stdout",
     "output_type": "stream",
     "text": [
      "field is stable = -89999.6094Oe\n"
     ]
    },
    {
     "name": "stderr",
     "output_type": "stream",
     "text": [
      "MultiVuServer - Closing connection to ('127.0.0.1', 52131)\n",
      "MultiVuServer - Found PPMS running.\n",
      "MultiVuServer - listening on ('localhost', 5000)\n",
      "MultiVuServer - Press ESC to exit.\n",
      "MultiVuClient - Starting connection to ('localhost', 5000)\n",
      "MultiVuClient - Starting connection to ('localhost', 5000)\n",
      "MultiVuServer - Accepted connection from ('127.0.0.1', 52133)\n",
      "MultiVuClient - Connected to PPMS MultiVuServer at ('127.0.0.1', 52133)\n",
      "MultiVuClient - Connected to PPMS MultiVuServer at ('127.0.0.1', 52133)\n",
      "MultiVuServer - Client ('127.0.0.1', 52133) disconnected.\n",
      "MultiVuClient - Closing connection to ('127.0.0.1', 52133)\n",
      "MultiVuClient - Closing connection to ('127.0.0.1', 52133)\n"
     ]
    },
    {
     "name": "stdout",
     "output_type": "stream",
     "text": [
      "field is stable = -89000.6562Oe\n"
     ]
    },
    {
     "name": "stderr",
     "output_type": "stream",
     "text": [
      "MultiVuServer - Closing connection to ('127.0.0.1', 52133)\n",
      "MultiVuServer - Found PPMS running.\n",
      "MultiVuServer - listening on ('localhost', 5000)\n",
      "MultiVuServer - Press ESC to exit.\n",
      "MultiVuClient - Starting connection to ('localhost', 5000)\n",
      "MultiVuClient - Starting connection to ('localhost', 5000)\n",
      "MultiVuServer - Accepted connection from ('127.0.0.1', 52134)\n",
      "MultiVuClient - Connected to PPMS MultiVuServer at ('127.0.0.1', 52134)\n",
      "MultiVuClient - Connected to PPMS MultiVuServer at ('127.0.0.1', 52134)\n",
      "MultiVuServer - Client ('127.0.0.1', 52134) disconnected.\n",
      "MultiVuClient - Closing connection to ('127.0.0.1', 52134)\n",
      "MultiVuClient - Closing connection to ('127.0.0.1', 52134)\n"
     ]
    },
    {
     "name": "stdout",
     "output_type": "stream",
     "text": [
      "field is stable = -88000.4375Oe\n"
     ]
    },
    {
     "name": "stderr",
     "output_type": "stream",
     "text": [
      "MultiVuServer - Closing connection to ('127.0.0.1', 52134)\n",
      "MultiVuServer - Found PPMS running.\n",
      "MultiVuServer - listening on ('localhost', 5000)\n",
      "MultiVuServer - Press ESC to exit.\n",
      "MultiVuClient - Starting connection to ('localhost', 5000)\n",
      "MultiVuClient - Starting connection to ('localhost', 5000)\n",
      "MultiVuServer - Accepted connection from ('127.0.0.1', 52135)\n",
      "MultiVuClient - Connected to PPMS MultiVuServer at ('127.0.0.1', 52135)\n",
      "MultiVuClient - Connected to PPMS MultiVuServer at ('127.0.0.1', 52135)\n",
      "MultiVuServer - Client ('127.0.0.1', 52135) disconnected.\n",
      "MultiVuClient - Closing connection to ('127.0.0.1', 52135)\n",
      "MultiVuClient - Closing connection to ('127.0.0.1', 52135)\n"
     ]
    },
    {
     "name": "stdout",
     "output_type": "stream",
     "text": [
      "field is stable = -87000.5Oe\n"
     ]
    },
    {
     "name": "stderr",
     "output_type": "stream",
     "text": [
      "MultiVuServer - Closing connection to ('127.0.0.1', 52135)\n",
      "MultiVuServer - Found PPMS running.\n",
      "MultiVuServer - listening on ('localhost', 5000)\n",
      "MultiVuServer - Press ESC to exit.\n",
      "MultiVuClient - Starting connection to ('localhost', 5000)\n",
      "MultiVuClient - Starting connection to ('localhost', 5000)\n",
      "MultiVuServer - Accepted connection from ('127.0.0.1', 52137)\n",
      "MultiVuClient - Connected to PPMS MultiVuServer at ('127.0.0.1', 52137)\n",
      "MultiVuClient - Connected to PPMS MultiVuServer at ('127.0.0.1', 52137)\n",
      "MultiVuServer - Client ('127.0.0.1', 52137) disconnected.\n",
      "MultiVuClient - Closing connection to ('127.0.0.1', 52137)\n",
      "MultiVuClient - Closing connection to ('127.0.0.1', 52137)\n"
     ]
    },
    {
     "name": "stdout",
     "output_type": "stream",
     "text": [
      "field is stable = -86000.3828Oe\n"
     ]
    },
    {
     "name": "stderr",
     "output_type": "stream",
     "text": [
      "MultiVuServer - Closing connection to ('127.0.0.1', 52137)\n",
      "MultiVuServer - Found PPMS running.\n",
      "MultiVuServer - listening on ('localhost', 5000)\n",
      "MultiVuServer - Press ESC to exit.\n",
      "MultiVuClient - Starting connection to ('localhost', 5000)\n",
      "MultiVuClient - Starting connection to ('localhost', 5000)\n",
      "MultiVuServer - Accepted connection from ('127.0.0.1', 52138)\n",
      "MultiVuClient - Connected to PPMS MultiVuServer at ('127.0.0.1', 52138)\n",
      "MultiVuClient - Connected to PPMS MultiVuServer at ('127.0.0.1', 52138)\n",
      "MultiVuServer - Client ('127.0.0.1', 52138) disconnected.\n",
      "MultiVuClient - Closing connection to ('127.0.0.1', 52138)\n",
      "MultiVuClient - Closing connection to ('127.0.0.1', 52138)\n"
     ]
    },
    {
     "name": "stdout",
     "output_type": "stream",
     "text": [
      "field is stable = -85000.5391Oe\n"
     ]
    },
    {
     "name": "stderr",
     "output_type": "stream",
     "text": [
      "MultiVuServer - Closing connection to ('127.0.0.1', 52138)\n",
      "MultiVuServer - Found PPMS running.\n",
      "MultiVuServer - listening on ('localhost', 5000)\n",
      "MultiVuServer - Press ESC to exit.\n",
      "MultiVuClient - Starting connection to ('localhost', 5000)\n",
      "MultiVuClient - Starting connection to ('localhost', 5000)\n",
      "MultiVuServer - Accepted connection from ('127.0.0.1', 52140)\n",
      "MultiVuClient - Connected to PPMS MultiVuServer at ('127.0.0.1', 52140)\n",
      "MultiVuClient - Connected to PPMS MultiVuServer at ('127.0.0.1', 52140)\n",
      "MultiVuServer - Client ('127.0.0.1', 52140) disconnected.\n",
      "MultiVuClient - Closing connection to ('127.0.0.1', 52140)\n",
      "MultiVuClient - Closing connection to ('127.0.0.1', 52140)\n"
     ]
    },
    {
     "name": "stdout",
     "output_type": "stream",
     "text": [
      "field is stable = -84000.3359Oe\n"
     ]
    },
    {
     "name": "stderr",
     "output_type": "stream",
     "text": [
      "MultiVuServer - Closing connection to ('127.0.0.1', 52140)\n",
      "MultiVuServer - Found PPMS running.\n",
      "MultiVuServer - listening on ('localhost', 5000)\n",
      "MultiVuServer - Press ESC to exit.\n",
      "MultiVuClient - Starting connection to ('localhost', 5000)\n",
      "MultiVuClient - Starting connection to ('localhost', 5000)\n",
      "MultiVuServer - Accepted connection from ('127.0.0.1', 52141)\n",
      "MultiVuClient - Connected to PPMS MultiVuServer at ('127.0.0.1', 52141)\n",
      "MultiVuClient - Connected to PPMS MultiVuServer at ('127.0.0.1', 52141)\n",
      "MultiVuServer - Client ('127.0.0.1', 52141) disconnected.\n",
      "MultiVuClient - Closing connection to ('127.0.0.1', 52141)\n",
      "MultiVuClient - Closing connection to ('127.0.0.1', 52141)\n"
     ]
    },
    {
     "name": "stdout",
     "output_type": "stream",
     "text": [
      "field is stable = -83000.3672Oe\n"
     ]
    },
    {
     "name": "stderr",
     "output_type": "stream",
     "text": [
      "MultiVuServer - Closing connection to ('127.0.0.1', 52141)\n",
      "MultiVuServer - Found PPMS running.\n",
      "MultiVuServer - listening on ('localhost', 5000)\n",
      "MultiVuServer - Press ESC to exit.\n",
      "MultiVuClient - Starting connection to ('localhost', 5000)\n",
      "MultiVuClient - Starting connection to ('localhost', 5000)\n",
      "MultiVuServer - Accepted connection from ('127.0.0.1', 52142)\n",
      "MultiVuClient - Connected to PPMS MultiVuServer at ('127.0.0.1', 52142)\n",
      "MultiVuClient - Connected to PPMS MultiVuServer at ('127.0.0.1', 52142)\n",
      "MultiVuServer - Client ('127.0.0.1', 52142) disconnected.\n",
      "MultiVuClient - Closing connection to ('127.0.0.1', 52142)\n",
      "MultiVuClient - Closing connection to ('127.0.0.1', 52142)\n"
     ]
    },
    {
     "name": "stdout",
     "output_type": "stream",
     "text": [
      "field is stable = -82000.6484Oe\n"
     ]
    },
    {
     "name": "stderr",
     "output_type": "stream",
     "text": [
      "MultiVuServer - Closing connection to ('127.0.0.1', 52142)\n",
      "MultiVuServer - Found PPMS running.\n",
      "MultiVuServer - listening on ('localhost', 5000)\n",
      "MultiVuServer - Press ESC to exit.\n",
      "MultiVuClient - Starting connection to ('localhost', 5000)\n",
      "MultiVuClient - Starting connection to ('localhost', 5000)\n",
      "MultiVuServer - Accepted connection from ('127.0.0.1', 52144)\n",
      "MultiVuClient - Connected to PPMS MultiVuServer at ('127.0.0.1', 52144)\n",
      "MultiVuClient - Connected to PPMS MultiVuServer at ('127.0.0.1', 52144)\n",
      "MultiVuServer - Client ('127.0.0.1', 52144) disconnected.\n",
      "MultiVuClient - Closing connection to ('127.0.0.1', 52144)\n",
      "MultiVuClient - Closing connection to ('127.0.0.1', 52144)\n"
     ]
    },
    {
     "name": "stdout",
     "output_type": "stream",
     "text": [
      "field is stable = -81000.6797Oe\n"
     ]
    },
    {
     "name": "stderr",
     "output_type": "stream",
     "text": [
      "MultiVuServer - Closing connection to ('127.0.0.1', 52144)\n",
      "MultiVuServer - Found PPMS running.\n",
      "MultiVuServer - listening on ('localhost', 5000)\n",
      "MultiVuServer - Press ESC to exit.\n",
      "MultiVuClient - Starting connection to ('localhost', 5000)\n",
      "MultiVuClient - Starting connection to ('localhost', 5000)\n",
      "MultiVuServer - Accepted connection from ('127.0.0.1', 52145)\n",
      "MultiVuClient - Connected to PPMS MultiVuServer at ('127.0.0.1', 52145)\n",
      "MultiVuClient - Connected to PPMS MultiVuServer at ('127.0.0.1', 52145)\n",
      "MultiVuServer - Client ('127.0.0.1', 52145) disconnected.\n",
      "MultiVuClient - Closing connection to ('127.0.0.1', 52145)\n",
      "MultiVuClient - Closing connection to ('127.0.0.1', 52145)\n"
     ]
    },
    {
     "name": "stdout",
     "output_type": "stream",
     "text": [
      "field is stable = -80000.4219Oe\n"
     ]
    },
    {
     "name": "stderr",
     "output_type": "stream",
     "text": [
      "MultiVuServer - Closing connection to ('127.0.0.1', 52145)\n",
      "MultiVuServer - Found PPMS running.\n",
      "MultiVuServer - listening on ('localhost', 5000)\n",
      "MultiVuServer - Press ESC to exit.\n",
      "MultiVuClient - Starting connection to ('localhost', 5000)\n",
      "MultiVuClient - Starting connection to ('localhost', 5000)\n",
      "MultiVuServer - Accepted connection from ('127.0.0.1', 52146)\n",
      "MultiVuClient - Connected to PPMS MultiVuServer at ('127.0.0.1', 52146)\n",
      "MultiVuClient - Connected to PPMS MultiVuServer at ('127.0.0.1', 52146)\n",
      "MultiVuServer - Client ('127.0.0.1', 52146) disconnected.\n",
      "MultiVuClient - Closing connection to ('127.0.0.1', 52146)\n",
      "MultiVuClient - Closing connection to ('127.0.0.1', 52146)\n"
     ]
    },
    {
     "name": "stdout",
     "output_type": "stream",
     "text": [
      "field is stable = -79000.4141Oe\n"
     ]
    },
    {
     "name": "stderr",
     "output_type": "stream",
     "text": [
      "MultiVuServer - Closing connection to ('127.0.0.1', 52146)\n",
      "MultiVuServer - Found PPMS running.\n",
      "MultiVuServer - listening on ('localhost', 5000)\n",
      "MultiVuServer - Press ESC to exit.\n",
      "MultiVuClient - Starting connection to ('localhost', 5000)\n",
      "MultiVuClient - Starting connection to ('localhost', 5000)\n",
      "MultiVuServer - Accepted connection from ('127.0.0.1', 52148)\n",
      "MultiVuClient - Connected to PPMS MultiVuServer at ('127.0.0.1', 52148)\n",
      "MultiVuClient - Connected to PPMS MultiVuServer at ('127.0.0.1', 52148)\n",
      "MultiVuServer - Client ('127.0.0.1', 52148) disconnected.\n",
      "MultiVuClient - Closing connection to ('127.0.0.1', 52148)\n",
      "MultiVuClient - Closing connection to ('127.0.0.1', 52148)\n"
     ]
    },
    {
     "name": "stdout",
     "output_type": "stream",
     "text": [
      "field is stable = -78000.4453Oe\n"
     ]
    },
    {
     "name": "stderr",
     "output_type": "stream",
     "text": [
      "MultiVuServer - Closing connection to ('127.0.0.1', 52148)\n",
      "MultiVuServer - Found PPMS running.\n",
      "MultiVuServer - listening on ('localhost', 5000)\n",
      "MultiVuServer - Press ESC to exit.\n",
      "MultiVuClient - Starting connection to ('localhost', 5000)\n",
      "MultiVuClient - Starting connection to ('localhost', 5000)\n",
      "MultiVuServer - Accepted connection from ('127.0.0.1', 52149)\n",
      "MultiVuClient - Connected to PPMS MultiVuServer at ('127.0.0.1', 52149)\n",
      "MultiVuClient - Connected to PPMS MultiVuServer at ('127.0.0.1', 52149)\n",
      "MultiVuServer - Client ('127.0.0.1', 52149) disconnected.\n",
      "MultiVuClient - Closing connection to ('127.0.0.1', 52149)\n",
      "MultiVuClient - Closing connection to ('127.0.0.1', 52149)\n"
     ]
    },
    {
     "name": "stdout",
     "output_type": "stream",
     "text": [
      "field is stable = -77000.3203Oe\n"
     ]
    },
    {
     "name": "stderr",
     "output_type": "stream",
     "text": [
      "MultiVuServer - Closing connection to ('127.0.0.1', 52149)\n",
      "MultiVuServer - Found PPMS running.\n",
      "MultiVuServer - listening on ('localhost', 5000)\n",
      "MultiVuServer - Press ESC to exit.\n",
      "MultiVuClient - Starting connection to ('localhost', 5000)\n",
      "MultiVuClient - Starting connection to ('localhost', 5000)\n",
      "MultiVuServer - Accepted connection from ('127.0.0.1', 52150)\n",
      "MultiVuClient - Connected to PPMS MultiVuServer at ('127.0.0.1', 52150)\n",
      "MultiVuClient - Connected to PPMS MultiVuServer at ('127.0.0.1', 52150)\n",
      "MultiVuServer - Client ('127.0.0.1', 52150) disconnected.\n",
      "MultiVuClient - Closing connection to ('127.0.0.1', 52150)\n",
      "MultiVuClient - Closing connection to ('127.0.0.1', 52150)\n"
     ]
    },
    {
     "name": "stdout",
     "output_type": "stream",
     "text": [
      "field is stable = -76000.6641Oe\n"
     ]
    },
    {
     "name": "stderr",
     "output_type": "stream",
     "text": [
      "MultiVuServer - Closing connection to ('127.0.0.1', 52150)\n",
      "MultiVuServer - Found PPMS running.\n",
      "MultiVuServer - listening on ('localhost', 5000)\n",
      "MultiVuServer - Press ESC to exit.\n",
      "MultiVuClient - Starting connection to ('localhost', 5000)\n",
      "MultiVuClient - Starting connection to ('localhost', 5000)\n",
      "MultiVuServer - Accepted connection from ('127.0.0.1', 52152)\n",
      "MultiVuClient - Connected to PPMS MultiVuServer at ('127.0.0.1', 52152)\n",
      "MultiVuClient - Connected to PPMS MultiVuServer at ('127.0.0.1', 52152)\n",
      "MultiVuServer - Client ('127.0.0.1', 52152) disconnected.\n",
      "MultiVuClient - Closing connection to ('127.0.0.1', 52152)\n",
      "MultiVuClient - Closing connection to ('127.0.0.1', 52152)\n"
     ]
    },
    {
     "name": "stdout",
     "output_type": "stream",
     "text": [
      "field is stable = -75000.4453Oe\n"
     ]
    },
    {
     "name": "stderr",
     "output_type": "stream",
     "text": [
      "MultiVuServer - Closing connection to ('127.0.0.1', 52152)\n",
      "MultiVuServer - Found PPMS running.\n",
      "MultiVuServer - listening on ('localhost', 5000)\n",
      "MultiVuServer - Press ESC to exit.\n",
      "MultiVuClient - Starting connection to ('localhost', 5000)\n",
      "MultiVuClient - Starting connection to ('localhost', 5000)\n",
      "MultiVuServer - Accepted connection from ('127.0.0.1', 52153)\n",
      "MultiVuClient - Connected to PPMS MultiVuServer at ('127.0.0.1', 52153)\n",
      "MultiVuClient - Connected to PPMS MultiVuServer at ('127.0.0.1', 52153)\n",
      "MultiVuServer - Client ('127.0.0.1', 52153) disconnected.\n",
      "MultiVuClient - Closing connection to ('127.0.0.1', 52153)\n",
      "MultiVuClient - Closing connection to ('127.0.0.1', 52153)\n"
     ]
    },
    {
     "name": "stdout",
     "output_type": "stream",
     "text": [
      "field is stable = -74000.5703Oe\n"
     ]
    },
    {
     "name": "stderr",
     "output_type": "stream",
     "text": [
      "MultiVuServer - Closing connection to ('127.0.0.1', 52153)\n",
      "MultiVuServer - Found PPMS running.\n",
      "MultiVuServer - listening on ('localhost', 5000)\n",
      "MultiVuServer - Press ESC to exit.\n",
      "MultiVuClient - Starting connection to ('localhost', 5000)\n",
      "MultiVuClient - Starting connection to ('localhost', 5000)\n",
      "MultiVuServer - Accepted connection from ('127.0.0.1', 52154)\n",
      "MultiVuClient - Connected to PPMS MultiVuServer at ('127.0.0.1', 52154)\n",
      "MultiVuClient - Connected to PPMS MultiVuServer at ('127.0.0.1', 52154)\n",
      "MultiVuServer - Client ('127.0.0.1', 52154) disconnected.\n",
      "MultiVuClient - Closing connection to ('127.0.0.1', 52154)\n",
      "MultiVuClient - Closing connection to ('127.0.0.1', 52154)\n"
     ]
    },
    {
     "name": "stdout",
     "output_type": "stream",
     "text": [
      "field is stable = -73000.4062Oe\n"
     ]
    },
    {
     "name": "stderr",
     "output_type": "stream",
     "text": [
      "MultiVuServer - Closing connection to ('127.0.0.1', 52154)\n",
      "MultiVuServer - Found PPMS running.\n",
      "MultiVuServer - listening on ('localhost', 5000)\n",
      "MultiVuServer - Press ESC to exit.\n",
      "MultiVuClient - Starting connection to ('localhost', 5000)\n",
      "MultiVuClient - Starting connection to ('localhost', 5000)\n",
      "MultiVuServer - Accepted connection from ('127.0.0.1', 52156)\n",
      "MultiVuClient - Connected to PPMS MultiVuServer at ('127.0.0.1', 52156)\n",
      "MultiVuClient - Connected to PPMS MultiVuServer at ('127.0.0.1', 52156)\n",
      "MultiVuServer - Client ('127.0.0.1', 52156) disconnected.\n",
      "MultiVuClient - Closing connection to ('127.0.0.1', 52156)\n",
      "MultiVuClient - Closing connection to ('127.0.0.1', 52156)\n"
     ]
    },
    {
     "name": "stdout",
     "output_type": "stream",
     "text": [
      "field is stable = -72000.4766Oe\n"
     ]
    },
    {
     "name": "stderr",
     "output_type": "stream",
     "text": [
      "MultiVuServer - Closing connection to ('127.0.0.1', 52156)\n",
      "MultiVuServer - Found PPMS running.\n",
      "MultiVuServer - listening on ('localhost', 5000)\n",
      "MultiVuServer - Press ESC to exit.\n",
      "MultiVuClient - Starting connection to ('localhost', 5000)\n",
      "MultiVuClient - Starting connection to ('localhost', 5000)\n",
      "MultiVuServer - Accepted connection from ('127.0.0.1', 52157)\n",
      "MultiVuClient - Connected to PPMS MultiVuServer at ('127.0.0.1', 52157)\n",
      "MultiVuClient - Connected to PPMS MultiVuServer at ('127.0.0.1', 52157)\n",
      "MultiVuServer - Client ('127.0.0.1', 52157) disconnected.\n",
      "MultiVuClient - Closing connection to ('127.0.0.1', 52157)\n",
      "MultiVuClient - Closing connection to ('127.0.0.1', 52157)\n"
     ]
    },
    {
     "name": "stdout",
     "output_type": "stream",
     "text": [
      "field is stable = -71000.3125Oe\n"
     ]
    },
    {
     "name": "stderr",
     "output_type": "stream",
     "text": [
      "MultiVuServer - Closing connection to ('127.0.0.1', 52157)\n",
      "MultiVuServer - Found PPMS running.\n",
      "MultiVuServer - listening on ('localhost', 5000)\n",
      "MultiVuServer - Press ESC to exit.\n",
      "MultiVuClient - Starting connection to ('localhost', 5000)\n",
      "MultiVuClient - Starting connection to ('localhost', 5000)\n",
      "MultiVuServer - Accepted connection from ('127.0.0.1', 52159)\n",
      "MultiVuClient - Connected to PPMS MultiVuServer at ('127.0.0.1', 52159)\n",
      "MultiVuClient - Connected to PPMS MultiVuServer at ('127.0.0.1', 52159)\n",
      "MultiVuServer - Client ('127.0.0.1', 52159) disconnected.\n",
      "MultiVuClient - Closing connection to ('127.0.0.1', 52159)\n",
      "MultiVuClient - Closing connection to ('127.0.0.1', 52159)\n"
     ]
    },
    {
     "name": "stdout",
     "output_type": "stream",
     "text": [
      "field is stable = -70000.5781Oe\n"
     ]
    },
    {
     "name": "stderr",
     "output_type": "stream",
     "text": [
      "MultiVuServer - Closing connection to ('127.0.0.1', 52159)\n",
      "MultiVuServer - Found PPMS running.\n",
      "MultiVuServer - listening on ('localhost', 5000)\n",
      "MultiVuServer - Press ESC to exit.\n",
      "MultiVuClient - Starting connection to ('localhost', 5000)\n",
      "MultiVuClient - Starting connection to ('localhost', 5000)\n",
      "MultiVuServer - Accepted connection from ('127.0.0.1', 52161)\n",
      "MultiVuClient - Connected to PPMS MultiVuServer at ('127.0.0.1', 52161)\n",
      "MultiVuClient - Connected to PPMS MultiVuServer at ('127.0.0.1', 52161)\n",
      "MultiVuServer - Client ('127.0.0.1', 52161) disconnected.\n",
      "MultiVuClient - Closing connection to ('127.0.0.1', 52161)\n",
      "MultiVuClient - Closing connection to ('127.0.0.1', 52161)\n"
     ]
    },
    {
     "name": "stdout",
     "output_type": "stream",
     "text": [
      "field is stable = -69000.4062Oe\n"
     ]
    },
    {
     "name": "stderr",
     "output_type": "stream",
     "text": [
      "MultiVuServer - Closing connection to ('127.0.0.1', 52161)\n",
      "MultiVuServer - Found PPMS running.\n",
      "MultiVuServer - listening on ('localhost', 5000)\n",
      "MultiVuServer - Press ESC to exit.\n",
      "MultiVuClient - Starting connection to ('localhost', 5000)\n",
      "MultiVuClient - Starting connection to ('localhost', 5000)\n",
      "MultiVuServer - Accepted connection from ('127.0.0.1', 52162)\n",
      "MultiVuClient - Connected to PPMS MultiVuServer at ('127.0.0.1', 52162)\n",
      "MultiVuClient - Connected to PPMS MultiVuServer at ('127.0.0.1', 52162)\n",
      "MultiVuServer - Client ('127.0.0.1', 52162) disconnected.\n",
      "MultiVuClient - Closing connection to ('127.0.0.1', 52162)\n",
      "MultiVuClient - Closing connection to ('127.0.0.1', 52162)\n"
     ]
    },
    {
     "name": "stdout",
     "output_type": "stream",
     "text": [
      "field is stable = -68000.5078Oe\n"
     ]
    },
    {
     "name": "stderr",
     "output_type": "stream",
     "text": [
      "MultiVuServer - Closing connection to ('127.0.0.1', 52162)\n",
      "MultiVuServer - Found PPMS running.\n",
      "MultiVuServer - listening on ('localhost', 5000)\n",
      "MultiVuServer - Press ESC to exit.\n",
      "MultiVuClient - Starting connection to ('localhost', 5000)\n",
      "MultiVuClient - Starting connection to ('localhost', 5000)\n",
      "MultiVuServer - Accepted connection from ('127.0.0.1', 52164)\n",
      "MultiVuClient - Connected to PPMS MultiVuServer at ('127.0.0.1', 52164)\n",
      "MultiVuClient - Connected to PPMS MultiVuServer at ('127.0.0.1', 52164)\n",
      "MultiVuServer - Client ('127.0.0.1', 52164) disconnected.\n",
      "MultiVuClient - Closing connection to ('127.0.0.1', 52164)\n",
      "MultiVuClient - Closing connection to ('127.0.0.1', 52164)\n"
     ]
    },
    {
     "name": "stdout",
     "output_type": "stream",
     "text": [
      "field is stable = -67000.2812Oe\n"
     ]
    },
    {
     "name": "stderr",
     "output_type": "stream",
     "text": [
      "MultiVuServer - Closing connection to ('127.0.0.1', 52164)\n",
      "MultiVuServer - Found PPMS running.\n",
      "MultiVuServer - listening on ('localhost', 5000)\n",
      "MultiVuServer - Press ESC to exit.\n",
      "MultiVuClient - Starting connection to ('localhost', 5000)\n",
      "MultiVuClient - Starting connection to ('localhost', 5000)\n",
      "MultiVuServer - Accepted connection from ('127.0.0.1', 52165)\n",
      "MultiVuClient - Connected to PPMS MultiVuServer at ('127.0.0.1', 52165)\n",
      "MultiVuClient - Connected to PPMS MultiVuServer at ('127.0.0.1', 52165)\n",
      "MultiVuServer - Client ('127.0.0.1', 52165) disconnected.\n",
      "MultiVuClient - Closing connection to ('127.0.0.1', 52165)\n",
      "MultiVuClient - Closing connection to ('127.0.0.1', 52165)\n"
     ]
    },
    {
     "name": "stdout",
     "output_type": "stream",
     "text": [
      "field is stable = -66000.3125Oe\n"
     ]
    },
    {
     "name": "stderr",
     "output_type": "stream",
     "text": [
      "MultiVuServer - Closing connection to ('127.0.0.1', 52165)\n",
      "MultiVuServer - Found PPMS running.\n",
      "MultiVuServer - listening on ('localhost', 5000)\n",
      "MultiVuServer - Press ESC to exit.\n",
      "MultiVuClient - Starting connection to ('localhost', 5000)\n",
      "MultiVuClient - Starting connection to ('localhost', 5000)\n",
      "MultiVuServer - Accepted connection from ('127.0.0.1', 52166)\n",
      "MultiVuClient - Connected to PPMS MultiVuServer at ('127.0.0.1', 52166)\n",
      "MultiVuClient - Connected to PPMS MultiVuServer at ('127.0.0.1', 52166)\n",
      "MultiVuServer - Client ('127.0.0.1', 52166) disconnected.\n",
      "MultiVuClient - Closing connection to ('127.0.0.1', 52166)\n",
      "MultiVuClient - Closing connection to ('127.0.0.1', 52166)\n"
     ]
    },
    {
     "name": "stdout",
     "output_type": "stream",
     "text": [
      "field is stable = -65000.5195Oe\n"
     ]
    },
    {
     "name": "stderr",
     "output_type": "stream",
     "text": [
      "MultiVuServer - Closing connection to ('127.0.0.1', 52166)\n",
      "MultiVuServer - Found PPMS running.\n",
      "MultiVuServer - listening on ('localhost', 5000)\n",
      "MultiVuServer - Press ESC to exit.\n",
      "MultiVuClient - Starting connection to ('localhost', 5000)\n",
      "MultiVuClient - Starting connection to ('localhost', 5000)\n",
      "MultiVuServer - Accepted connection from ('127.0.0.1', 52168)\n",
      "MultiVuClient - Connected to PPMS MultiVuServer at ('127.0.0.1', 52168)\n",
      "MultiVuClient - Connected to PPMS MultiVuServer at ('127.0.0.1', 52168)\n",
      "MultiVuServer - Client ('127.0.0.1', 52168) disconnected.\n",
      "MultiVuClient - Closing connection to ('127.0.0.1', 52168)\n",
      "MultiVuClient - Closing connection to ('127.0.0.1', 52168)\n"
     ]
    },
    {
     "name": "stdout",
     "output_type": "stream",
     "text": [
      "field is stable = -64000.3906Oe\n"
     ]
    },
    {
     "name": "stderr",
     "output_type": "stream",
     "text": [
      "MultiVuServer - Closing connection to ('127.0.0.1', 52168)\n",
      "MultiVuServer - Found PPMS running.\n",
      "MultiVuServer - listening on ('localhost', 5000)\n",
      "MultiVuServer - Press ESC to exit.\n",
      "MultiVuClient - Starting connection to ('localhost', 5000)\n",
      "MultiVuClient - Starting connection to ('localhost', 5000)\n",
      "MultiVuServer - Accepted connection from ('127.0.0.1', 52169)\n",
      "MultiVuClient - Connected to PPMS MultiVuServer at ('127.0.0.1', 52169)\n",
      "MultiVuClient - Connected to PPMS MultiVuServer at ('127.0.0.1', 52169)\n",
      "MultiVuServer - Client ('127.0.0.1', 52169) disconnected.\n",
      "MultiVuClient - Closing connection to ('127.0.0.1', 52169)\n",
      "MultiVuClient - Closing connection to ('127.0.0.1', 52169)\n"
     ]
    },
    {
     "name": "stdout",
     "output_type": "stream",
     "text": [
      "field is stable = -63000.4102Oe\n"
     ]
    },
    {
     "name": "stderr",
     "output_type": "stream",
     "text": [
      "MultiVuServer - Closing connection to ('127.0.0.1', 52169)\n",
      "MultiVuServer - Found PPMS running.\n",
      "MultiVuServer - listening on ('localhost', 5000)\n",
      "MultiVuServer - Press ESC to exit.\n",
      "MultiVuClient - Starting connection to ('localhost', 5000)\n",
      "MultiVuClient - Starting connection to ('localhost', 5000)\n",
      "MultiVuServer - Accepted connection from ('127.0.0.1', 52170)\n",
      "MultiVuClient - Connected to PPMS MultiVuServer at ('127.0.0.1', 52170)\n",
      "MultiVuClient - Connected to PPMS MultiVuServer at ('127.0.0.1', 52170)\n",
      "MultiVuServer - Client ('127.0.0.1', 52170) disconnected.\n",
      "MultiVuClient - Closing connection to ('127.0.0.1', 52170)\n",
      "MultiVuClient - Closing connection to ('127.0.0.1', 52170)\n"
     ]
    },
    {
     "name": "stdout",
     "output_type": "stream",
     "text": [
      "field is stable = -62000.5703Oe\n"
     ]
    },
    {
     "name": "stderr",
     "output_type": "stream",
     "text": [
      "MultiVuServer - Closing connection to ('127.0.0.1', 52170)\n",
      "MultiVuServer - Found PPMS running.\n",
      "MultiVuServer - listening on ('localhost', 5000)\n",
      "MultiVuServer - Press ESC to exit.\n",
      "MultiVuClient - Starting connection to ('localhost', 5000)\n",
      "MultiVuClient - Starting connection to ('localhost', 5000)\n",
      "MultiVuServer - Accepted connection from ('127.0.0.1', 52172)\n",
      "MultiVuClient - Connected to PPMS MultiVuServer at ('127.0.0.1', 52172)\n",
      "MultiVuClient - Connected to PPMS MultiVuServer at ('127.0.0.1', 52172)\n",
      "MultiVuServer - Client ('127.0.0.1', 52172) disconnected.\n",
      "MultiVuClient - Closing connection to ('127.0.0.1', 52172)\n",
      "MultiVuClient - Closing connection to ('127.0.0.1', 52172)\n"
     ]
    },
    {
     "name": "stdout",
     "output_type": "stream",
     "text": [
      "field is stable = -61000.6016Oe\n"
     ]
    },
    {
     "name": "stderr",
     "output_type": "stream",
     "text": [
      "MultiVuServer - Closing connection to ('127.0.0.1', 52172)\n",
      "MultiVuServer - Found PPMS running.\n",
      "MultiVuServer - listening on ('localhost', 5000)\n",
      "MultiVuServer - Press ESC to exit.\n",
      "MultiVuClient - Starting connection to ('localhost', 5000)\n",
      "MultiVuClient - Starting connection to ('localhost', 5000)\n",
      "MultiVuServer - Accepted connection from ('127.0.0.1', 52173)\n",
      "MultiVuClient - Connected to PPMS MultiVuServer at ('127.0.0.1', 52173)\n",
      "MultiVuClient - Connected to PPMS MultiVuServer at ('127.0.0.1', 52173)\n",
      "MultiVuServer - Client ('127.0.0.1', 52173) disconnected.\n",
      "MultiVuClient - Closing connection to ('127.0.0.1', 52173)\n",
      "MultiVuClient - Closing connection to ('127.0.0.1', 52173)\n"
     ]
    },
    {
     "name": "stdout",
     "output_type": "stream",
     "text": [
      "field is stable = -60000.3633Oe\n"
     ]
    },
    {
     "name": "stderr",
     "output_type": "stream",
     "text": [
      "MultiVuServer - Closing connection to ('127.0.0.1', 52173)\n",
      "MultiVuServer - Found PPMS running.\n",
      "MultiVuServer - listening on ('localhost', 5000)\n",
      "MultiVuServer - Press ESC to exit.\n",
      "MultiVuClient - Starting connection to ('localhost', 5000)\n",
      "MultiVuClient - Starting connection to ('localhost', 5000)\n",
      "MultiVuServer - Accepted connection from ('127.0.0.1', 52174)\n",
      "MultiVuClient - Connected to PPMS MultiVuServer at ('127.0.0.1', 52174)\n",
      "MultiVuClient - Connected to PPMS MultiVuServer at ('127.0.0.1', 52174)\n",
      "MultiVuServer - Client ('127.0.0.1', 52174) disconnected.\n",
      "MultiVuClient - Closing connection to ('127.0.0.1', 52174)\n",
      "MultiVuClient - Closing connection to ('127.0.0.1', 52174)\n"
     ]
    },
    {
     "name": "stdout",
     "output_type": "stream",
     "text": [
      "field is stable = -59000.6094Oe\n"
     ]
    },
    {
     "name": "stderr",
     "output_type": "stream",
     "text": [
      "MultiVuServer - Closing connection to ('127.0.0.1', 52174)\n",
      "MultiVuServer - Found PPMS running.\n",
      "MultiVuServer - listening on ('localhost', 5000)\n",
      "MultiVuServer - Press ESC to exit.\n",
      "MultiVuClient - Starting connection to ('localhost', 5000)\n",
      "MultiVuClient - Starting connection to ('localhost', 5000)\n",
      "MultiVuServer - Accepted connection from ('127.0.0.1', 52176)\n",
      "MultiVuClient - Connected to PPMS MultiVuServer at ('127.0.0.1', 52176)\n",
      "MultiVuClient - Connected to PPMS MultiVuServer at ('127.0.0.1', 52176)\n",
      "MultiVuServer - Client ('127.0.0.1', 52176) disconnected.\n",
      "MultiVuClient - Closing connection to ('127.0.0.1', 52176)\n",
      "MultiVuClient - Closing connection to ('127.0.0.1', 52176)\n"
     ]
    },
    {
     "name": "stdout",
     "output_type": "stream",
     "text": [
      "field is stable = -58000.4805Oe\n"
     ]
    },
    {
     "name": "stderr",
     "output_type": "stream",
     "text": [
      "MultiVuServer - Closing connection to ('127.0.0.1', 52176)\n",
      "MultiVuServer - Found PPMS running.\n",
      "MultiVuServer - listening on ('localhost', 5000)\n",
      "MultiVuServer - Press ESC to exit.\n",
      "MultiVuClient - Starting connection to ('localhost', 5000)\n",
      "MultiVuClient - Starting connection to ('localhost', 5000)\n",
      "MultiVuServer - Accepted connection from ('127.0.0.1', 52177)\n",
      "MultiVuClient - Connected to PPMS MultiVuServer at ('127.0.0.1', 52177)\n",
      "MultiVuClient - Connected to PPMS MultiVuServer at ('127.0.0.1', 52177)\n",
      "MultiVuServer - Client ('127.0.0.1', 52177) disconnected.\n",
      "MultiVuClient - Closing connection to ('127.0.0.1', 52177)\n",
      "MultiVuClient - Closing connection to ('127.0.0.1', 52177)\n"
     ]
    },
    {
     "name": "stdout",
     "output_type": "stream",
     "text": [
      "field is stable = -57000.2539Oe\n"
     ]
    },
    {
     "name": "stderr",
     "output_type": "stream",
     "text": [
      "MultiVuServer - Closing connection to ('127.0.0.1', 52177)\n",
      "MultiVuServer - Found PPMS running.\n",
      "MultiVuServer - listening on ('localhost', 5000)\n",
      "MultiVuServer - Press ESC to exit.\n",
      "MultiVuClient - Starting connection to ('localhost', 5000)\n",
      "MultiVuClient - Starting connection to ('localhost', 5000)\n",
      "MultiVuServer - Accepted connection from ('127.0.0.1', 52178)\n",
      "MultiVuClient - Connected to PPMS MultiVuServer at ('127.0.0.1', 52178)\n",
      "MultiVuClient - Connected to PPMS MultiVuServer at ('127.0.0.1', 52178)\n",
      "MultiVuServer - Client ('127.0.0.1', 52178) disconnected.\n",
      "MultiVuClient - Closing connection to ('127.0.0.1', 52178)\n",
      "MultiVuClient - Closing connection to ('127.0.0.1', 52178)\n"
     ]
    },
    {
     "name": "stdout",
     "output_type": "stream",
     "text": [
      "field is stable = -56000.5469Oe\n"
     ]
    },
    {
     "name": "stderr",
     "output_type": "stream",
     "text": [
      "MultiVuServer - Closing connection to ('127.0.0.1', 52178)\n",
      "MultiVuServer - Found PPMS running.\n",
      "MultiVuServer - listening on ('localhost', 5000)\n",
      "MultiVuServer - Press ESC to exit.\n",
      "MultiVuClient - Starting connection to ('localhost', 5000)\n",
      "MultiVuClient - Starting connection to ('localhost', 5000)\n",
      "MultiVuServer - Accepted connection from ('127.0.0.1', 52182)\n",
      "MultiVuClient - Connected to PPMS MultiVuServer at ('127.0.0.1', 52182)\n",
      "MultiVuClient - Connected to PPMS MultiVuServer at ('127.0.0.1', 52182)\n",
      "MultiVuServer - Client ('127.0.0.1', 52182) disconnected.\n",
      "MultiVuClient - Closing connection to ('127.0.0.1', 52182)\n",
      "MultiVuClient - Closing connection to ('127.0.0.1', 52182)\n"
     ]
    },
    {
     "name": "stdout",
     "output_type": "stream",
     "text": [
      "field is stable = -55000.3945Oe\n"
     ]
    },
    {
     "name": "stderr",
     "output_type": "stream",
     "text": [
      "MultiVuServer - Closing connection to ('127.0.0.1', 52182)\n",
      "MultiVuServer - Found PPMS running.\n",
      "MultiVuServer - listening on ('localhost', 5000)\n",
      "MultiVuServer - Press ESC to exit.\n",
      "MultiVuClient - Starting connection to ('localhost', 5000)\n",
      "MultiVuClient - Starting connection to ('localhost', 5000)\n",
      "MultiVuServer - Accepted connection from ('127.0.0.1', 52183)\n",
      "MultiVuClient - Connected to PPMS MultiVuServer at ('127.0.0.1', 52183)\n",
      "MultiVuClient - Connected to PPMS MultiVuServer at ('127.0.0.1', 52183)\n",
      "MultiVuServer - Client ('127.0.0.1', 52183) disconnected.\n",
      "MultiVuClient - Closing connection to ('127.0.0.1', 52183)\n",
      "MultiVuClient - Closing connection to ('127.0.0.1', 52183)\n"
     ]
    },
    {
     "name": "stdout",
     "output_type": "stream",
     "text": [
      "field is stable = -54000.5664Oe\n"
     ]
    },
    {
     "name": "stderr",
     "output_type": "stream",
     "text": [
      "MultiVuServer - Closing connection to ('127.0.0.1', 52183)\n",
      "MultiVuServer - Found PPMS running.\n",
      "MultiVuServer - listening on ('localhost', 5000)\n",
      "MultiVuServer - Press ESC to exit.\n",
      "MultiVuClient - Starting connection to ('localhost', 5000)\n",
      "MultiVuClient - Starting connection to ('localhost', 5000)\n",
      "MultiVuServer - Accepted connection from ('127.0.0.1', 52184)\n",
      "MultiVuClient - Connected to PPMS MultiVuServer at ('127.0.0.1', 52184)\n",
      "MultiVuClient - Connected to PPMS MultiVuServer at ('127.0.0.1', 52184)\n",
      "MultiVuServer - Client ('127.0.0.1', 52184) disconnected.\n",
      "MultiVuClient - Closing connection to ('127.0.0.1', 52184)\n",
      "MultiVuClient - Closing connection to ('127.0.0.1', 52184)\n"
     ]
    },
    {
     "name": "stdout",
     "output_type": "stream",
     "text": [
      "field is stable = -53000.6875Oe\n"
     ]
    },
    {
     "name": "stderr",
     "output_type": "stream",
     "text": [
      "MultiVuServer - Closing connection to ('127.0.0.1', 52184)\n",
      "MultiVuServer - Found PPMS running.\n",
      "MultiVuServer - listening on ('localhost', 5000)\n",
      "MultiVuServer - Press ESC to exit.\n",
      "MultiVuClient - Starting connection to ('localhost', 5000)\n",
      "MultiVuClient - Starting connection to ('localhost', 5000)\n",
      "MultiVuServer - Accepted connection from ('127.0.0.1', 52186)\n",
      "MultiVuClient - Connected to PPMS MultiVuServer at ('127.0.0.1', 52186)\n",
      "MultiVuClient - Connected to PPMS MultiVuServer at ('127.0.0.1', 52186)\n",
      "MultiVuServer - Client ('127.0.0.1', 52186) disconnected.\n",
      "MultiVuClient - Closing connection to ('127.0.0.1', 52186)\n",
      "MultiVuClient - Closing connection to ('127.0.0.1', 52186)\n"
     ]
    },
    {
     "name": "stdout",
     "output_type": "stream",
     "text": [
      "field is stable = -52000.6055Oe\n"
     ]
    },
    {
     "name": "stderr",
     "output_type": "stream",
     "text": [
      "MultiVuServer - Closing connection to ('127.0.0.1', 52186)\n",
      "MultiVuServer - Found PPMS running.\n",
      "MultiVuServer - listening on ('localhost', 5000)\n",
      "MultiVuServer - Press ESC to exit.\n",
      "MultiVuClient - Starting connection to ('localhost', 5000)\n",
      "MultiVuClient - Starting connection to ('localhost', 5000)\n",
      "MultiVuServer - Accepted connection from ('127.0.0.1', 52187)\n",
      "MultiVuClient - Connected to PPMS MultiVuServer at ('127.0.0.1', 52187)\n",
      "MultiVuClient - Connected to PPMS MultiVuServer at ('127.0.0.1', 52187)\n",
      "MultiVuServer - Client ('127.0.0.1', 52187) disconnected.\n",
      "MultiVuClient - Closing connection to ('127.0.0.1', 52187)\n",
      "MultiVuClient - Closing connection to ('127.0.0.1', 52187)\n"
     ]
    },
    {
     "name": "stdout",
     "output_type": "stream",
     "text": [
      "field is stable = -51000.4922Oe\n"
     ]
    },
    {
     "name": "stderr",
     "output_type": "stream",
     "text": [
      "MultiVuServer - Closing connection to ('127.0.0.1', 52187)\n",
      "MultiVuServer - Found PPMS running.\n",
      "MultiVuServer - listening on ('localhost', 5000)\n",
      "MultiVuServer - Press ESC to exit.\n",
      "MultiVuClient - Starting connection to ('localhost', 5000)\n",
      "MultiVuClient - Starting connection to ('localhost', 5000)\n",
      "MultiVuServer - Accepted connection from ('127.0.0.1', 52189)\n",
      "MultiVuClient - Connected to PPMS MultiVuServer at ('127.0.0.1', 52189)\n",
      "MultiVuClient - Connected to PPMS MultiVuServer at ('127.0.0.1', 52189)\n",
      "MultiVuServer - Client ('127.0.0.1', 52189) disconnected.\n",
      "MultiVuClient - Closing connection to ('127.0.0.1', 52189)\n",
      "MultiVuClient - Closing connection to ('127.0.0.1', 52189)\n"
     ]
    },
    {
     "name": "stdout",
     "output_type": "stream",
     "text": [
      "field is stable = -50000.4102Oe\n"
     ]
    },
    {
     "name": "stderr",
     "output_type": "stream",
     "text": [
      "MultiVuServer - Closing connection to ('127.0.0.1', 52189)\n",
      "MultiVuServer - Found PPMS running.\n",
      "MultiVuServer - listening on ('localhost', 5000)\n",
      "MultiVuServer - Press ESC to exit.\n",
      "MultiVuClient - Starting connection to ('localhost', 5000)\n",
      "MultiVuClient - Starting connection to ('localhost', 5000)\n",
      "MultiVuServer - Accepted connection from ('127.0.0.1', 52190)\n",
      "MultiVuClient - Connected to PPMS MultiVuServer at ('127.0.0.1', 52190)\n",
      "MultiVuClient - Connected to PPMS MultiVuServer at ('127.0.0.1', 52190)\n",
      "--- Logging error ---\n",
      "Traceback (most recent call last):\n",
      "  File \"C:\\ProgramData\\Anaconda3\\lib\\logging\\handlers.py\", line 70, in emit\n",
      "    self.doRollover()\n",
      "  File \"C:\\ProgramData\\Anaconda3\\lib\\logging\\handlers.py\", line 171, in doRollover\n",
      "    self.rotate(self.baseFilename, dfn)\n",
      "  File \"C:\\ProgramData\\Anaconda3\\lib\\logging\\handlers.py\", line 111, in rotate\n",
      "    os.rename(source, dest)\n",
      "PermissionError: [WinError 32] The process cannot access the file because it is being used by another process: 'D:\\\\User Data\\\\Cheng Yang\\\\Sam files\\\\_switch\\\\QdMultiVu.log' -> 'D:\\\\User Data\\\\Cheng Yang\\\\Sam files\\\\_switch\\\\QdMultiVu.log.1'\n",
      "Call stack:\n",
      "  File \"C:\\ProgramData\\Anaconda3\\lib\\runpy.py\", line 194, in _run_module_as_main\n",
      "    return _run_code(code, main_globals, None,\n",
      "  File \"C:\\ProgramData\\Anaconda3\\lib\\runpy.py\", line 87, in _run_code\n",
      "    exec(code, run_globals)\n",
      "  File \"C:\\ProgramData\\Anaconda3\\lib\\site-packages\\ipykernel_launcher.py\", line 16, in <module>\n",
      "    app.launch_new_instance()\n",
      "  File \"C:\\ProgramData\\Anaconda3\\lib\\site-packages\\traitlets\\config\\application.py\", line 845, in launch_instance\n",
      "    app.start()\n",
      "  File \"C:\\ProgramData\\Anaconda3\\lib\\site-packages\\ipykernel\\kernelapp.py\", line 612, in start\n",
      "    self.io_loop.start()\n",
      "  File \"C:\\ProgramData\\Anaconda3\\lib\\site-packages\\tornado\\platform\\asyncio.py\", line 199, in start\n",
      "    self.asyncio_loop.run_forever()\n",
      "  File \"C:\\ProgramData\\Anaconda3\\lib\\asyncio\\base_events.py\", line 570, in run_forever\n",
      "    self._run_once()\n",
      "  File \"C:\\ProgramData\\Anaconda3\\lib\\asyncio\\base_events.py\", line 1859, in _run_once\n",
      "    handle._run()\n",
      "  File \"C:\\ProgramData\\Anaconda3\\lib\\asyncio\\events.py\", line 81, in _run\n",
      "    self._context.run(self._callback, *self._args)\n",
      "  File \"C:\\ProgramData\\Anaconda3\\lib\\site-packages\\tornado\\ioloop.py\", line 688, in <lambda>\n",
      "    lambda f: self._run_callback(functools.partial(callback, future))\n",
      "  File \"C:\\ProgramData\\Anaconda3\\lib\\site-packages\\tornado\\ioloop.py\", line 741, in _run_callback\n",
      "    ret = callback()\n",
      "  File \"C:\\ProgramData\\Anaconda3\\lib\\site-packages\\tornado\\gen.py\", line 814, in inner\n",
      "    self.ctx_run(self.run)\n",
      "  File \"C:\\ProgramData\\Anaconda3\\lib\\site-packages\\tornado\\gen.py\", line 775, in run\n",
      "    yielded = self.gen.send(value)\n",
      "  File \"C:\\ProgramData\\Anaconda3\\lib\\site-packages\\ipykernel\\kernelbase.py\", line 365, in process_one\n",
      "    yield gen.maybe_future(dispatch(*args))\n",
      "  File \"C:\\ProgramData\\Anaconda3\\lib\\site-packages\\tornado\\gen.py\", line 234, in wrapper\n",
      "    yielded = ctx_run(next, result)\n",
      "  File \"C:\\ProgramData\\Anaconda3\\lib\\site-packages\\ipykernel\\kernelbase.py\", line 268, in dispatch_shell\n",
      "    yield gen.maybe_future(handler(stream, idents, msg))\n",
      "  File \"C:\\ProgramData\\Anaconda3\\lib\\site-packages\\tornado\\gen.py\", line 234, in wrapper\n",
      "    yielded = ctx_run(next, result)\n",
      "  File \"C:\\ProgramData\\Anaconda3\\lib\\site-packages\\ipykernel\\kernelbase.py\", line 543, in execute_request\n",
      "    self.do_execute(\n",
      "  File \"C:\\ProgramData\\Anaconda3\\lib\\site-packages\\tornado\\gen.py\", line 234, in wrapper\n",
      "    yielded = ctx_run(next, result)\n",
      "  File \"C:\\ProgramData\\Anaconda3\\lib\\site-packages\\ipykernel\\ipkernel.py\", line 306, in do_execute\n",
      "    res = shell.run_cell(code, store_history=store_history, silent=silent)\n",
      "  File \"C:\\ProgramData\\Anaconda3\\lib\\site-packages\\ipykernel\\zmqshell.py\", line 536, in run_cell\n",
      "    return super(ZMQInteractiveShell, self).run_cell(*args, **kwargs)\n",
      "  File \"C:\\ProgramData\\Anaconda3\\lib\\site-packages\\IPython\\core\\interactiveshell.py\", line 2894, in run_cell\n",
      "    result = self._run_cell(\n",
      "  File \"C:\\ProgramData\\Anaconda3\\lib\\site-packages\\IPython\\core\\interactiveshell.py\", line 2940, in _run_cell\n",
      "    return runner(coro)\n",
      "  File \"C:\\ProgramData\\Anaconda3\\lib\\site-packages\\IPython\\core\\async_helpers.py\", line 68, in _pseudo_sync_runner\n",
      "    coro.send(None)\n",
      "  File \"C:\\ProgramData\\Anaconda3\\lib\\site-packages\\IPython\\core\\interactiveshell.py\", line 3165, in run_cell_async\n",
      "    has_raised = await self.run_ast_nodes(code_ast.body, cell_name,\n",
      "  File \"C:\\ProgramData\\Anaconda3\\lib\\site-packages\\IPython\\core\\interactiveshell.py\", line 3357, in run_ast_nodes\n",
      "    if (await self.run_code(code, result,  async_=asy)):\n",
      "  File \"C:\\ProgramData\\Anaconda3\\lib\\site-packages\\IPython\\core\\interactiveshell.py\", line 3437, in run_code\n",
      "    exec(code_obj, self.user_global_ns, self.user_ns)\n",
      "  File \"<ipython-input-22-27e125d4ba11>\", line 12, in <module>\n",
      "    SetFieldStable(Field=field, rate=100, Mode='driven')\n",
      "  File \"<ipython-input-21-2ef2ba38fbaf>\", line 112, in SetFieldStable\n",
      "    F = client.get_field()\n",
      "  File \"C:\\ProgramData\\Anaconda3\\lib\\site-packages\\MultiPyVu\\MultiVuClient.py\", line 514, in get_field\n",
      "    self.response = self._send_and_receive('FIELD?', '')\n",
      "  File \"C:\\ProgramData\\Anaconda3\\lib\\site-packages\\MultiPyVu\\MultiVuClient.py\", line 198, in _send_and_receive\n",
      "    self.response = self._monitor_and_get_response()\n",
      "  File \"C:\\ProgramData\\Anaconda3\\lib\\site-packages\\MultiPyVu\\MultiVuClient.py\", line 237, in _monitor_and_get_response\n",
      "    message.process_events(mask)\n",
      "  File \"C:\\ProgramData\\Anaconda3\\lib\\site-packages\\MultiPyVu\\SocketMessage.py\", line 327, in process_events\n",
      "    self.write()\n",
      "  File \"C:\\ProgramData\\Anaconda3\\lib\\site-packages\\MultiPyVu\\SocketMessageClient.py\", line 99, in write\n",
      "    self._write()\n",
      "  File \"C:\\ProgramData\\Anaconda3\\lib\\site-packages\\MultiPyVu\\SocketMessage.py\", line 127, in _write\n",
      "    self._log_send()\n",
      "  File \"C:\\ProgramData\\Anaconda3\\lib\\site-packages\\MultiPyVu\\SocketMessage.py\", line 164, in _log_send\n",
      "    self.logger.debug(msg)\n",
      "Message: ';to (\\'127.0.0.1\\', 52190); Sending b\\'\\\\x00g{\"byteorder\": \"little\", \"content-type\": \"text/json\", \"content-encoding\": \"utf-8\", \"content-length\": 47}{\"action\": \"FIELD?\", \"query\": \"\", \"result\": \"\"}\\''\n",
      "Arguments: ()\n",
      "--- Logging error ---\n",
      "Traceback (most recent call last):\n",
      "  File \"C:\\ProgramData\\Anaconda3\\lib\\logging\\handlers.py\", line 70, in emit\n",
      "    self.doRollover()\n",
      "  File \"C:\\ProgramData\\Anaconda3\\lib\\logging\\handlers.py\", line 171, in doRollover\n",
      "    self.rotate(self.baseFilename, dfn)\n",
      "  File \"C:\\ProgramData\\Anaconda3\\lib\\logging\\handlers.py\", line 111, in rotate\n",
      "    os.rename(source, dest)\n",
      "PermissionError: [WinError 32] The process cannot access the file because it is being used by another process: 'D:\\\\User Data\\\\Cheng Yang\\\\Sam files\\\\_switch\\\\QdMultiVu.log' -> 'D:\\\\User Data\\\\Cheng Yang\\\\Sam files\\\\_switch\\\\QdMultiVu.log.1'\n",
      "Call stack:\n",
      "  File \"C:\\ProgramData\\Anaconda3\\lib\\runpy.py\", line 194, in _run_module_as_main\n",
      "    return _run_code(code, main_globals, None,\n",
      "  File \"C:\\ProgramData\\Anaconda3\\lib\\runpy.py\", line 87, in _run_code\n",
      "    exec(code, run_globals)\n",
      "  File \"C:\\ProgramData\\Anaconda3\\lib\\site-packages\\ipykernel_launcher.py\", line 16, in <module>\n",
      "    app.launch_new_instance()\n",
      "  File \"C:\\ProgramData\\Anaconda3\\lib\\site-packages\\traitlets\\config\\application.py\", line 845, in launch_instance\n",
      "    app.start()\n",
      "  File \"C:\\ProgramData\\Anaconda3\\lib\\site-packages\\ipykernel\\kernelapp.py\", line 612, in start\n",
      "    self.io_loop.start()\n",
      "  File \"C:\\ProgramData\\Anaconda3\\lib\\site-packages\\tornado\\platform\\asyncio.py\", line 199, in start\n",
      "    self.asyncio_loop.run_forever()\n",
      "  File \"C:\\ProgramData\\Anaconda3\\lib\\asyncio\\base_events.py\", line 570, in run_forever\n",
      "    self._run_once()\n",
      "  File \"C:\\ProgramData\\Anaconda3\\lib\\asyncio\\base_events.py\", line 1859, in _run_once\n",
      "    handle._run()\n",
      "  File \"C:\\ProgramData\\Anaconda3\\lib\\asyncio\\events.py\", line 81, in _run\n",
      "    self._context.run(self._callback, *self._args)\n",
      "  File \"C:\\ProgramData\\Anaconda3\\lib\\site-packages\\tornado\\ioloop.py\", line 688, in <lambda>\n",
      "    lambda f: self._run_callback(functools.partial(callback, future))\n",
      "  File \"C:\\ProgramData\\Anaconda3\\lib\\site-packages\\tornado\\ioloop.py\", line 741, in _run_callback\n",
      "    ret = callback()\n",
      "  File \"C:\\ProgramData\\Anaconda3\\lib\\site-packages\\tornado\\gen.py\", line 814, in inner\n",
      "    self.ctx_run(self.run)\n",
      "  File \"C:\\ProgramData\\Anaconda3\\lib\\site-packages\\tornado\\gen.py\", line 775, in run\n",
      "    yielded = self.gen.send(value)\n",
      "  File \"C:\\ProgramData\\Anaconda3\\lib\\site-packages\\ipykernel\\kernelbase.py\", line 365, in process_one\n",
      "    yield gen.maybe_future(dispatch(*args))\n",
      "  File \"C:\\ProgramData\\Anaconda3\\lib\\site-packages\\tornado\\gen.py\", line 234, in wrapper\n",
      "    yielded = ctx_run(next, result)\n",
      "  File \"C:\\ProgramData\\Anaconda3\\lib\\site-packages\\ipykernel\\kernelbase.py\", line 268, in dispatch_shell\n",
      "    yield gen.maybe_future(handler(stream, idents, msg))\n",
      "  File \"C:\\ProgramData\\Anaconda3\\lib\\site-packages\\tornado\\gen.py\", line 234, in wrapper\n",
      "    yielded = ctx_run(next, result)\n",
      "  File \"C:\\ProgramData\\Anaconda3\\lib\\site-packages\\ipykernel\\kernelbase.py\", line 543, in execute_request\n",
      "    self.do_execute(\n",
      "  File \"C:\\ProgramData\\Anaconda3\\lib\\site-packages\\tornado\\gen.py\", line 234, in wrapper\n",
      "    yielded = ctx_run(next, result)\n",
      "  File \"C:\\ProgramData\\Anaconda3\\lib\\site-packages\\ipykernel\\ipkernel.py\", line 306, in do_execute\n",
      "    res = shell.run_cell(code, store_history=store_history, silent=silent)\n",
      "  File \"C:\\ProgramData\\Anaconda3\\lib\\site-packages\\ipykernel\\zmqshell.py\", line 536, in run_cell\n",
      "    return super(ZMQInteractiveShell, self).run_cell(*args, **kwargs)\n",
      "  File \"C:\\ProgramData\\Anaconda3\\lib\\site-packages\\IPython\\core\\interactiveshell.py\", line 2894, in run_cell\n",
      "    result = self._run_cell(\n",
      "  File \"C:\\ProgramData\\Anaconda3\\lib\\site-packages\\IPython\\core\\interactiveshell.py\", line 2940, in _run_cell\n",
      "    return runner(coro)\n",
      "  File \"C:\\ProgramData\\Anaconda3\\lib\\site-packages\\IPython\\core\\async_helpers.py\", line 68, in _pseudo_sync_runner\n",
      "    coro.send(None)\n",
      "  File \"C:\\ProgramData\\Anaconda3\\lib\\site-packages\\IPython\\core\\interactiveshell.py\", line 3165, in run_cell_async\n",
      "    has_raised = await self.run_ast_nodes(code_ast.body, cell_name,\n",
      "  File \"C:\\ProgramData\\Anaconda3\\lib\\site-packages\\IPython\\core\\interactiveshell.py\", line 3357, in run_ast_nodes\n",
      "    if (await self.run_code(code, result,  async_=asy)):\n",
      "  File \"C:\\ProgramData\\Anaconda3\\lib\\site-packages\\IPython\\core\\interactiveshell.py\", line 3437, in run_code\n",
      "    exec(code_obj, self.user_global_ns, self.user_ns)\n",
      "  File \"<ipython-input-22-27e125d4ba11>\", line 12, in <module>\n",
      "    SetFieldStable(Field=field, rate=100, Mode='driven')\n",
      "  File \"<ipython-input-21-2ef2ba38fbaf>\", line 112, in SetFieldStable\n",
      "    F = client.get_field()\n",
      "  File \"C:\\ProgramData\\Anaconda3\\lib\\site-packages\\MultiPyVu\\MultiVuClient.py\", line 514, in get_field\n",
      "    self.response = self._send_and_receive('FIELD?', '')\n",
      "  File \"C:\\ProgramData\\Anaconda3\\lib\\site-packages\\MultiPyVu\\MultiVuClient.py\", line 198, in _send_and_receive\n",
      "    self.response = self._monitor_and_get_response()\n",
      "  File \"C:\\ProgramData\\Anaconda3\\lib\\site-packages\\MultiPyVu\\MultiVuClient.py\", line 237, in _monitor_and_get_response\n",
      "    message.process_events(mask)\n",
      "  File \"C:\\ProgramData\\Anaconda3\\lib\\site-packages\\MultiPyVu\\SocketMessage.py\", line 327, in process_events\n",
      "    self.write()\n",
      "  File \"C:\\ProgramData\\Anaconda3\\lib\\site-packages\\MultiPyVu\\SocketMessageClient.py\", line 99, in write\n",
      "    self._write()\n",
      "  File \"C:\\ProgramData\\Anaconda3\\lib\\site-packages\\MultiPyVu\\SocketMessage.py\", line 127, in _write\n",
      "    self._log_send()\n",
      "  File \"C:\\ProgramData\\Anaconda3\\lib\\site-packages\\MultiPyVu\\SocketMessage.py\", line 164, in _log_send\n",
      "    self.logger.debug(msg)\n",
      "Message: ';to (\\'127.0.0.1\\', 52190); Sending b\\'\\\\x00g{\"byteorder\": \"little\", \"content-type\": \"text/json\", \"content-encoding\": \"utf-8\", \"content-length\": 47}{\"action\": \"FIELD?\", \"query\": \"\", \"result\": \"\"}\\''\n",
      "Arguments: ()\n"
     ]
    },
    {
     "name": "stderr",
     "output_type": "stream",
     "text": [
      "MultiVuServer - Client ('127.0.0.1', 52190) disconnected.\n",
      "MultiVuClient - Closing connection to ('127.0.0.1', 52190)\n",
      "MultiVuClient - Closing connection to ('127.0.0.1', 52190)\n"
     ]
    },
    {
     "name": "stdout",
     "output_type": "stream",
     "text": [
      "field is stable = -49000.5117Oe\n"
     ]
    },
    {
     "name": "stderr",
     "output_type": "stream",
     "text": [
      "MultiVuServer - Closing connection to ('127.0.0.1', 52190)\n",
      "MultiVuServer - Found PPMS running.\n",
      "MultiVuServer - listening on ('localhost', 5000)\n",
      "MultiVuServer - Press ESC to exit.\n",
      "MultiVuClient - Starting connection to ('localhost', 5000)\n",
      "MultiVuClient - Starting connection to ('localhost', 5000)\n",
      "MultiVuServer - Accepted connection from ('127.0.0.1', 52191)\n",
      "MultiVuClient - Connected to PPMS MultiVuServer at ('127.0.0.1', 52191)\n",
      "MultiVuClient - Connected to PPMS MultiVuServer at ('127.0.0.1', 52191)\n",
      "MultiVuServer - Client ('127.0.0.1', 52191) disconnected.\n",
      "MultiVuClient - Closing connection to ('127.0.0.1', 52191)\n",
      "MultiVuClient - Closing connection to ('127.0.0.1', 52191)\n"
     ]
    },
    {
     "name": "stdout",
     "output_type": "stream",
     "text": [
      "field is stable = -48000.375Oe\n"
     ]
    },
    {
     "name": "stderr",
     "output_type": "stream",
     "text": [
      "MultiVuServer - Closing connection to ('127.0.0.1', 52191)\n",
      "MultiVuServer - Found PPMS running.\n",
      "MultiVuServer - listening on ('localhost', 5000)\n",
      "MultiVuServer - Press ESC to exit.\n",
      "MultiVuClient - Starting connection to ('localhost', 5000)\n",
      "MultiVuClient - Starting connection to ('localhost', 5000)\n",
      "MultiVuServer - Accepted connection from ('127.0.0.1', 52193)\n",
      "MultiVuClient - Connected to PPMS MultiVuServer at ('127.0.0.1', 52193)\n",
      "MultiVuClient - Connected to PPMS MultiVuServer at ('127.0.0.1', 52193)\n",
      "MultiVuServer - Client ('127.0.0.1', 52193) disconnected.\n",
      "MultiVuClient - Closing connection to ('127.0.0.1', 52193)\n",
      "MultiVuClient - Closing connection to ('127.0.0.1', 52193)\n"
     ]
    },
    {
     "name": "stdout",
     "output_type": "stream",
     "text": [
      "field is stable = -47000.418Oe\n"
     ]
    },
    {
     "name": "stderr",
     "output_type": "stream",
     "text": [
      "MultiVuServer - Closing connection to ('127.0.0.1', 52193)\n",
      "MultiVuServer - Found PPMS running.\n",
      "MultiVuServer - listening on ('localhost', 5000)\n",
      "MultiVuServer - Press ESC to exit.\n",
      "MultiVuClient - Starting connection to ('localhost', 5000)\n",
      "MultiVuClient - Starting connection to ('localhost', 5000)\n",
      "MultiVuServer - Accepted connection from ('127.0.0.1', 52194)\n",
      "MultiVuClient - Connected to PPMS MultiVuServer at ('127.0.0.1', 52194)\n",
      "MultiVuClient - Connected to PPMS MultiVuServer at ('127.0.0.1', 52194)\n",
      "MultiVuServer - Client ('127.0.0.1', 52194) disconnected.\n",
      "MultiVuClient - Closing connection to ('127.0.0.1', 52194)\n",
      "MultiVuClient - Closing connection to ('127.0.0.1', 52194)\n"
     ]
    },
    {
     "name": "stdout",
     "output_type": "stream",
     "text": [
      "field is stable = -46000.3086Oe\n"
     ]
    },
    {
     "name": "stderr",
     "output_type": "stream",
     "text": [
      "MultiVuServer - Closing connection to ('127.0.0.1', 52194)\n",
      "MultiVuServer - Found PPMS running.\n",
      "MultiVuServer - listening on ('localhost', 5000)\n",
      "MultiVuServer - Press ESC to exit.\n",
      "MultiVuClient - Starting connection to ('localhost', 5000)\n",
      "MultiVuClient - Starting connection to ('localhost', 5000)\n",
      "MultiVuServer - Accepted connection from ('127.0.0.1', 52195)\n",
      "MultiVuClient - Connected to PPMS MultiVuServer at ('127.0.0.1', 52195)\n",
      "MultiVuClient - Connected to PPMS MultiVuServer at ('127.0.0.1', 52195)\n",
      "MultiVuServer - Client ('127.0.0.1', 52195) disconnected.\n",
      "MultiVuClient - Closing connection to ('127.0.0.1', 52195)\n",
      "MultiVuClient - Closing connection to ('127.0.0.1', 52195)\n"
     ]
    },
    {
     "name": "stdout",
     "output_type": "stream",
     "text": [
      "field is stable = -45000.4961Oe\n"
     ]
    },
    {
     "name": "stderr",
     "output_type": "stream",
     "text": [
      "MultiVuServer - Closing connection to ('127.0.0.1', 52195)\n",
      "MultiVuServer - Found PPMS running.\n",
      "MultiVuServer - listening on ('localhost', 5000)\n",
      "MultiVuServer - Press ESC to exit.\n",
      "MultiVuClient - Starting connection to ('localhost', 5000)\n",
      "MultiVuClient - Starting connection to ('localhost', 5000)\n",
      "MultiVuServer - Accepted connection from ('127.0.0.1', 52197)\n",
      "MultiVuClient - Connected to PPMS MultiVuServer at ('127.0.0.1', 52197)\n",
      "MultiVuClient - Connected to PPMS MultiVuServer at ('127.0.0.1', 52197)\n",
      "MultiVuServer - Client ('127.0.0.1', 52197) disconnected.\n",
      "MultiVuClient - Closing connection to ('127.0.0.1', 52197)\n",
      "MultiVuClient - Closing connection to ('127.0.0.1', 52197)\n"
     ]
    },
    {
     "name": "stdout",
     "output_type": "stream",
     "text": [
      "field is stable = -44000.4297Oe\n"
     ]
    },
    {
     "name": "stderr",
     "output_type": "stream",
     "text": [
      "MultiVuServer - Closing connection to ('127.0.0.1', 52197)\n",
      "MultiVuServer - Found PPMS running.\n",
      "MultiVuServer - listening on ('localhost', 5000)\n",
      "MultiVuServer - Press ESC to exit.\n",
      "MultiVuClient - Starting connection to ('localhost', 5000)\n",
      "MultiVuClient - Starting connection to ('localhost', 5000)\n",
      "MultiVuServer - Accepted connection from ('127.0.0.1', 52198)\n",
      "MultiVuClient - Connected to PPMS MultiVuServer at ('127.0.0.1', 52198)\n",
      "MultiVuClient - Connected to PPMS MultiVuServer at ('127.0.0.1', 52198)\n",
      "MultiVuServer - Client ('127.0.0.1', 52198) disconnected.\n",
      "MultiVuClient - Closing connection to ('127.0.0.1', 52198)\n",
      "MultiVuClient - Closing connection to ('127.0.0.1', 52198)\n"
     ]
    },
    {
     "name": "stdout",
     "output_type": "stream",
     "text": [
      "field is stable = -43000.4883Oe\n"
     ]
    },
    {
     "name": "stderr",
     "output_type": "stream",
     "text": [
      "MultiVuServer - Closing connection to ('127.0.0.1', 52198)\n",
      "MultiVuServer - Found PPMS running.\n",
      "MultiVuServer - listening on ('localhost', 5000)\n",
      "MultiVuServer - Press ESC to exit.\n",
      "MultiVuClient - Starting connection to ('localhost', 5000)\n",
      "MultiVuClient - Starting connection to ('localhost', 5000)\n",
      "MultiVuServer - Accepted connection from ('127.0.0.1', 52199)\n",
      "MultiVuClient - Connected to PPMS MultiVuServer at ('127.0.0.1', 52199)\n",
      "MultiVuClient - Connected to PPMS MultiVuServer at ('127.0.0.1', 52199)\n",
      "MultiVuServer - Client ('127.0.0.1', 52199) disconnected.\n",
      "MultiVuClient - Closing connection to ('127.0.0.1', 52199)\n",
      "MultiVuClient - Closing connection to ('127.0.0.1', 52199)\n"
     ]
    },
    {
     "name": "stdout",
     "output_type": "stream",
     "text": [
      "field is stable = -42000.4922Oe\n"
     ]
    },
    {
     "name": "stderr",
     "output_type": "stream",
     "text": [
      "MultiVuServer - Closing connection to ('127.0.0.1', 52199)\n",
      "MultiVuServer - Found PPMS running.\n",
      "MultiVuServer - listening on ('localhost', 5000)\n",
      "MultiVuServer - Press ESC to exit.\n",
      "MultiVuClient - Starting connection to ('localhost', 5000)\n",
      "MultiVuClient - Starting connection to ('localhost', 5000)\n",
      "MultiVuServer - Accepted connection from ('127.0.0.1', 52201)\n",
      "MultiVuClient - Connected to PPMS MultiVuServer at ('127.0.0.1', 52201)\n",
      "MultiVuClient - Connected to PPMS MultiVuServer at ('127.0.0.1', 52201)\n",
      "MultiVuServer - Client ('127.0.0.1', 52201) disconnected.\n",
      "MultiVuClient - Closing connection to ('127.0.0.1', 52201)\n",
      "MultiVuClient - Closing connection to ('127.0.0.1', 52201)\n"
     ]
    },
    {
     "name": "stdout",
     "output_type": "stream",
     "text": [
      "field is stable = -41000.3555Oe\n"
     ]
    },
    {
     "name": "stderr",
     "output_type": "stream",
     "text": [
      "MultiVuServer - Closing connection to ('127.0.0.1', 52201)\n",
      "MultiVuServer - Found PPMS running.\n",
      "MultiVuServer - listening on ('localhost', 5000)\n",
      "MultiVuServer - Press ESC to exit.\n",
      "MultiVuClient - Starting connection to ('localhost', 5000)\n",
      "MultiVuClient - Starting connection to ('localhost', 5000)\n",
      "MultiVuServer - Accepted connection from ('127.0.0.1', 52202)\n",
      "MultiVuClient - Connected to PPMS MultiVuServer at ('127.0.0.1', 52202)\n",
      "MultiVuClient - Connected to PPMS MultiVuServer at ('127.0.0.1', 52202)\n",
      "MultiVuServer - Client ('127.0.0.1', 52202) disconnected.\n",
      "MultiVuClient - Closing connection to ('127.0.0.1', 52202)\n",
      "MultiVuClient - Closing connection to ('127.0.0.1', 52202)\n"
     ]
    },
    {
     "name": "stdout",
     "output_type": "stream",
     "text": [
      "field is stable = -40000.3281Oe\n"
     ]
    },
    {
     "name": "stderr",
     "output_type": "stream",
     "text": [
      "MultiVuServer - Closing connection to ('127.0.0.1', 52202)\n",
      "MultiVuServer - Found PPMS running.\n",
      "MultiVuServer - listening on ('localhost', 5000)\n",
      "MultiVuServer - Press ESC to exit.\n",
      "MultiVuClient - Starting connection to ('localhost', 5000)\n",
      "MultiVuClient - Starting connection to ('localhost', 5000)\n",
      "MultiVuServer - Accepted connection from ('127.0.0.1', 52203)\n",
      "MultiVuClient - Connected to PPMS MultiVuServer at ('127.0.0.1', 52203)\n",
      "MultiVuClient - Connected to PPMS MultiVuServer at ('127.0.0.1', 52203)\n",
      "MultiVuServer - Client ('127.0.0.1', 52203) disconnected.\n",
      "MultiVuClient - Closing connection to ('127.0.0.1', 52203)\n",
      "MultiVuClient - Closing connection to ('127.0.0.1', 52203)\n"
     ]
    },
    {
     "name": "stdout",
     "output_type": "stream",
     "text": [
      "field is stable = -39000.4609Oe\n"
     ]
    },
    {
     "name": "stderr",
     "output_type": "stream",
     "text": [
      "MultiVuServer - Closing connection to ('127.0.0.1', 52203)\n",
      "MultiVuServer - Found PPMS running.\n",
      "MultiVuServer - listening on ('localhost', 5000)\n",
      "MultiVuServer - Press ESC to exit.\n",
      "MultiVuClient - Starting connection to ('localhost', 5000)\n",
      "MultiVuClient - Starting connection to ('localhost', 5000)\n",
      "MultiVuServer - Accepted connection from ('127.0.0.1', 52205)\n",
      "MultiVuClient - Connected to PPMS MultiVuServer at ('127.0.0.1', 52205)\n",
      "MultiVuClient - Connected to PPMS MultiVuServer at ('127.0.0.1', 52205)\n",
      "MultiVuServer - Client ('127.0.0.1', 52205) disconnected.\n",
      "MultiVuClient - Closing connection to ('127.0.0.1', 52205)\n",
      "MultiVuClient - Closing connection to ('127.0.0.1', 52205)\n"
     ]
    },
    {
     "name": "stdout",
     "output_type": "stream",
     "text": [
      "field is stable = -38000.5781Oe\n"
     ]
    },
    {
     "name": "stderr",
     "output_type": "stream",
     "text": [
      "MultiVuServer - Closing connection to ('127.0.0.1', 52205)\n",
      "MultiVuServer - Found PPMS running.\n",
      "MultiVuServer - listening on ('localhost', 5000)\n",
      "MultiVuServer - Press ESC to exit.\n",
      "MultiVuClient - Starting connection to ('localhost', 5000)\n",
      "MultiVuClient - Starting connection to ('localhost', 5000)\n",
      "MultiVuServer - Accepted connection from ('127.0.0.1', 52206)\n",
      "MultiVuClient - Connected to PPMS MultiVuServer at ('127.0.0.1', 52206)\n",
      "MultiVuClient - Connected to PPMS MultiVuServer at ('127.0.0.1', 52206)\n",
      "MultiVuServer - Client ('127.0.0.1', 52206) disconnected.\n",
      "MultiVuClient - Closing connection to ('127.0.0.1', 52206)\n",
      "MultiVuClient - Closing connection to ('127.0.0.1', 52206)\n"
     ]
    },
    {
     "name": "stdout",
     "output_type": "stream",
     "text": [
      "field is stable = -37000.5234Oe\n"
     ]
    },
    {
     "name": "stderr",
     "output_type": "stream",
     "text": [
      "MultiVuServer - Closing connection to ('127.0.0.1', 52206)\n",
      "MultiVuServer - Found PPMS running.\n",
      "MultiVuServer - listening on ('localhost', 5000)\n",
      "MultiVuServer - Press ESC to exit.\n",
      "MultiVuClient - Starting connection to ('localhost', 5000)\n",
      "MultiVuClient - Starting connection to ('localhost', 5000)\n",
      "MultiVuServer - Accepted connection from ('127.0.0.1', 52207)\n",
      "MultiVuClient - Connected to PPMS MultiVuServer at ('127.0.0.1', 52207)\n",
      "MultiVuClient - Connected to PPMS MultiVuServer at ('127.0.0.1', 52207)\n",
      "MultiVuServer - Client ('127.0.0.1', 52207) disconnected.\n",
      "MultiVuClient - Closing connection to ('127.0.0.1', 52207)\n",
      "MultiVuClient - Closing connection to ('127.0.0.1', 52207)\n"
     ]
    },
    {
     "name": "stdout",
     "output_type": "stream",
     "text": [
      "field is stable = -36000.2812Oe\n"
     ]
    },
    {
     "name": "stderr",
     "output_type": "stream",
     "text": [
      "MultiVuServer - Closing connection to ('127.0.0.1', 52207)\n",
      "MultiVuServer - Found PPMS running.\n",
      "MultiVuServer - listening on ('localhost', 5000)\n",
      "MultiVuServer - Press ESC to exit.\n",
      "MultiVuClient - Starting connection to ('localhost', 5000)\n",
      "MultiVuClient - Starting connection to ('localhost', 5000)\n",
      "MultiVuServer - Accepted connection from ('127.0.0.1', 52209)\n",
      "MultiVuClient - Connected to PPMS MultiVuServer at ('127.0.0.1', 52209)\n",
      "MultiVuClient - Connected to PPMS MultiVuServer at ('127.0.0.1', 52209)\n",
      "MultiVuServer - Client ('127.0.0.1', 52209) disconnected.\n",
      "MultiVuClient - Closing connection to ('127.0.0.1', 52209)\n",
      "MultiVuClient - Closing connection to ('127.0.0.1', 52209)\n"
     ]
    },
    {
     "name": "stdout",
     "output_type": "stream",
     "text": [
      "field is stable = -35000.457Oe\n"
     ]
    },
    {
     "name": "stderr",
     "output_type": "stream",
     "text": [
      "MultiVuServer - Closing connection to ('127.0.0.1', 52209)\n",
      "MultiVuServer - Found PPMS running.\n",
      "MultiVuServer - listening on ('localhost', 5000)\n",
      "MultiVuServer - Press ESC to exit.\n",
      "MultiVuClient - Starting connection to ('localhost', 5000)\n",
      "MultiVuClient - Starting connection to ('localhost', 5000)\n",
      "MultiVuServer - Accepted connection from ('127.0.0.1', 52210)\n",
      "MultiVuClient - Connected to PPMS MultiVuServer at ('127.0.0.1', 52210)\n",
      "MultiVuClient - Connected to PPMS MultiVuServer at ('127.0.0.1', 52210)\n",
      "MultiVuServer - Client ('127.0.0.1', 52210) disconnected.\n",
      "MultiVuClient - Closing connection to ('127.0.0.1', 52210)\n",
      "MultiVuClient - Closing connection to ('127.0.0.1', 52210)\n"
     ]
    },
    {
     "name": "stdout",
     "output_type": "stream",
     "text": [
      "field is stable = -34000.3438Oe\n"
     ]
    },
    {
     "name": "stderr",
     "output_type": "stream",
     "text": [
      "MultiVuServer - Closing connection to ('127.0.0.1', 52210)\n",
      "MultiVuServer - Found PPMS running.\n",
      "MultiVuServer - listening on ('localhost', 5000)\n",
      "MultiVuServer - Press ESC to exit.\n",
      "MultiVuClient - Starting connection to ('localhost', 5000)\n",
      "MultiVuClient - Starting connection to ('localhost', 5000)\n",
      "MultiVuServer - Accepted connection from ('127.0.0.1', 52211)\n",
      "MultiVuClient - Connected to PPMS MultiVuServer at ('127.0.0.1', 52211)\n",
      "MultiVuClient - Connected to PPMS MultiVuServer at ('127.0.0.1', 52211)\n",
      "MultiVuServer - Client ('127.0.0.1', 52211) disconnected.\n",
      "MultiVuClient - Closing connection to ('127.0.0.1', 52211)\n",
      "MultiVuClient - Closing connection to ('127.0.0.1', 52211)\n"
     ]
    },
    {
     "name": "stdout",
     "output_type": "stream",
     "text": [
      "field is stable = -33000.5234Oe\n"
     ]
    },
    {
     "name": "stderr",
     "output_type": "stream",
     "text": [
      "MultiVuServer - Closing connection to ('127.0.0.1', 52211)\n",
      "MultiVuServer - Found PPMS running.\n",
      "MultiVuServer - listening on ('localhost', 5000)\n",
      "MultiVuServer - Press ESC to exit.\n",
      "MultiVuClient - Starting connection to ('localhost', 5000)\n",
      "MultiVuClient - Starting connection to ('localhost', 5000)\n",
      "MultiVuServer - Accepted connection from ('127.0.0.1', 52214)\n",
      "MultiVuClient - Connected to PPMS MultiVuServer at ('127.0.0.1', 52214)\n",
      "MultiVuClient - Connected to PPMS MultiVuServer at ('127.0.0.1', 52214)\n",
      "MultiVuServer - Client ('127.0.0.1', 52214) disconnected.\n",
      "MultiVuClient - Closing connection to ('127.0.0.1', 52214)\n",
      "MultiVuClient - Closing connection to ('127.0.0.1', 52214)\n"
     ]
    },
    {
     "name": "stdout",
     "output_type": "stream",
     "text": [
      "field is stable = -32000.3965Oe\n"
     ]
    },
    {
     "name": "stderr",
     "output_type": "stream",
     "text": [
      "MultiVuServer - Closing connection to ('127.0.0.1', 52214)\n",
      "MultiVuServer - Found PPMS running.\n",
      "MultiVuServer - listening on ('localhost', 5000)\n",
      "MultiVuServer - Press ESC to exit.\n",
      "MultiVuClient - Starting connection to ('localhost', 5000)\n",
      "MultiVuClient - Starting connection to ('localhost', 5000)\n",
      "MultiVuServer - Accepted connection from ('127.0.0.1', 52216)\n",
      "MultiVuClient - Connected to PPMS MultiVuServer at ('127.0.0.1', 52216)\n",
      "MultiVuClient - Connected to PPMS MultiVuServer at ('127.0.0.1', 52216)\n",
      "MultiVuServer - Client ('127.0.0.1', 52216) disconnected.\n",
      "MultiVuClient - Closing connection to ('127.0.0.1', 52216)\n",
      "MultiVuClient - Closing connection to ('127.0.0.1', 52216)\n"
     ]
    },
    {
     "name": "stdout",
     "output_type": "stream",
     "text": [
      "field is stable = -31000.3418Oe\n"
     ]
    },
    {
     "name": "stderr",
     "output_type": "stream",
     "text": [
      "MultiVuServer - Closing connection to ('127.0.0.1', 52216)\n",
      "MultiVuServer - Found PPMS running.\n",
      "MultiVuServer - listening on ('localhost', 5000)\n",
      "MultiVuServer - Press ESC to exit.\n",
      "MultiVuClient - Starting connection to ('localhost', 5000)\n",
      "MultiVuClient - Starting connection to ('localhost', 5000)\n",
      "MultiVuServer - Accepted connection from ('127.0.0.1', 52217)\n",
      "MultiVuClient - Connected to PPMS MultiVuServer at ('127.0.0.1', 52217)\n",
      "MultiVuClient - Connected to PPMS MultiVuServer at ('127.0.0.1', 52217)\n",
      "MultiVuServer - Client ('127.0.0.1', 52217) disconnected.\n",
      "MultiVuClient - Closing connection to ('127.0.0.1', 52217)\n",
      "MultiVuClient - Closing connection to ('127.0.0.1', 52217)\n"
     ]
    },
    {
     "name": "stdout",
     "output_type": "stream",
     "text": [
      "field is stable = -30000.373Oe\n"
     ]
    },
    {
     "name": "stderr",
     "output_type": "stream",
     "text": [
      "MultiVuServer - Closing connection to ('127.0.0.1', 52217)\n",
      "MultiVuServer - Found PPMS running.\n",
      "MultiVuServer - listening on ('localhost', 5000)\n",
      "MultiVuServer - Press ESC to exit.\n",
      "MultiVuClient - Starting connection to ('localhost', 5000)\n",
      "MultiVuClient - Starting connection to ('localhost', 5000)\n",
      "MultiVuServer - Accepted connection from ('127.0.0.1', 52219)\n",
      "MultiVuClient - Connected to PPMS MultiVuServer at ('127.0.0.1', 52219)\n",
      "MultiVuClient - Connected to PPMS MultiVuServer at ('127.0.0.1', 52219)\n",
      "MultiVuServer - Client ('127.0.0.1', 52219) disconnected.\n",
      "MultiVuClient - Closing connection to ('127.0.0.1', 52219)\n",
      "MultiVuClient - Closing connection to ('127.0.0.1', 52219)\n"
     ]
    },
    {
     "name": "stdout",
     "output_type": "stream",
     "text": [
      "field is stable = -29000.4219Oe\n"
     ]
    },
    {
     "name": "stderr",
     "output_type": "stream",
     "text": [
      "MultiVuServer - Closing connection to ('127.0.0.1', 52219)\n",
      "MultiVuServer - Found PPMS running.\n",
      "MultiVuServer - listening on ('localhost', 5000)\n",
      "MultiVuServer - Press ESC to exit.\n",
      "MultiVuClient - Starting connection to ('localhost', 5000)\n",
      "MultiVuClient - Starting connection to ('localhost', 5000)\n",
      "MultiVuServer - Accepted connection from ('127.0.0.1', 52220)\n",
      "MultiVuClient - Connected to PPMS MultiVuServer at ('127.0.0.1', 52220)\n",
      "MultiVuClient - Connected to PPMS MultiVuServer at ('127.0.0.1', 52220)\n",
      "MultiVuServer - Client ('127.0.0.1', 52220) disconnected.\n",
      "MultiVuClient - Closing connection to ('127.0.0.1', 52220)\n",
      "MultiVuClient - Closing connection to ('127.0.0.1', 52220)\n"
     ]
    },
    {
     "name": "stdout",
     "output_type": "stream",
     "text": [
      "field is stable = -28000.3809Oe\n"
     ]
    },
    {
     "name": "stderr",
     "output_type": "stream",
     "text": [
      "MultiVuServer - Closing connection to ('127.0.0.1', 52220)\n",
      "MultiVuServer - Found PPMS running.\n",
      "MultiVuServer - listening on ('localhost', 5000)\n",
      "MultiVuServer - Press ESC to exit.\n",
      "MultiVuClient - Starting connection to ('localhost', 5000)\n",
      "MultiVuClient - Starting connection to ('localhost', 5000)\n",
      "MultiVuServer - Accepted connection from ('127.0.0.1', 52221)\n",
      "MultiVuClient - Connected to PPMS MultiVuServer at ('127.0.0.1', 52221)\n",
      "MultiVuClient - Connected to PPMS MultiVuServer at ('127.0.0.1', 52221)\n",
      "MultiVuServer - Client ('127.0.0.1', 52221) disconnected.\n",
      "MultiVuClient - Closing connection to ('127.0.0.1', 52221)\n",
      "MultiVuClient - Closing connection to ('127.0.0.1', 52221)\n"
     ]
    },
    {
     "name": "stdout",
     "output_type": "stream",
     "text": [
      "field is stable = -27000.6152Oe\n"
     ]
    },
    {
     "name": "stderr",
     "output_type": "stream",
     "text": [
      "MultiVuServer - Closing connection to ('127.0.0.1', 52221)\n",
      "MultiVuServer - Found PPMS running.\n",
      "MultiVuServer - listening on ('localhost', 5000)\n",
      "MultiVuServer - Press ESC to exit.\n",
      "MultiVuClient - Starting connection to ('localhost', 5000)\n",
      "MultiVuClient - Starting connection to ('localhost', 5000)\n",
      "MultiVuServer - Accepted connection from ('127.0.0.1', 52224)\n",
      "MultiVuClient - Connected to PPMS MultiVuServer at ('127.0.0.1', 52224)\n",
      "MultiVuClient - Connected to PPMS MultiVuServer at ('127.0.0.1', 52224)\n",
      "MultiVuServer - Client ('127.0.0.1', 52224) disconnected.\n",
      "MultiVuClient - Closing connection to ('127.0.0.1', 52224)\n",
      "MultiVuClient - Closing connection to ('127.0.0.1', 52224)\n"
     ]
    },
    {
     "name": "stdout",
     "output_type": "stream",
     "text": [
      "field is stable = -26000.502Oe\n"
     ]
    },
    {
     "name": "stderr",
     "output_type": "stream",
     "text": [
      "MultiVuServer - Closing connection to ('127.0.0.1', 52224)\n",
      "MultiVuServer - Found PPMS running.\n",
      "MultiVuServer - listening on ('localhost', 5000)\n",
      "MultiVuServer - Press ESC to exit.\n",
      "MultiVuClient - Starting connection to ('localhost', 5000)\n",
      "MultiVuClient - Starting connection to ('localhost', 5000)\n",
      "MultiVuServer - Accepted connection from ('127.0.0.1', 52225)\n",
      "MultiVuClient - Connected to PPMS MultiVuServer at ('127.0.0.1', 52225)\n",
      "MultiVuClient - Connected to PPMS MultiVuServer at ('127.0.0.1', 52225)\n",
      "MultiVuServer - Client ('127.0.0.1', 52225) disconnected.\n",
      "MultiVuClient - Closing connection to ('127.0.0.1', 52225)\n",
      "MultiVuClient - Closing connection to ('127.0.0.1', 52225)\n"
     ]
    },
    {
     "name": "stdout",
     "output_type": "stream",
     "text": [
      "field is stable = -25000.377Oe\n"
     ]
    },
    {
     "name": "stderr",
     "output_type": "stream",
     "text": [
      "MultiVuServer - Closing connection to ('127.0.0.1', 52225)\n",
      "MultiVuServer - Found PPMS running.\n",
      "MultiVuServer - listening on ('localhost', 5000)\n",
      "MultiVuServer - Press ESC to exit.\n",
      "MultiVuClient - Starting connection to ('localhost', 5000)\n",
      "MultiVuClient - Starting connection to ('localhost', 5000)\n",
      "MultiVuServer - Accepted connection from ('127.0.0.1', 52227)\n",
      "MultiVuClient - Connected to PPMS MultiVuServer at ('127.0.0.1', 52227)\n",
      "MultiVuClient - Connected to PPMS MultiVuServer at ('127.0.0.1', 52227)\n",
      "MultiVuServer - Client ('127.0.0.1', 52227) disconnected.\n",
      "MultiVuClient - Closing connection to ('127.0.0.1', 52227)\n",
      "MultiVuClient - Closing connection to ('127.0.0.1', 52227)\n"
     ]
    },
    {
     "name": "stdout",
     "output_type": "stream",
     "text": [
      "field is stable = -24000.3086Oe\n"
     ]
    },
    {
     "name": "stderr",
     "output_type": "stream",
     "text": [
      "MultiVuServer - Closing connection to ('127.0.0.1', 52227)\n",
      "MultiVuServer - Found PPMS running.\n",
      "MultiVuServer - listening on ('localhost', 5000)\n",
      "MultiVuServer - Press ESC to exit.\n",
      "MultiVuClient - Starting connection to ('localhost', 5000)\n",
      "MultiVuClient - Starting connection to ('localhost', 5000)\n",
      "MultiVuServer - Accepted connection from ('127.0.0.1', 52228)\n",
      "MultiVuClient - Connected to PPMS MultiVuServer at ('127.0.0.1', 52228)\n",
      "MultiVuClient - Connected to PPMS MultiVuServer at ('127.0.0.1', 52228)\n",
      "MultiVuServer - Client ('127.0.0.1', 52228) disconnected.\n",
      "MultiVuClient - Closing connection to ('127.0.0.1', 52228)\n",
      "MultiVuClient - Closing connection to ('127.0.0.1', 52228)\n"
     ]
    },
    {
     "name": "stdout",
     "output_type": "stream",
     "text": [
      "field is stable = -23000.3691Oe\n"
     ]
    },
    {
     "name": "stderr",
     "output_type": "stream",
     "text": [
      "MultiVuServer - Closing connection to ('127.0.0.1', 52228)\n",
      "MultiVuServer - Found PPMS running.\n",
      "MultiVuServer - listening on ('localhost', 5000)\n",
      "MultiVuServer - Press ESC to exit.\n",
      "MultiVuClient - Starting connection to ('localhost', 5000)\n",
      "MultiVuClient - Starting connection to ('localhost', 5000)\n",
      "MultiVuServer - Accepted connection from ('127.0.0.1', 52229)\n",
      "MultiVuClient - Connected to PPMS MultiVuServer at ('127.0.0.1', 52229)\n",
      "MultiVuClient - Connected to PPMS MultiVuServer at ('127.0.0.1', 52229)\n",
      "MultiVuServer - Client ('127.0.0.1', 52229) disconnected.\n",
      "MultiVuClient - Closing connection to ('127.0.0.1', 52229)\n",
      "MultiVuClient - Closing connection to ('127.0.0.1', 52229)\n"
     ]
    },
    {
     "name": "stdout",
     "output_type": "stream",
     "text": [
      "field is stable = -22000.4023Oe\n"
     ]
    },
    {
     "name": "stderr",
     "output_type": "stream",
     "text": [
      "MultiVuServer - Closing connection to ('127.0.0.1', 52229)\n",
      "MultiVuServer - Found PPMS running.\n",
      "MultiVuServer - listening on ('localhost', 5000)\n",
      "MultiVuServer - Press ESC to exit.\n",
      "MultiVuClient - Starting connection to ('localhost', 5000)\n",
      "MultiVuClient - Starting connection to ('localhost', 5000)\n",
      "MultiVuServer - Accepted connection from ('127.0.0.1', 52231)\n",
      "MultiVuClient - Connected to PPMS MultiVuServer at ('127.0.0.1', 52231)\n",
      "MultiVuClient - Connected to PPMS MultiVuServer at ('127.0.0.1', 52231)\n",
      "MultiVuServer - Client ('127.0.0.1', 52231) disconnected.\n",
      "MultiVuClient - Closing connection to ('127.0.0.1', 52231)\n",
      "MultiVuClient - Closing connection to ('127.0.0.1', 52231)\n"
     ]
    },
    {
     "name": "stdout",
     "output_type": "stream",
     "text": [
      "field is stable = -21000.4766Oe\n"
     ]
    },
    {
     "name": "stderr",
     "output_type": "stream",
     "text": [
      "MultiVuServer - Closing connection to ('127.0.0.1', 52231)\n",
      "MultiVuServer - Found PPMS running.\n",
      "MultiVuServer - listening on ('localhost', 5000)\n",
      "MultiVuServer - Press ESC to exit.\n",
      "MultiVuClient - Starting connection to ('localhost', 5000)\n",
      "MultiVuClient - Starting connection to ('localhost', 5000)\n",
      "MultiVuServer - Accepted connection from ('127.0.0.1', 52232)\n",
      "MultiVuClient - Connected to PPMS MultiVuServer at ('127.0.0.1', 52232)\n",
      "MultiVuClient - Connected to PPMS MultiVuServer at ('127.0.0.1', 52232)\n",
      "MultiVuServer - Client ('127.0.0.1', 52232) disconnected.\n",
      "MultiVuClient - Closing connection to ('127.0.0.1', 52232)\n",
      "MultiVuClient - Closing connection to ('127.0.0.1', 52232)\n"
     ]
    },
    {
     "name": "stdout",
     "output_type": "stream",
     "text": [
      "field is stable = -20000.4668Oe\n"
     ]
    },
    {
     "name": "stderr",
     "output_type": "stream",
     "text": [
      "MultiVuServer - Closing connection to ('127.0.0.1', 52232)\n",
      "MultiVuServer - Found PPMS running.\n",
      "MultiVuServer - listening on ('localhost', 5000)\n",
      "MultiVuServer - Press ESC to exit.\n",
      "MultiVuClient - Starting connection to ('localhost', 5000)\n",
      "MultiVuClient - Starting connection to ('localhost', 5000)\n",
      "MultiVuServer - Accepted connection from ('127.0.0.1', 52234)\n",
      "MultiVuClient - Connected to PPMS MultiVuServer at ('127.0.0.1', 52234)\n",
      "MultiVuClient - Connected to PPMS MultiVuServer at ('127.0.0.1', 52234)\n",
      "MultiVuServer - Client ('127.0.0.1', 52234) disconnected.\n",
      "MultiVuClient - Closing connection to ('127.0.0.1', 52234)\n",
      "MultiVuClient - Closing connection to ('127.0.0.1', 52234)\n"
     ]
    },
    {
     "name": "stdout",
     "output_type": "stream",
     "text": [
      "field is stable = -19000.3398Oe\n"
     ]
    },
    {
     "name": "stderr",
     "output_type": "stream",
     "text": [
      "MultiVuServer - Closing connection to ('127.0.0.1', 52234)\n",
      "MultiVuServer - Found PPMS running.\n",
      "MultiVuServer - listening on ('localhost', 5000)\n",
      "MultiVuServer - Press ESC to exit.\n",
      "MultiVuClient - Starting connection to ('localhost', 5000)\n",
      "MultiVuClient - Starting connection to ('localhost', 5000)\n",
      "MultiVuServer - Accepted connection from ('127.0.0.1', 52236)\n",
      "MultiVuClient - Connected to PPMS MultiVuServer at ('127.0.0.1', 52236)\n",
      "MultiVuClient - Connected to PPMS MultiVuServer at ('127.0.0.1', 52236)\n",
      "MultiVuServer - Client ('127.0.0.1', 52236) disconnected.\n",
      "MultiVuClient - Closing connection to ('127.0.0.1', 52236)\n",
      "MultiVuClient - Closing connection to ('127.0.0.1', 52236)\n"
     ]
    },
    {
     "name": "stdout",
     "output_type": "stream",
     "text": [
      "field is stable = -18000.4727Oe\n"
     ]
    },
    {
     "name": "stderr",
     "output_type": "stream",
     "text": [
      "MultiVuServer - Closing connection to ('127.0.0.1', 52236)\n",
      "MultiVuServer - Found PPMS running.\n",
      "MultiVuServer - listening on ('localhost', 5000)\n",
      "MultiVuServer - Press ESC to exit.\n",
      "MultiVuClient - Starting connection to ('localhost', 5000)\n",
      "MultiVuClient - Starting connection to ('localhost', 5000)\n",
      "MultiVuServer - Accepted connection from ('127.0.0.1', 52237)\n",
      "MultiVuClient - Connected to PPMS MultiVuServer at ('127.0.0.1', 52237)\n",
      "MultiVuClient - Connected to PPMS MultiVuServer at ('127.0.0.1', 52237)\n",
      "MultiVuServer - Client ('127.0.0.1', 52237) disconnected.\n",
      "MultiVuClient - Closing connection to ('127.0.0.1', 52237)\n",
      "MultiVuClient - Closing connection to ('127.0.0.1', 52237)\n"
     ]
    },
    {
     "name": "stdout",
     "output_type": "stream",
     "text": [
      "field is stable = -17000.5625Oe\n"
     ]
    },
    {
     "name": "stderr",
     "output_type": "stream",
     "text": [
      "MultiVuServer - Closing connection to ('127.0.0.1', 52237)\n",
      "MultiVuServer - Found PPMS running.\n",
      "MultiVuServer - listening on ('localhost', 5000)\n",
      "MultiVuServer - Press ESC to exit.\n",
      "MultiVuClient - Starting connection to ('localhost', 5000)\n",
      "MultiVuClient - Starting connection to ('localhost', 5000)\n",
      "MultiVuServer - Accepted connection from ('127.0.0.1', 52238)\n",
      "MultiVuClient - Connected to PPMS MultiVuServer at ('127.0.0.1', 52238)\n",
      "MultiVuClient - Connected to PPMS MultiVuServer at ('127.0.0.1', 52238)\n",
      "MultiVuServer - Client ('127.0.0.1', 52238) disconnected.\n",
      "MultiVuClient - Closing connection to ('127.0.0.1', 52238)\n",
      "MultiVuClient - Closing connection to ('127.0.0.1', 52238)\n"
     ]
    },
    {
     "name": "stdout",
     "output_type": "stream",
     "text": [
      "field is stable = -16000.5078Oe\n"
     ]
    },
    {
     "name": "stderr",
     "output_type": "stream",
     "text": [
      "MultiVuServer - Closing connection to ('127.0.0.1', 52238)\n",
      "MultiVuServer - Found PPMS running.\n",
      "MultiVuServer - listening on ('localhost', 5000)\n",
      "MultiVuServer - Press ESC to exit.\n",
      "MultiVuClient - Starting connection to ('localhost', 5000)\n",
      "MultiVuClient - Starting connection to ('localhost', 5000)\n",
      "MultiVuServer - Accepted connection from ('127.0.0.1', 52240)\n",
      "MultiVuClient - Connected to PPMS MultiVuServer at ('127.0.0.1', 52240)\n",
      "MultiVuClient - Connected to PPMS MultiVuServer at ('127.0.0.1', 52240)\n",
      "MultiVuServer - Client ('127.0.0.1', 52240) disconnected.\n",
      "MultiVuClient - Closing connection to ('127.0.0.1', 52240)\n",
      "MultiVuClient - Closing connection to ('127.0.0.1', 52240)\n"
     ]
    },
    {
     "name": "stdout",
     "output_type": "stream",
     "text": [
      "field is stable = -15000.4395Oe\n"
     ]
    },
    {
     "name": "stderr",
     "output_type": "stream",
     "text": [
      "MultiVuServer - Closing connection to ('127.0.0.1', 52240)\n",
      "MultiVuServer - Found PPMS running.\n",
      "MultiVuServer - listening on ('localhost', 5000)\n",
      "MultiVuServer - Press ESC to exit.\n",
      "MultiVuClient - Starting connection to ('localhost', 5000)\n",
      "MultiVuClient - Starting connection to ('localhost', 5000)\n",
      "MultiVuServer - Accepted connection from ('127.0.0.1', 52241)\n",
      "MultiVuClient - Connected to PPMS MultiVuServer at ('127.0.0.1', 52241)\n",
      "MultiVuClient - Connected to PPMS MultiVuServer at ('127.0.0.1', 52241)\n",
      "MultiVuServer - Client ('127.0.0.1', 52241) disconnected.\n",
      "MultiVuClient - Closing connection to ('127.0.0.1', 52241)\n",
      "MultiVuClient - Closing connection to ('127.0.0.1', 52241)\n"
     ]
    },
    {
     "name": "stdout",
     "output_type": "stream",
     "text": [
      "field is stable = -14000.3701Oe\n"
     ]
    },
    {
     "name": "stderr",
     "output_type": "stream",
     "text": [
      "MultiVuServer - Closing connection to ('127.0.0.1', 52241)\n",
      "MultiVuServer - Found PPMS running.\n",
      "MultiVuServer - listening on ('localhost', 5000)\n",
      "MultiVuServer - Press ESC to exit.\n",
      "MultiVuClient - Starting connection to ('localhost', 5000)\n",
      "MultiVuClient - Starting connection to ('localhost', 5000)\n",
      "MultiVuServer - Accepted connection from ('127.0.0.1', 52242)\n",
      "MultiVuClient - Connected to PPMS MultiVuServer at ('127.0.0.1', 52242)\n",
      "MultiVuClient - Connected to PPMS MultiVuServer at ('127.0.0.1', 52242)\n",
      "MultiVuServer - Client ('127.0.0.1', 52242) disconnected.\n",
      "MultiVuClient - Closing connection to ('127.0.0.1', 52242)\n",
      "MultiVuClient - Closing connection to ('127.0.0.1', 52242)\n"
     ]
    },
    {
     "name": "stdout",
     "output_type": "stream",
     "text": [
      "field is stable = -13000.3594Oe\n"
     ]
    },
    {
     "name": "stderr",
     "output_type": "stream",
     "text": [
      "MultiVuServer - Closing connection to ('127.0.0.1', 52242)\n",
      "MultiVuServer - Found PPMS running.\n",
      "MultiVuServer - listening on ('localhost', 5000)\n",
      "MultiVuServer - Press ESC to exit.\n",
      "MultiVuClient - Starting connection to ('localhost', 5000)\n",
      "MultiVuClient - Starting connection to ('localhost', 5000)\n",
      "MultiVuServer - Accepted connection from ('127.0.0.1', 52244)\n",
      "MultiVuClient - Connected to PPMS MultiVuServer at ('127.0.0.1', 52244)\n",
      "MultiVuClient - Connected to PPMS MultiVuServer at ('127.0.0.1', 52244)\n",
      "MultiVuServer - Client ('127.0.0.1', 52244) disconnected.\n",
      "MultiVuClient - Closing connection to ('127.0.0.1', 52244)\n",
      "MultiVuClient - Closing connection to ('127.0.0.1', 52244)\n"
     ]
    },
    {
     "name": "stdout",
     "output_type": "stream",
     "text": [
      "field is stable = -12000.5352Oe\n"
     ]
    },
    {
     "name": "stderr",
     "output_type": "stream",
     "text": [
      "MultiVuServer - Closing connection to ('127.0.0.1', 52244)\n",
      "MultiVuServer - Found PPMS running.\n",
      "MultiVuServer - listening on ('localhost', 5000)\n",
      "MultiVuServer - Press ESC to exit.\n",
      "MultiVuClient - Starting connection to ('localhost', 5000)\n",
      "MultiVuClient - Starting connection to ('localhost', 5000)\n",
      "MultiVuServer - Accepted connection from ('127.0.0.1', 52245)\n",
      "MultiVuClient - Connected to PPMS MultiVuServer at ('127.0.0.1', 52245)\n",
      "MultiVuClient - Connected to PPMS MultiVuServer at ('127.0.0.1', 52245)\n",
      "MultiVuServer - Client ('127.0.0.1', 52245) disconnected.\n",
      "MultiVuClient - Closing connection to ('127.0.0.1', 52245)\n",
      "MultiVuClient - Closing connection to ('127.0.0.1', 52245)\n"
     ]
    },
    {
     "name": "stdout",
     "output_type": "stream",
     "text": [
      "field is stable = -11000.3516Oe\n"
     ]
    },
    {
     "name": "stderr",
     "output_type": "stream",
     "text": [
      "MultiVuServer - Closing connection to ('127.0.0.1', 52245)\n",
      "MultiVuServer - Found PPMS running.\n",
      "MultiVuServer - listening on ('localhost', 5000)\n",
      "MultiVuServer - Press ESC to exit.\n",
      "MultiVuClient - Starting connection to ('localhost', 5000)\n",
      "MultiVuClient - Starting connection to ('localhost', 5000)\n",
      "MultiVuServer - Accepted connection from ('127.0.0.1', 52246)\n",
      "MultiVuClient - Connected to PPMS MultiVuServer at ('127.0.0.1', 52246)\n",
      "MultiVuClient - Connected to PPMS MultiVuServer at ('127.0.0.1', 52246)\n",
      "MultiVuServer - Client ('127.0.0.1', 52246) disconnected.\n",
      "MultiVuClient - Closing connection to ('127.0.0.1', 52246)\n",
      "MultiVuClient - Closing connection to ('127.0.0.1', 52246)\n"
     ]
    },
    {
     "name": "stdout",
     "output_type": "stream",
     "text": [
      "field is stable = -10000.2695Oe\n"
     ]
    },
    {
     "name": "stderr",
     "output_type": "stream",
     "text": [
      "MultiVuServer - Closing connection to ('127.0.0.1', 52246)\n",
      "MultiVuServer - Found PPMS running.\n",
      "MultiVuServer - listening on ('localhost', 5000)\n",
      "MultiVuServer - Press ESC to exit.\n",
      "MultiVuClient - Starting connection to ('localhost', 5000)\n",
      "MultiVuClient - Starting connection to ('localhost', 5000)\n",
      "MultiVuServer - Accepted connection from ('127.0.0.1', 52248)\n",
      "MultiVuClient - Connected to PPMS MultiVuServer at ('127.0.0.1', 52248)\n",
      "MultiVuClient - Connected to PPMS MultiVuServer at ('127.0.0.1', 52248)\n",
      "MultiVuServer - Client ('127.0.0.1', 52248) disconnected.\n",
      "MultiVuClient - Closing connection to ('127.0.0.1', 52248)\n",
      "MultiVuClient - Closing connection to ('127.0.0.1', 52248)\n"
     ]
    },
    {
     "name": "stdout",
     "output_type": "stream",
     "text": [
      "field is stable = -9000.3008Oe\n"
     ]
    },
    {
     "name": "stderr",
     "output_type": "stream",
     "text": [
      "MultiVuServer - Closing connection to ('127.0.0.1', 52248)\n",
      "MultiVuServer - Found PPMS running.\n",
      "MultiVuServer - listening on ('localhost', 5000)\n",
      "MultiVuServer - Press ESC to exit.\n",
      "MultiVuClient - Starting connection to ('localhost', 5000)\n",
      "MultiVuClient - Starting connection to ('localhost', 5000)\n",
      "MultiVuServer - Accepted connection from ('127.0.0.1', 52249)\n",
      "MultiVuClient - Connected to PPMS MultiVuServer at ('127.0.0.1', 52249)\n",
      "MultiVuClient - Connected to PPMS MultiVuServer at ('127.0.0.1', 52249)\n",
      "MultiVuServer - Client ('127.0.0.1', 52249) disconnected.\n",
      "MultiVuClient - Closing connection to ('127.0.0.1', 52249)\n",
      "MultiVuClient - Closing connection to ('127.0.0.1', 52249)\n"
     ]
    },
    {
     "name": "stdout",
     "output_type": "stream",
     "text": [
      "field is stable = -8000.3042Oe\n"
     ]
    },
    {
     "name": "stderr",
     "output_type": "stream",
     "text": [
      "MultiVuServer - Closing connection to ('127.0.0.1', 52249)\n",
      "MultiVuServer - Found PPMS running.\n",
      "MultiVuServer - listening on ('localhost', 5000)\n",
      "MultiVuServer - Press ESC to exit.\n",
      "MultiVuClient - Starting connection to ('localhost', 5000)\n",
      "MultiVuClient - Starting connection to ('localhost', 5000)\n",
      "MultiVuServer - Accepted connection from ('127.0.0.1', 52250)\n",
      "MultiVuClient - Connected to PPMS MultiVuServer at ('127.0.0.1', 52250)\n",
      "MultiVuClient - Connected to PPMS MultiVuServer at ('127.0.0.1', 52250)\n",
      "MultiVuServer - Client ('127.0.0.1', 52250) disconnected.\n",
      "MultiVuClient - Closing connection to ('127.0.0.1', 52250)\n",
      "MultiVuClient - Closing connection to ('127.0.0.1', 52250)\n"
     ]
    },
    {
     "name": "stdout",
     "output_type": "stream",
     "text": [
      "field is stable = -7000.4658Oe\n"
     ]
    },
    {
     "name": "stderr",
     "output_type": "stream",
     "text": [
      "MultiVuServer - Closing connection to ('127.0.0.1', 52250)\n",
      "MultiVuServer - Found PPMS running.\n",
      "MultiVuServer - listening on ('localhost', 5000)\n",
      "MultiVuServer - Press ESC to exit.\n",
      "MultiVuClient - Starting connection to ('localhost', 5000)\n",
      "MultiVuClient - Starting connection to ('localhost', 5000)\n",
      "MultiVuServer - Accepted connection from ('127.0.0.1', 52252)\n",
      "MultiVuClient - Connected to PPMS MultiVuServer at ('127.0.0.1', 52252)\n",
      "MultiVuClient - Connected to PPMS MultiVuServer at ('127.0.0.1', 52252)\n",
      "MultiVuServer - Client ('127.0.0.1', 52252) disconnected.\n",
      "MultiVuClient - Closing connection to ('127.0.0.1', 52252)\n",
      "MultiVuClient - Closing connection to ('127.0.0.1', 52252)\n"
     ]
    },
    {
     "name": "stdout",
     "output_type": "stream",
     "text": [
      "field is stable = -6000.4834Oe\n"
     ]
    },
    {
     "name": "stderr",
     "output_type": "stream",
     "text": [
      "MultiVuServer - Closing connection to ('127.0.0.1', 52252)\n",
      "MultiVuServer - Found PPMS running.\n",
      "MultiVuServer - listening on ('localhost', 5000)\n",
      "MultiVuServer - Press ESC to exit.\n",
      "MultiVuClient - Starting connection to ('localhost', 5000)\n",
      "MultiVuClient - Starting connection to ('localhost', 5000)\n",
      "MultiVuServer - Accepted connection from ('127.0.0.1', 52253)\n",
      "MultiVuClient - Connected to PPMS MultiVuServer at ('127.0.0.1', 52253)\n",
      "MultiVuClient - Connected to PPMS MultiVuServer at ('127.0.0.1', 52253)\n",
      "MultiVuServer - Client ('127.0.0.1', 52253) disconnected.\n",
      "MultiVuClient - Closing connection to ('127.0.0.1', 52253)\n",
      "MultiVuClient - Closing connection to ('127.0.0.1', 52253)\n"
     ]
    },
    {
     "name": "stdout",
     "output_type": "stream",
     "text": [
      "field is stable = -5000.6021Oe\n"
     ]
    },
    {
     "name": "stderr",
     "output_type": "stream",
     "text": [
      "MultiVuServer - Closing connection to ('127.0.0.1', 52253)\n",
      "MultiVuServer - Found PPMS running.\n",
      "MultiVuServer - listening on ('localhost', 5000)\n",
      "MultiVuServer - Press ESC to exit.\n",
      "MultiVuClient - Starting connection to ('localhost', 5000)\n",
      "MultiVuClient - Starting connection to ('localhost', 5000)\n",
      "MultiVuServer - Accepted connection from ('127.0.0.1', 52254)\n",
      "MultiVuClient - Connected to PPMS MultiVuServer at ('127.0.0.1', 52254)\n",
      "MultiVuClient - Connected to PPMS MultiVuServer at ('127.0.0.1', 52254)\n",
      "MultiVuServer - Client ('127.0.0.1', 52254) disconnected.\n",
      "MultiVuClient - Closing connection to ('127.0.0.1', 52254)\n",
      "MultiVuClient - Closing connection to ('127.0.0.1', 52254)\n"
     ]
    },
    {
     "name": "stdout",
     "output_type": "stream",
     "text": [
      "field is stable = -4000.5908Oe\n"
     ]
    },
    {
     "name": "stderr",
     "output_type": "stream",
     "text": [
      "MultiVuServer - Closing connection to ('127.0.0.1', 52254)\n",
      "MultiVuServer - Found PPMS running.\n",
      "MultiVuServer - listening on ('localhost', 5000)\n",
      "MultiVuServer - Press ESC to exit.\n",
      "MultiVuClient - Starting connection to ('localhost', 5000)\n",
      "MultiVuClient - Starting connection to ('localhost', 5000)\n",
      "MultiVuServer - Accepted connection from ('127.0.0.1', 52260)\n",
      "MultiVuClient - Connected to PPMS MultiVuServer at ('127.0.0.1', 52260)\n",
      "MultiVuClient - Connected to PPMS MultiVuServer at ('127.0.0.1', 52260)\n",
      "MultiVuServer - Client ('127.0.0.1', 52260) disconnected.\n",
      "MultiVuClient - Closing connection to ('127.0.0.1', 52260)\n",
      "MultiVuClient - Closing connection to ('127.0.0.1', 52260)\n"
     ]
    },
    {
     "name": "stdout",
     "output_type": "stream",
     "text": [
      "field is stable = -3000.4646Oe\n"
     ]
    },
    {
     "name": "stderr",
     "output_type": "stream",
     "text": [
      "MultiVuServer - Closing connection to ('127.0.0.1', 52260)\n",
      "MultiVuServer - Found PPMS running.\n",
      "MultiVuServer - listening on ('localhost', 5000)\n",
      "MultiVuServer - Press ESC to exit.\n",
      "MultiVuClient - Starting connection to ('localhost', 5000)\n",
      "MultiVuClient - Starting connection to ('localhost', 5000)\n",
      "MultiVuServer - Accepted connection from ('127.0.0.1', 52261)\n",
      "MultiVuClient - Connected to PPMS MultiVuServer at ('127.0.0.1', 52261)\n",
      "MultiVuClient - Connected to PPMS MultiVuServer at ('127.0.0.1', 52261)\n",
      "MultiVuServer - Client ('127.0.0.1', 52261) disconnected.\n",
      "MultiVuClient - Closing connection to ('127.0.0.1', 52261)\n",
      "MultiVuClient - Closing connection to ('127.0.0.1', 52261)\n"
     ]
    },
    {
     "name": "stdout",
     "output_type": "stream",
     "text": [
      "field is stable = -2000.3962Oe\n"
     ]
    },
    {
     "name": "stderr",
     "output_type": "stream",
     "text": [
      "MultiVuServer - Closing connection to ('127.0.0.1', 52261)\n",
      "MultiVuServer - Found PPMS running.\n",
      "MultiVuServer - listening on ('localhost', 5000)\n",
      "MultiVuServer - Press ESC to exit.\n",
      "MultiVuClient - Starting connection to ('localhost', 5000)\n",
      "MultiVuClient - Starting connection to ('localhost', 5000)\n",
      "MultiVuServer - Accepted connection from ('127.0.0.1', 52262)\n",
      "MultiVuClient - Connected to PPMS MultiVuServer at ('127.0.0.1', 52262)\n",
      "MultiVuClient - Connected to PPMS MultiVuServer at ('127.0.0.1', 52262)\n",
      "MultiVuServer - Client ('127.0.0.1', 52262) disconnected.\n",
      "MultiVuClient - Closing connection to ('127.0.0.1', 52262)\n",
      "MultiVuClient - Closing connection to ('127.0.0.1', 52262)\n"
     ]
    },
    {
     "name": "stdout",
     "output_type": "stream",
     "text": [
      "field is stable = -1000.5002Oe\n"
     ]
    },
    {
     "name": "stderr",
     "output_type": "stream",
     "text": [
      "MultiVuServer - Closing connection to ('127.0.0.1', 52262)\n",
      "MultiVuServer - Found PPMS running.\n",
      "MultiVuServer - listening on ('localhost', 5000)\n",
      "MultiVuServer - Press ESC to exit.\n",
      "MultiVuClient - Starting connection to ('localhost', 5000)\n",
      "MultiVuClient - Starting connection to ('localhost', 5000)\n",
      "MultiVuServer - Accepted connection from ('127.0.0.1', 52264)\n",
      "MultiVuClient - Connected to PPMS MultiVuServer at ('127.0.0.1', 52264)\n",
      "MultiVuClient - Connected to PPMS MultiVuServer at ('127.0.0.1', 52264)\n",
      "MultiVuServer - Client ('127.0.0.1', 52264) disconnected.\n",
      "MultiVuClient - Closing connection to ('127.0.0.1', 52264)\n",
      "MultiVuClient - Closing connection to ('127.0.0.1', 52264)\n"
     ]
    },
    {
     "name": "stdout",
     "output_type": "stream",
     "text": [
      "field is stable = -0.5035Oe\n"
     ]
    },
    {
     "name": "stderr",
     "output_type": "stream",
     "text": [
      "MultiVuServer - Closing connection to ('127.0.0.1', 52264)\n",
      "MultiVuServer - Found PPMS running.\n",
      "MultiVuServer - listening on ('localhost', 5000)\n",
      "MultiVuServer - Press ESC to exit.\n",
      "MultiVuClient - Starting connection to ('localhost', 5000)\n",
      "MultiVuClient - Starting connection to ('localhost', 5000)\n",
      "MultiVuServer - Accepted connection from ('127.0.0.1', 52265)\n",
      "MultiVuClient - Connected to PPMS MultiVuServer at ('127.0.0.1', 52265)\n",
      "MultiVuClient - Connected to PPMS MultiVuServer at ('127.0.0.1', 52265)\n",
      "MultiVuServer - Client ('127.0.0.1', 52265) disconnected.\n",
      "MultiVuClient - Closing connection to ('127.0.0.1', 52265)\n",
      "MultiVuClient - Closing connection to ('127.0.0.1', 52265)\n"
     ]
    },
    {
     "name": "stdout",
     "output_type": "stream",
     "text": [
      "field is stable = 999.6945Oe\n"
     ]
    },
    {
     "name": "stderr",
     "output_type": "stream",
     "text": [
      "MultiVuServer - Closing connection to ('127.0.0.1', 52265)\n",
      "MultiVuServer - Found PPMS running.\n",
      "MultiVuServer - listening on ('localhost', 5000)\n",
      "MultiVuServer - Press ESC to exit.\n",
      "MultiVuClient - Starting connection to ('localhost', 5000)\n",
      "MultiVuClient - Starting connection to ('localhost', 5000)\n",
      "MultiVuServer - Accepted connection from ('127.0.0.1', 52267)\n",
      "MultiVuClient - Connected to PPMS MultiVuServer at ('127.0.0.1', 52267)\n",
      "MultiVuClient - Connected to PPMS MultiVuServer at ('127.0.0.1', 52267)\n",
      "MultiVuServer - Client ('127.0.0.1', 52267) disconnected.\n",
      "MultiVuClient - Closing connection to ('127.0.0.1', 52267)\n",
      "MultiVuClient - Closing connection to ('127.0.0.1', 52267)\n"
     ]
    },
    {
     "name": "stdout",
     "output_type": "stream",
     "text": [
      "field is stable = 1999.4323Oe\n"
     ]
    },
    {
     "name": "stderr",
     "output_type": "stream",
     "text": [
      "MultiVuServer - Closing connection to ('127.0.0.1', 52267)\n",
      "MultiVuServer - Found PPMS running.\n",
      "MultiVuServer - listening on ('localhost', 5000)\n",
      "MultiVuServer - Press ESC to exit.\n",
      "MultiVuClient - Starting connection to ('localhost', 5000)\n",
      "MultiVuClient - Starting connection to ('localhost', 5000)\n",
      "MultiVuServer - Accepted connection from ('127.0.0.1', 52269)\n",
      "MultiVuClient - Connected to PPMS MultiVuServer at ('127.0.0.1', 52269)\n",
      "MultiVuClient - Connected to PPMS MultiVuServer at ('127.0.0.1', 52269)\n",
      "MultiVuServer - Client ('127.0.0.1', 52269) disconnected.\n",
      "MultiVuClient - Closing connection to ('127.0.0.1', 52269)\n",
      "MultiVuClient - Closing connection to ('127.0.0.1', 52269)\n"
     ]
    },
    {
     "name": "stdout",
     "output_type": "stream",
     "text": [
      "field is stable = 2999.5728Oe\n"
     ]
    },
    {
     "name": "stderr",
     "output_type": "stream",
     "text": [
      "MultiVuServer - Closing connection to ('127.0.0.1', 52269)\n",
      "MultiVuServer - Found PPMS running.\n",
      "MultiVuServer - listening on ('localhost', 5000)\n",
      "MultiVuServer - Press ESC to exit.\n",
      "MultiVuClient - Starting connection to ('localhost', 5000)\n",
      "MultiVuClient - Starting connection to ('localhost', 5000)\n",
      "MultiVuServer - Accepted connection from ('127.0.0.1', 52270)\n",
      "MultiVuClient - Connected to PPMS MultiVuServer at ('127.0.0.1', 52270)\n",
      "MultiVuClient - Connected to PPMS MultiVuServer at ('127.0.0.1', 52270)\n",
      "MultiVuServer - Client ('127.0.0.1', 52270) disconnected.\n",
      "MultiVuClient - Closing connection to ('127.0.0.1', 52270)\n",
      "MultiVuClient - Closing connection to ('127.0.0.1', 52270)\n"
     ]
    },
    {
     "name": "stdout",
     "output_type": "stream",
     "text": [
      "field is stable = 3999.6702Oe\n"
     ]
    },
    {
     "name": "stderr",
     "output_type": "stream",
     "text": [
      "MultiVuServer - Closing connection to ('127.0.0.1', 52270)\n",
      "MultiVuServer - Found PPMS running.\n",
      "MultiVuServer - listening on ('localhost', 5000)\n",
      "MultiVuServer - Press ESC to exit.\n",
      "MultiVuClient - Starting connection to ('localhost', 5000)\n",
      "MultiVuClient - Starting connection to ('localhost', 5000)\n",
      "MultiVuServer - Accepted connection from ('127.0.0.1', 52271)\n",
      "MultiVuClient - Connected to PPMS MultiVuServer at ('127.0.0.1', 52271)\n",
      "MultiVuClient - Connected to PPMS MultiVuServer at ('127.0.0.1', 52271)\n",
      "MultiVuServer - Client ('127.0.0.1', 52271) disconnected.\n",
      "MultiVuClient - Closing connection to ('127.0.0.1', 52271)\n",
      "MultiVuClient - Closing connection to ('127.0.0.1', 52271)\n"
     ]
    },
    {
     "name": "stdout",
     "output_type": "stream",
     "text": [
      "field is stable = 4999.6523Oe\n"
     ]
    },
    {
     "name": "stderr",
     "output_type": "stream",
     "text": [
      "MultiVuServer - Closing connection to ('127.0.0.1', 52271)\n",
      "MultiVuServer - Found PPMS running.\n",
      "MultiVuServer - listening on ('localhost', 5000)\n",
      "MultiVuServer - Press ESC to exit.\n",
      "MultiVuClient - Starting connection to ('localhost', 5000)\n",
      "MultiVuClient - Starting connection to ('localhost', 5000)\n",
      "MultiVuServer - Accepted connection from ('127.0.0.1', 52273)\n",
      "MultiVuClient - Connected to PPMS MultiVuServer at ('127.0.0.1', 52273)\n",
      "MultiVuClient - Connected to PPMS MultiVuServer at ('127.0.0.1', 52273)\n",
      "MultiVuServer - Client ('127.0.0.1', 52273) disconnected.\n",
      "MultiVuClient - Closing connection to ('127.0.0.1', 52273)\n",
      "MultiVuClient - Closing connection to ('127.0.0.1', 52273)\n"
     ]
    },
    {
     "name": "stdout",
     "output_type": "stream",
     "text": [
      "field is stable = 5999.5483Oe\n"
     ]
    },
    {
     "name": "stderr",
     "output_type": "stream",
     "text": [
      "MultiVuServer - Closing connection to ('127.0.0.1', 52273)\n",
      "MultiVuServer - Found PPMS running.\n",
      "MultiVuServer - listening on ('localhost', 5000)\n",
      "MultiVuServer - Press ESC to exit.\n",
      "MultiVuClient - Starting connection to ('localhost', 5000)\n",
      "MultiVuClient - Starting connection to ('localhost', 5000)\n",
      "MultiVuServer - Accepted connection from ('127.0.0.1', 52274)\n",
      "MultiVuClient - Connected to PPMS MultiVuServer at ('127.0.0.1', 52274)\n",
      "MultiVuClient - Connected to PPMS MultiVuServer at ('127.0.0.1', 52274)\n",
      "MultiVuServer - Client ('127.0.0.1', 52274) disconnected.\n",
      "MultiVuClient - Closing connection to ('127.0.0.1', 52274)\n",
      "MultiVuClient - Closing connection to ('127.0.0.1', 52274)\n"
     ]
    },
    {
     "name": "stdout",
     "output_type": "stream",
     "text": [
      "field is stable = 6999.5879Oe\n"
     ]
    },
    {
     "name": "stderr",
     "output_type": "stream",
     "text": [
      "MultiVuServer - Closing connection to ('127.0.0.1', 52274)\n",
      "MultiVuServer - Found PPMS running.\n",
      "MultiVuServer - listening on ('localhost', 5000)\n",
      "MultiVuServer - Press ESC to exit.\n",
      "MultiVuClient - Starting connection to ('localhost', 5000)\n",
      "MultiVuClient - Starting connection to ('localhost', 5000)\n",
      "MultiVuServer - Accepted connection from ('127.0.0.1', 52275)\n",
      "MultiVuClient - Connected to PPMS MultiVuServer at ('127.0.0.1', 52275)\n",
      "MultiVuClient - Connected to PPMS MultiVuServer at ('127.0.0.1', 52275)\n",
      "MultiVuServer - Client ('127.0.0.1', 52275) disconnected.\n",
      "MultiVuClient - Closing connection to ('127.0.0.1', 52275)\n",
      "MultiVuClient - Closing connection to ('127.0.0.1', 52275)\n"
     ]
    },
    {
     "name": "stdout",
     "output_type": "stream",
     "text": [
      "field is stable = 7999.5562Oe\n"
     ]
    },
    {
     "name": "stderr",
     "output_type": "stream",
     "text": [
      "MultiVuServer - Closing connection to ('127.0.0.1', 52275)\n",
      "MultiVuServer - Found PPMS running.\n",
      "MultiVuServer - listening on ('localhost', 5000)\n",
      "MultiVuServer - Press ESC to exit.\n",
      "MultiVuClient - Starting connection to ('localhost', 5000)\n",
      "MultiVuClient - Starting connection to ('localhost', 5000)\n",
      "MultiVuServer - Accepted connection from ('127.0.0.1', 52279)\n",
      "MultiVuClient - Connected to PPMS MultiVuServer at ('127.0.0.1', 52279)\n",
      "MultiVuClient - Connected to PPMS MultiVuServer at ('127.0.0.1', 52279)\n",
      "MultiVuServer - Client ('127.0.0.1', 52279) disconnected.\n",
      "MultiVuClient - Closing connection to ('127.0.0.1', 52279)\n",
      "MultiVuClient - Closing connection to ('127.0.0.1', 52279)\n"
     ]
    },
    {
     "name": "stdout",
     "output_type": "stream",
     "text": [
      "field is stable = 8999.5527Oe\n"
     ]
    },
    {
     "name": "stderr",
     "output_type": "stream",
     "text": [
      "MultiVuServer - Closing connection to ('127.0.0.1', 52279)\n",
      "MultiVuServer - Found PPMS running.\n",
      "MultiVuServer - listening on ('localhost', 5000)\n",
      "MultiVuServer - Press ESC to exit.\n",
      "MultiVuClient - Starting connection to ('localhost', 5000)\n",
      "MultiVuClient - Starting connection to ('localhost', 5000)\n",
      "MultiVuServer - Accepted connection from ('127.0.0.1', 52280)\n",
      "MultiVuClient - Connected to PPMS MultiVuServer at ('127.0.0.1', 52280)\n",
      "MultiVuClient - Connected to PPMS MultiVuServer at ('127.0.0.1', 52280)\n",
      "MultiVuServer - Client ('127.0.0.1', 52280) disconnected.\n",
      "MultiVuClient - Closing connection to ('127.0.0.1', 52280)\n",
      "MultiVuClient - Closing connection to ('127.0.0.1', 52280)\n"
     ]
    },
    {
     "name": "stdout",
     "output_type": "stream",
     "text": [
      "field is stable = 9999.5488Oe\n"
     ]
    },
    {
     "name": "stderr",
     "output_type": "stream",
     "text": [
      "MultiVuServer - Closing connection to ('127.0.0.1', 52280)\n",
      "MultiVuServer - Found PPMS running.\n",
      "MultiVuServer - listening on ('localhost', 5000)\n",
      "MultiVuServer - Press ESC to exit.\n",
      "MultiVuClient - Starting connection to ('localhost', 5000)\n",
      "MultiVuClient - Starting connection to ('localhost', 5000)\n",
      "MultiVuServer - Accepted connection from ('127.0.0.1', 52281)\n",
      "MultiVuClient - Connected to PPMS MultiVuServer at ('127.0.0.1', 52281)\n",
      "MultiVuClient - Connected to PPMS MultiVuServer at ('127.0.0.1', 52281)\n",
      "MultiVuServer - Client ('127.0.0.1', 52281) disconnected.\n",
      "MultiVuClient - Closing connection to ('127.0.0.1', 52281)\n",
      "MultiVuClient - Closing connection to ('127.0.0.1', 52281)\n"
     ]
    },
    {
     "name": "stdout",
     "output_type": "stream",
     "text": [
      "field is stable = 10999.5469Oe\n"
     ]
    },
    {
     "name": "stderr",
     "output_type": "stream",
     "text": [
      "MultiVuServer - Closing connection to ('127.0.0.1', 52281)\n",
      "MultiVuServer - Found PPMS running.\n",
      "MultiVuServer - listening on ('localhost', 5000)\n",
      "MultiVuServer - Press ESC to exit.\n",
      "MultiVuClient - Starting connection to ('localhost', 5000)\n",
      "MultiVuClient - Starting connection to ('localhost', 5000)\n",
      "MultiVuServer - Accepted connection from ('127.0.0.1', 52283)\n",
      "MultiVuClient - Connected to PPMS MultiVuServer at ('127.0.0.1', 52283)\n",
      "MultiVuClient - Connected to PPMS MultiVuServer at ('127.0.0.1', 52283)\n",
      "MultiVuServer - Client ('127.0.0.1', 52283) disconnected.\n",
      "MultiVuClient - Closing connection to ('127.0.0.1', 52283)\n",
      "MultiVuClient - Closing connection to ('127.0.0.1', 52283)\n"
     ]
    },
    {
     "name": "stdout",
     "output_type": "stream",
     "text": [
      "field is stable = 11999.5283Oe\n"
     ]
    },
    {
     "name": "stderr",
     "output_type": "stream",
     "text": [
      "MultiVuServer - Closing connection to ('127.0.0.1', 52283)\n",
      "MultiVuServer - Found PPMS running.\n",
      "MultiVuServer - listening on ('localhost', 5000)\n",
      "MultiVuServer - Press ESC to exit.\n",
      "MultiVuClient - Starting connection to ('localhost', 5000)\n",
      "MultiVuClient - Starting connection to ('localhost', 5000)\n",
      "MultiVuServer - Accepted connection from ('127.0.0.1', 52284)\n",
      "MultiVuClient - Connected to PPMS MultiVuServer at ('127.0.0.1', 52284)\n",
      "MultiVuClient - Connected to PPMS MultiVuServer at ('127.0.0.1', 52284)\n",
      "MultiVuServer - Client ('127.0.0.1', 52284) disconnected.\n",
      "MultiVuClient - Closing connection to ('127.0.0.1', 52284)\n",
      "MultiVuClient - Closing connection to ('127.0.0.1', 52284)\n"
     ]
    },
    {
     "name": "stdout",
     "output_type": "stream",
     "text": [
      "field is stable = 12999.6396Oe\n"
     ]
    },
    {
     "name": "stderr",
     "output_type": "stream",
     "text": [
      "MultiVuServer - Closing connection to ('127.0.0.1', 52284)\n",
      "MultiVuServer - Found PPMS running.\n",
      "MultiVuServer - listening on ('localhost', 5000)\n",
      "MultiVuServer - Press ESC to exit.\n",
      "MultiVuClient - Starting connection to ('localhost', 5000)\n",
      "MultiVuClient - Starting connection to ('localhost', 5000)\n",
      "MultiVuServer - Accepted connection from ('127.0.0.1', 52285)\n",
      "MultiVuClient - Connected to PPMS MultiVuServer at ('127.0.0.1', 52285)\n",
      "MultiVuClient - Connected to PPMS MultiVuServer at ('127.0.0.1', 52285)\n",
      "MultiVuServer - Client ('127.0.0.1', 52285) disconnected.\n",
      "MultiVuClient - Closing connection to ('127.0.0.1', 52285)\n",
      "MultiVuClient - Closing connection to ('127.0.0.1', 52285)\n"
     ]
    },
    {
     "name": "stdout",
     "output_type": "stream",
     "text": [
      "field is stable = 13999.6074Oe\n"
     ]
    },
    {
     "name": "stderr",
     "output_type": "stream",
     "text": [
      "MultiVuServer - Closing connection to ('127.0.0.1', 52285)\n",
      "MultiVuServer - Found PPMS running.\n",
      "MultiVuServer - listening on ('localhost', 5000)\n",
      "MultiVuServer - Press ESC to exit.\n",
      "MultiVuClient - Starting connection to ('localhost', 5000)\n",
      "MultiVuClient - Starting connection to ('localhost', 5000)\n",
      "MultiVuServer - Accepted connection from ('127.0.0.1', 52287)\n",
      "MultiVuClient - Connected to PPMS MultiVuServer at ('127.0.0.1', 52287)\n",
      "MultiVuClient - Connected to PPMS MultiVuServer at ('127.0.0.1', 52287)\n",
      "MultiVuServer - Client ('127.0.0.1', 52287) disconnected.\n",
      "MultiVuClient - Closing connection to ('127.0.0.1', 52287)\n",
      "MultiVuClient - Closing connection to ('127.0.0.1', 52287)\n"
     ]
    },
    {
     "name": "stdout",
     "output_type": "stream",
     "text": [
      "field is stable = 14999.5615Oe\n"
     ]
    },
    {
     "name": "stderr",
     "output_type": "stream",
     "text": [
      "MultiVuServer - Closing connection to ('127.0.0.1', 52287)\n",
      "MultiVuServer - Found PPMS running.\n",
      "MultiVuServer - listening on ('localhost', 5000)\n",
      "MultiVuServer - Press ESC to exit.\n",
      "MultiVuClient - Starting connection to ('localhost', 5000)\n",
      "MultiVuClient - Starting connection to ('localhost', 5000)\n",
      "MultiVuServer - Accepted connection from ('127.0.0.1', 52288)\n",
      "MultiVuClient - Connected to PPMS MultiVuServer at ('127.0.0.1', 52288)\n",
      "MultiVuClient - Connected to PPMS MultiVuServer at ('127.0.0.1', 52288)\n",
      "MultiVuServer - Client ('127.0.0.1', 52288) disconnected.\n",
      "MultiVuClient - Closing connection to ('127.0.0.1', 52288)\n",
      "MultiVuClient - Closing connection to ('127.0.0.1', 52288)\n"
     ]
    },
    {
     "name": "stdout",
     "output_type": "stream",
     "text": [
      "field is stable = 15999.5449Oe\n"
     ]
    },
    {
     "name": "stderr",
     "output_type": "stream",
     "text": [
      "MultiVuServer - Closing connection to ('127.0.0.1', 52288)\n",
      "MultiVuServer - Found PPMS running.\n",
      "MultiVuServer - listening on ('localhost', 5000)\n",
      "MultiVuServer - Press ESC to exit.\n",
      "MultiVuClient - Starting connection to ('localhost', 5000)\n",
      "MultiVuClient - Starting connection to ('localhost', 5000)\n",
      "MultiVuServer - Accepted connection from ('127.0.0.1', 52289)\n",
      "MultiVuClient - Connected to PPMS MultiVuServer at ('127.0.0.1', 52289)\n",
      "MultiVuClient - Connected to PPMS MultiVuServer at ('127.0.0.1', 52289)\n",
      "MultiVuServer - Client ('127.0.0.1', 52289) disconnected.\n",
      "MultiVuClient - Closing connection to ('127.0.0.1', 52289)\n",
      "MultiVuClient - Closing connection to ('127.0.0.1', 52289)\n"
     ]
    },
    {
     "name": "stdout",
     "output_type": "stream",
     "text": [
      "field is stable = 16999.5547Oe\n"
     ]
    },
    {
     "name": "stderr",
     "output_type": "stream",
     "text": [
      "MultiVuServer - Closing connection to ('127.0.0.1', 52289)\n",
      "MultiVuServer - Found PPMS running.\n",
      "MultiVuServer - listening on ('localhost', 5000)\n",
      "MultiVuServer - Press ESC to exit.\n",
      "MultiVuClient - Starting connection to ('localhost', 5000)\n",
      "MultiVuClient - Starting connection to ('localhost', 5000)\n",
      "MultiVuServer - Accepted connection from ('127.0.0.1', 52291)\n",
      "MultiVuClient - Connected to PPMS MultiVuServer at ('127.0.0.1', 52291)\n",
      "MultiVuClient - Connected to PPMS MultiVuServer at ('127.0.0.1', 52291)\n",
      "MultiVuServer - Client ('127.0.0.1', 52291) disconnected.\n",
      "MultiVuClient - Closing connection to ('127.0.0.1', 52291)\n",
      "MultiVuClient - Closing connection to ('127.0.0.1', 52291)\n"
     ]
    },
    {
     "name": "stdout",
     "output_type": "stream",
     "text": [
      "field is stable = 17999.5801Oe\n"
     ]
    },
    {
     "name": "stderr",
     "output_type": "stream",
     "text": [
      "MultiVuServer - Closing connection to ('127.0.0.1', 52291)\n",
      "MultiVuServer - Found PPMS running.\n",
      "MultiVuServer - listening on ('localhost', 5000)\n",
      "MultiVuServer - Press ESC to exit.\n",
      "MultiVuClient - Starting connection to ('localhost', 5000)\n",
      "MultiVuClient - Starting connection to ('localhost', 5000)\n",
      "MultiVuServer - Accepted connection from ('127.0.0.1', 52292)\n",
      "MultiVuClient - Connected to PPMS MultiVuServer at ('127.0.0.1', 52292)\n",
      "MultiVuClient - Connected to PPMS MultiVuServer at ('127.0.0.1', 52292)\n",
      "MultiVuServer - Client ('127.0.0.1', 52292) disconnected.\n",
      "MultiVuClient - Closing connection to ('127.0.0.1', 52292)\n",
      "MultiVuClient - Closing connection to ('127.0.0.1', 52292)\n"
     ]
    },
    {
     "name": "stdout",
     "output_type": "stream",
     "text": [
      "field is stable = 18999.6348Oe\n"
     ]
    },
    {
     "name": "stderr",
     "output_type": "stream",
     "text": [
      "MultiVuServer - Closing connection to ('127.0.0.1', 52292)\n",
      "MultiVuServer - Found PPMS running.\n",
      "MultiVuServer - listening on ('localhost', 5000)\n",
      "MultiVuServer - Press ESC to exit.\n",
      "MultiVuClient - Starting connection to ('localhost', 5000)\n",
      "MultiVuClient - Starting connection to ('localhost', 5000)\n",
      "MultiVuServer - Accepted connection from ('127.0.0.1', 52293)\n",
      "MultiVuClient - Connected to PPMS MultiVuServer at ('127.0.0.1', 52293)\n",
      "MultiVuClient - Connected to PPMS MultiVuServer at ('127.0.0.1', 52293)\n",
      "MultiVuServer - Client ('127.0.0.1', 52293) disconnected.\n",
      "MultiVuClient - Closing connection to ('127.0.0.1', 52293)\n",
      "MultiVuClient - Closing connection to ('127.0.0.1', 52293)\n"
     ]
    },
    {
     "name": "stdout",
     "output_type": "stream",
     "text": [
      "field is stable = 19999.6738Oe\n"
     ]
    },
    {
     "name": "stderr",
     "output_type": "stream",
     "text": [
      "MultiVuServer - Closing connection to ('127.0.0.1', 52293)\n",
      "MultiVuServer - Found PPMS running.\n",
      "MultiVuServer - listening on ('localhost', 5000)\n",
      "MultiVuServer - Press ESC to exit.\n",
      "MultiVuClient - Starting connection to ('localhost', 5000)\n",
      "MultiVuClient - Starting connection to ('localhost', 5000)\n",
      "MultiVuServer - Accepted connection from ('127.0.0.1', 52295)\n",
      "MultiVuClient - Connected to PPMS MultiVuServer at ('127.0.0.1', 52295)\n",
      "MultiVuClient - Connected to PPMS MultiVuServer at ('127.0.0.1', 52295)\n",
      "MultiVuServer - Client ('127.0.0.1', 52295) disconnected.\n",
      "MultiVuClient - Closing connection to ('127.0.0.1', 52295)\n",
      "MultiVuClient - Closing connection to ('127.0.0.1', 52295)\n"
     ]
    },
    {
     "name": "stdout",
     "output_type": "stream",
     "text": [
      "field is stable = 20999.5703Oe\n"
     ]
    },
    {
     "name": "stderr",
     "output_type": "stream",
     "text": [
      "MultiVuServer - Closing connection to ('127.0.0.1', 52295)\n",
      "MultiVuServer - Found PPMS running.\n",
      "MultiVuServer - listening on ('localhost', 5000)\n",
      "MultiVuServer - Press ESC to exit.\n",
      "MultiVuClient - Starting connection to ('localhost', 5000)\n",
      "MultiVuClient - Starting connection to ('localhost', 5000)\n",
      "MultiVuServer - Accepted connection from ('127.0.0.1', 52296)\n",
      "MultiVuClient - Connected to PPMS MultiVuServer at ('127.0.0.1', 52296)\n",
      "MultiVuClient - Connected to PPMS MultiVuServer at ('127.0.0.1', 52296)\n",
      "MultiVuServer - Client ('127.0.0.1', 52296) disconnected.\n",
      "MultiVuClient - Closing connection to ('127.0.0.1', 52296)\n",
      "MultiVuClient - Closing connection to ('127.0.0.1', 52296)\n"
     ]
    },
    {
     "name": "stdout",
     "output_type": "stream",
     "text": [
      "field is stable = 21999.6543Oe\n"
     ]
    },
    {
     "name": "stderr",
     "output_type": "stream",
     "text": [
      "MultiVuServer - Closing connection to ('127.0.0.1', 52296)\n",
      "MultiVuServer - Found PPMS running.\n",
      "MultiVuServer - listening on ('localhost', 5000)\n",
      "MultiVuServer - Press ESC to exit.\n",
      "MultiVuClient - Starting connection to ('localhost', 5000)\n",
      "MultiVuClient - Starting connection to ('localhost', 5000)\n",
      "MultiVuServer - Accepted connection from ('127.0.0.1', 52298)\n",
      "MultiVuClient - Connected to PPMS MultiVuServer at ('127.0.0.1', 52298)\n",
      "MultiVuClient - Connected to PPMS MultiVuServer at ('127.0.0.1', 52298)\n",
      "MultiVuServer - Client ('127.0.0.1', 52298) disconnected.\n",
      "MultiVuClient - Closing connection to ('127.0.0.1', 52298)\n",
      "MultiVuClient - Closing connection to ('127.0.0.1', 52298)\n"
     ]
    },
    {
     "name": "stdout",
     "output_type": "stream",
     "text": [
      "field is stable = 22999.5781Oe\n"
     ]
    },
    {
     "name": "stderr",
     "output_type": "stream",
     "text": [
      "MultiVuServer - Closing connection to ('127.0.0.1', 52298)\n",
      "MultiVuServer - Found PPMS running.\n",
      "MultiVuServer - listening on ('localhost', 5000)\n",
      "MultiVuServer - Press ESC to exit.\n",
      "MultiVuClient - Starting connection to ('localhost', 5000)\n",
      "MultiVuClient - Starting connection to ('localhost', 5000)\n",
      "MultiVuServer - Accepted connection from ('127.0.0.1', 52299)\n",
      "MultiVuClient - Connected to PPMS MultiVuServer at ('127.0.0.1', 52299)\n",
      "MultiVuClient - Connected to PPMS MultiVuServer at ('127.0.0.1', 52299)\n",
      "MultiVuServer - Client ('127.0.0.1', 52299) disconnected.\n",
      "MultiVuClient - Closing connection to ('127.0.0.1', 52299)\n",
      "MultiVuClient - Closing connection to ('127.0.0.1', 52299)\n"
     ]
    },
    {
     "name": "stdout",
     "output_type": "stream",
     "text": [
      "field is stable = 23999.502Oe\n"
     ]
    },
    {
     "name": "stderr",
     "output_type": "stream",
     "text": [
      "MultiVuServer - Closing connection to ('127.0.0.1', 52299)\n",
      "MultiVuServer - Found PPMS running.\n",
      "MultiVuServer - listening on ('localhost', 5000)\n",
      "MultiVuServer - Press ESC to exit.\n",
      "MultiVuClient - Starting connection to ('localhost', 5000)\n",
      "MultiVuClient - Starting connection to ('localhost', 5000)\n",
      "MultiVuServer - Accepted connection from ('127.0.0.1', 52300)\n",
      "MultiVuClient - Connected to PPMS MultiVuServer at ('127.0.0.1', 52300)\n",
      "MultiVuClient - Connected to PPMS MultiVuServer at ('127.0.0.1', 52300)\n",
      "MultiVuServer - Client ('127.0.0.1', 52300) disconnected.\n",
      "MultiVuClient - Closing connection to ('127.0.0.1', 52300)\n",
      "MultiVuClient - Closing connection to ('127.0.0.1', 52300)\n"
     ]
    },
    {
     "name": "stdout",
     "output_type": "stream",
     "text": [
      "field is stable = 24999.5996Oe\n"
     ]
    },
    {
     "name": "stderr",
     "output_type": "stream",
     "text": [
      "MultiVuServer - Closing connection to ('127.0.0.1', 52300)\n",
      "MultiVuServer - Found PPMS running.\n",
      "MultiVuServer - listening on ('localhost', 5000)\n",
      "MultiVuServer - Press ESC to exit.\n",
      "MultiVuClient - Starting connection to ('localhost', 5000)\n",
      "MultiVuClient - Starting connection to ('localhost', 5000)\n",
      "MultiVuServer - Accepted connection from ('127.0.0.1', 52302)\n",
      "MultiVuClient - Connected to PPMS MultiVuServer at ('127.0.0.1', 52302)\n",
      "MultiVuClient - Connected to PPMS MultiVuServer at ('127.0.0.1', 52302)\n",
      "MultiVuServer - Client ('127.0.0.1', 52302) disconnected.\n",
      "MultiVuClient - Closing connection to ('127.0.0.1', 52302)\n",
      "MultiVuClient - Closing connection to ('127.0.0.1', 52302)\n"
     ]
    },
    {
     "name": "stdout",
     "output_type": "stream",
     "text": [
      "field is stable = 25999.4824Oe\n"
     ]
    },
    {
     "name": "stderr",
     "output_type": "stream",
     "text": [
      "MultiVuServer - Closing connection to ('127.0.0.1', 52302)\n",
      "MultiVuServer - Found PPMS running.\n",
      "MultiVuServer - listening on ('localhost', 5000)\n",
      "MultiVuServer - Press ESC to exit.\n",
      "MultiVuClient - Starting connection to ('localhost', 5000)\n",
      "MultiVuClient - Starting connection to ('localhost', 5000)\n",
      "MultiVuServer - Accepted connection from ('127.0.0.1', 52303)\n",
      "MultiVuClient - Connected to PPMS MultiVuServer at ('127.0.0.1', 52303)\n",
      "MultiVuClient - Connected to PPMS MultiVuServer at ('127.0.0.1', 52303)\n",
      "MultiVuServer - Client ('127.0.0.1', 52303) disconnected.\n",
      "MultiVuClient - Closing connection to ('127.0.0.1', 52303)\n",
      "MultiVuClient - Closing connection to ('127.0.0.1', 52303)\n"
     ]
    },
    {
     "name": "stdout",
     "output_type": "stream",
     "text": [
      "field is stable = 26999.5801Oe\n"
     ]
    },
    {
     "name": "stderr",
     "output_type": "stream",
     "text": [
      "MultiVuServer - Closing connection to ('127.0.0.1', 52303)\n",
      "MultiVuServer - Found PPMS running.\n",
      "MultiVuServer - listening on ('localhost', 5000)\n",
      "MultiVuServer - Press ESC to exit.\n",
      "MultiVuClient - Starting connection to ('localhost', 5000)\n",
      "MultiVuClient - Starting connection to ('localhost', 5000)\n",
      "MultiVuServer - Accepted connection from ('127.0.0.1', 52304)\n",
      "MultiVuClient - Connected to PPMS MultiVuServer at ('127.0.0.1', 52304)\n",
      "MultiVuClient - Connected to PPMS MultiVuServer at ('127.0.0.1', 52304)\n",
      "MultiVuServer - Client ('127.0.0.1', 52304) disconnected.\n",
      "MultiVuClient - Closing connection to ('127.0.0.1', 52304)\n",
      "MultiVuClient - Closing connection to ('127.0.0.1', 52304)\n"
     ]
    },
    {
     "name": "stdout",
     "output_type": "stream",
     "text": [
      "field is stable = 27999.5898Oe\n"
     ]
    },
    {
     "name": "stderr",
     "output_type": "stream",
     "text": [
      "MultiVuServer - Closing connection to ('127.0.0.1', 52304)\n",
      "MultiVuServer - Found PPMS running.\n",
      "MultiVuServer - listening on ('localhost', 5000)\n",
      "MultiVuServer - Press ESC to exit.\n",
      "MultiVuClient - Starting connection to ('localhost', 5000)\n",
      "MultiVuClient - Starting connection to ('localhost', 5000)\n",
      "MultiVuServer - Accepted connection from ('127.0.0.1', 52306)\n",
      "MultiVuClient - Connected to PPMS MultiVuServer at ('127.0.0.1', 52306)\n",
      "MultiVuClient - Connected to PPMS MultiVuServer at ('127.0.0.1', 52306)\n",
      "MultiVuServer - Client ('127.0.0.1', 52306) disconnected.\n",
      "MultiVuClient - Closing connection to ('127.0.0.1', 52306)\n",
      "MultiVuClient - Closing connection to ('127.0.0.1', 52306)\n"
     ]
    },
    {
     "name": "stdout",
     "output_type": "stream",
     "text": [
      "field is stable = 28999.5859Oe\n"
     ]
    },
    {
     "name": "stderr",
     "output_type": "stream",
     "text": [
      "MultiVuServer - Closing connection to ('127.0.0.1', 52306)\n",
      "MultiVuServer - Found PPMS running.\n",
      "MultiVuServer - listening on ('localhost', 5000)\n",
      "MultiVuServer - Press ESC to exit.\n",
      "MultiVuClient - Starting connection to ('localhost', 5000)\n",
      "MultiVuClient - Starting connection to ('localhost', 5000)\n",
      "MultiVuServer - Accepted connection from ('127.0.0.1', 52307)\n",
      "MultiVuClient - Connected to PPMS MultiVuServer at ('127.0.0.1', 52307)\n",
      "MultiVuClient - Connected to PPMS MultiVuServer at ('127.0.0.1', 52307)\n",
      "MultiVuServer - Client ('127.0.0.1', 52307) disconnected.\n",
      "MultiVuClient - Closing connection to ('127.0.0.1', 52307)\n",
      "MultiVuClient - Closing connection to ('127.0.0.1', 52307)\n"
     ]
    },
    {
     "name": "stdout",
     "output_type": "stream",
     "text": [
      "field is stable = 29999.498Oe\n"
     ]
    },
    {
     "name": "stderr",
     "output_type": "stream",
     "text": [
      "MultiVuServer - Closing connection to ('127.0.0.1', 52307)\n",
      "MultiVuServer - Found PPMS running.\n",
      "MultiVuServer - listening on ('localhost', 5000)\n",
      "MultiVuServer - Press ESC to exit.\n",
      "MultiVuClient - Starting connection to ('localhost', 5000)\n",
      "MultiVuClient - Starting connection to ('localhost', 5000)\n",
      "MultiVuServer - Accepted connection from ('127.0.0.1', 52311)\n",
      "MultiVuClient - Connected to PPMS MultiVuServer at ('127.0.0.1', 52311)\n",
      "MultiVuClient - Connected to PPMS MultiVuServer at ('127.0.0.1', 52311)\n",
      "MultiVuServer - Client ('127.0.0.1', 52311) disconnected.\n",
      "MultiVuClient - Closing connection to ('127.0.0.1', 52311)\n",
      "MultiVuClient - Closing connection to ('127.0.0.1', 52311)\n"
     ]
    },
    {
     "name": "stdout",
     "output_type": "stream",
     "text": [
      "field is stable = 30999.6387Oe\n"
     ]
    },
    {
     "name": "stderr",
     "output_type": "stream",
     "text": [
      "MultiVuServer - Closing connection to ('127.0.0.1', 52311)\n",
      "MultiVuServer - Found PPMS running.\n",
      "MultiVuServer - listening on ('localhost', 5000)\n",
      "MultiVuServer - Press ESC to exit.\n",
      "MultiVuClient - Starting connection to ('localhost', 5000)\n",
      "MultiVuClient - Starting connection to ('localhost', 5000)\n",
      "MultiVuServer - Accepted connection from ('127.0.0.1', 52313)\n",
      "MultiVuClient - Connected to PPMS MultiVuServer at ('127.0.0.1', 52313)\n",
      "MultiVuClient - Connected to PPMS MultiVuServer at ('127.0.0.1', 52313)\n",
      "MultiVuServer - Client ('127.0.0.1', 52313) disconnected.\n",
      "MultiVuClient - Closing connection to ('127.0.0.1', 52313)\n",
      "MultiVuClient - Closing connection to ('127.0.0.1', 52313)\n"
     ]
    },
    {
     "name": "stdout",
     "output_type": "stream",
     "text": [
      "field is stable = 31999.6641Oe\n"
     ]
    },
    {
     "name": "stderr",
     "output_type": "stream",
     "text": [
      "MultiVuServer - Closing connection to ('127.0.0.1', 52313)\n",
      "MultiVuServer - Found PPMS running.\n",
      "MultiVuServer - listening on ('localhost', 5000)\n",
      "MultiVuServer - Press ESC to exit.\n",
      "MultiVuClient - Starting connection to ('localhost', 5000)\n",
      "MultiVuClient - Starting connection to ('localhost', 5000)\n",
      "MultiVuServer - Accepted connection from ('127.0.0.1', 52316)\n",
      "MultiVuClient - Connected to PPMS MultiVuServer at ('127.0.0.1', 52316)\n",
      "MultiVuClient - Connected to PPMS MultiVuServer at ('127.0.0.1', 52316)\n",
      "MultiVuServer - Client ('127.0.0.1', 52316) disconnected.\n",
      "MultiVuClient - Closing connection to ('127.0.0.1', 52316)\n",
      "MultiVuClient - Closing connection to ('127.0.0.1', 52316)\n"
     ]
    },
    {
     "name": "stdout",
     "output_type": "stream",
     "text": [
      "field is stable = 32999.6875Oe\n"
     ]
    },
    {
     "name": "stderr",
     "output_type": "stream",
     "text": [
      "MultiVuServer - Closing connection to ('127.0.0.1', 52316)\n",
      "MultiVuServer - Found PPMS running.\n",
      "MultiVuServer - listening on ('localhost', 5000)\n",
      "MultiVuServer - Press ESC to exit.\n",
      "MultiVuClient - Starting connection to ('localhost', 5000)\n",
      "MultiVuClient - Starting connection to ('localhost', 5000)\n",
      "MultiVuServer - Accepted connection from ('127.0.0.1', 52320)\n",
      "MultiVuClient - Connected to PPMS MultiVuServer at ('127.0.0.1', 52320)\n",
      "MultiVuClient - Connected to PPMS MultiVuServer at ('127.0.0.1', 52320)\n",
      "MultiVuServer - Client ('127.0.0.1', 52320) disconnected.\n",
      "MultiVuClient - Closing connection to ('127.0.0.1', 52320)\n",
      "MultiVuClient - Closing connection to ('127.0.0.1', 52320)\n"
     ]
    },
    {
     "name": "stdout",
     "output_type": "stream",
     "text": [
      "field is stable = 33999.6406Oe\n"
     ]
    },
    {
     "name": "stderr",
     "output_type": "stream",
     "text": [
      "MultiVuServer - Closing connection to ('127.0.0.1', 52320)\n",
      "MultiVuServer - Found PPMS running.\n",
      "MultiVuServer - listening on ('localhost', 5000)\n",
      "MultiVuServer - Press ESC to exit.\n",
      "MultiVuClient - Starting connection to ('localhost', 5000)\n",
      "MultiVuClient - Starting connection to ('localhost', 5000)\n",
      "MultiVuServer - Accepted connection from ('127.0.0.1', 52322)\n",
      "MultiVuClient - Connected to PPMS MultiVuServer at ('127.0.0.1', 52322)\n",
      "MultiVuClient - Connected to PPMS MultiVuServer at ('127.0.0.1', 52322)\n",
      "MultiVuServer - Client ('127.0.0.1', 52322) disconnected.\n",
      "MultiVuClient - Closing connection to ('127.0.0.1', 52322)\n",
      "MultiVuClient - Closing connection to ('127.0.0.1', 52322)\n"
     ]
    },
    {
     "name": "stdout",
     "output_type": "stream",
     "text": [
      "field is stable = 34999.582Oe\n"
     ]
    },
    {
     "name": "stderr",
     "output_type": "stream",
     "text": [
      "MultiVuServer - Closing connection to ('127.0.0.1', 52322)\n",
      "MultiVuServer - Found PPMS running.\n",
      "MultiVuServer - listening on ('localhost', 5000)\n",
      "MultiVuServer - Press ESC to exit.\n",
      "MultiVuClient - Starting connection to ('localhost', 5000)\n",
      "MultiVuClient - Starting connection to ('localhost', 5000)\n",
      "MultiVuServer - Accepted connection from ('127.0.0.1', 52323)\n",
      "MultiVuClient - Connected to PPMS MultiVuServer at ('127.0.0.1', 52323)\n",
      "MultiVuClient - Connected to PPMS MultiVuServer at ('127.0.0.1', 52323)\n",
      "MultiVuServer - Client ('127.0.0.1', 52323) disconnected.\n",
      "MultiVuClient - Closing connection to ('127.0.0.1', 52323)\n",
      "MultiVuClient - Closing connection to ('127.0.0.1', 52323)\n"
     ]
    },
    {
     "name": "stdout",
     "output_type": "stream",
     "text": [
      "field is stable = 35999.5781Oe\n"
     ]
    },
    {
     "name": "stderr",
     "output_type": "stream",
     "text": [
      "MultiVuServer - Closing connection to ('127.0.0.1', 52323)\n",
      "MultiVuServer - Found PPMS running.\n",
      "MultiVuServer - listening on ('localhost', 5000)\n",
      "MultiVuServer - Press ESC to exit.\n",
      "MultiVuClient - Starting connection to ('localhost', 5000)\n",
      "MultiVuClient - Starting connection to ('localhost', 5000)\n",
      "MultiVuServer - Accepted connection from ('127.0.0.1', 52324)\n",
      "MultiVuClient - Connected to PPMS MultiVuServer at ('127.0.0.1', 52324)\n",
      "MultiVuClient - Connected to PPMS MultiVuServer at ('127.0.0.1', 52324)\n",
      "MultiVuServer - Client ('127.0.0.1', 52324) disconnected.\n",
      "MultiVuClient - Closing connection to ('127.0.0.1', 52324)\n",
      "MultiVuClient - Closing connection to ('127.0.0.1', 52324)\n"
     ]
    },
    {
     "name": "stdout",
     "output_type": "stream",
     "text": [
      "field is stable = 36999.5156Oe\n"
     ]
    },
    {
     "name": "stderr",
     "output_type": "stream",
     "text": [
      "MultiVuServer - Closing connection to ('127.0.0.1', 52324)\n",
      "MultiVuServer - Found PPMS running.\n",
      "MultiVuServer - listening on ('localhost', 5000)\n",
      "MultiVuServer - Press ESC to exit.\n",
      "MultiVuClient - Starting connection to ('localhost', 5000)\n",
      "MultiVuClient - Starting connection to ('localhost', 5000)\n",
      "MultiVuServer - Accepted connection from ('127.0.0.1', 52326)\n",
      "MultiVuClient - Connected to PPMS MultiVuServer at ('127.0.0.1', 52326)\n",
      "MultiVuClient - Connected to PPMS MultiVuServer at ('127.0.0.1', 52326)\n",
      "MultiVuServer - Client ('127.0.0.1', 52326) disconnected.\n",
      "MultiVuClient - Closing connection to ('127.0.0.1', 52326)\n",
      "MultiVuClient - Closing connection to ('127.0.0.1', 52326)\n"
     ]
    },
    {
     "name": "stdout",
     "output_type": "stream",
     "text": [
      "field is stable = 37999.7461Oe\n"
     ]
    },
    {
     "name": "stderr",
     "output_type": "stream",
     "text": [
      "MultiVuServer - Closing connection to ('127.0.0.1', 52326)\n",
      "MultiVuServer - Found PPMS running.\n",
      "MultiVuServer - listening on ('localhost', 5000)\n",
      "MultiVuServer - Press ESC to exit.\n",
      "MultiVuClient - Starting connection to ('localhost', 5000)\n",
      "MultiVuClient - Starting connection to ('localhost', 5000)\n",
      "MultiVuServer - Accepted connection from ('127.0.0.1', 52327)\n",
      "MultiVuClient - Connected to PPMS MultiVuServer at ('127.0.0.1', 52327)\n",
      "MultiVuClient - Connected to PPMS MultiVuServer at ('127.0.0.1', 52327)\n",
      "MultiVuServer - Client ('127.0.0.1', 52327) disconnected.\n",
      "MultiVuClient - Closing connection to ('127.0.0.1', 52327)\n",
      "MultiVuClient - Closing connection to ('127.0.0.1', 52327)\n"
     ]
    },
    {
     "name": "stdout",
     "output_type": "stream",
     "text": [
      "field is stable = 38999.4531Oe\n"
     ]
    },
    {
     "name": "stderr",
     "output_type": "stream",
     "text": [
      "MultiVuServer - Closing connection to ('127.0.0.1', 52327)\n",
      "MultiVuServer - Found PPMS running.\n",
      "MultiVuServer - listening on ('localhost', 5000)\n",
      "MultiVuServer - Press ESC to exit.\n",
      "MultiVuClient - Starting connection to ('localhost', 5000)\n",
      "MultiVuClient - Starting connection to ('localhost', 5000)\n",
      "MultiVuServer - Accepted connection from ('127.0.0.1', 52328)\n",
      "MultiVuClient - Connected to PPMS MultiVuServer at ('127.0.0.1', 52328)\n",
      "MultiVuClient - Connected to PPMS MultiVuServer at ('127.0.0.1', 52328)\n",
      "MultiVuServer - Client ('127.0.0.1', 52328) disconnected.\n",
      "MultiVuClient - Closing connection to ('127.0.0.1', 52328)\n",
      "MultiVuClient - Closing connection to ('127.0.0.1', 52328)\n"
     ]
    },
    {
     "name": "stdout",
     "output_type": "stream",
     "text": [
      "field is stable = 39999.4766Oe\n"
     ]
    },
    {
     "name": "stderr",
     "output_type": "stream",
     "text": [
      "MultiVuServer - Closing connection to ('127.0.0.1', 52328)\n",
      "MultiVuServer - Found PPMS running.\n",
      "MultiVuServer - listening on ('localhost', 5000)\n",
      "MultiVuServer - Press ESC to exit.\n",
      "MultiVuClient - Starting connection to ('localhost', 5000)\n",
      "MultiVuClient - Starting connection to ('localhost', 5000)\n",
      "MultiVuServer - Accepted connection from ('127.0.0.1', 52330)\n",
      "MultiVuClient - Connected to PPMS MultiVuServer at ('127.0.0.1', 52330)\n",
      "MultiVuClient - Connected to PPMS MultiVuServer at ('127.0.0.1', 52330)\n",
      "MultiVuServer - Client ('127.0.0.1', 52330) disconnected.\n",
      "MultiVuClient - Closing connection to ('127.0.0.1', 52330)\n",
      "MultiVuClient - Closing connection to ('127.0.0.1', 52330)\n"
     ]
    },
    {
     "name": "stdout",
     "output_type": "stream",
     "text": [
      "field is stable = 40999.5469Oe\n"
     ]
    },
    {
     "name": "stderr",
     "output_type": "stream",
     "text": [
      "MultiVuServer - Closing connection to ('127.0.0.1', 52330)\n",
      "MultiVuServer - Found PPMS running.\n",
      "MultiVuServer - listening on ('localhost', 5000)\n",
      "MultiVuServer - Press ESC to exit.\n",
      "MultiVuClient - Starting connection to ('localhost', 5000)\n",
      "MultiVuClient - Starting connection to ('localhost', 5000)\n",
      "MultiVuServer - Accepted connection from ('127.0.0.1', 52331)\n",
      "MultiVuClient - Connected to PPMS MultiVuServer at ('127.0.0.1', 52331)\n",
      "MultiVuClient - Connected to PPMS MultiVuServer at ('127.0.0.1', 52331)\n",
      "MultiVuServer - Client ('127.0.0.1', 52331) disconnected.\n",
      "MultiVuClient - Closing connection to ('127.0.0.1', 52331)\n",
      "MultiVuClient - Closing connection to ('127.0.0.1', 52331)\n"
     ]
    },
    {
     "name": "stdout",
     "output_type": "stream",
     "text": [
      "field is stable = 41999.5703Oe\n"
     ]
    },
    {
     "name": "stderr",
     "output_type": "stream",
     "text": [
      "MultiVuServer - Closing connection to ('127.0.0.1', 52331)\n",
      "MultiVuServer - Found PPMS running.\n",
      "MultiVuServer - listening on ('localhost', 5000)\n",
      "MultiVuServer - Press ESC to exit.\n",
      "MultiVuClient - Starting connection to ('localhost', 5000)\n",
      "MultiVuClient - Starting connection to ('localhost', 5000)\n",
      "MultiVuServer - Accepted connection from ('127.0.0.1', 52332)\n",
      "MultiVuClient - Connected to PPMS MultiVuServer at ('127.0.0.1', 52332)\n",
      "MultiVuClient - Connected to PPMS MultiVuServer at ('127.0.0.1', 52332)\n",
      "MultiVuServer - Client ('127.0.0.1', 52332) disconnected.\n",
      "MultiVuClient - Closing connection to ('127.0.0.1', 52332)\n",
      "MultiVuClient - Closing connection to ('127.0.0.1', 52332)\n"
     ]
    },
    {
     "name": "stdout",
     "output_type": "stream",
     "text": [
      "field is stable = 42999.7695Oe\n"
     ]
    },
    {
     "name": "stderr",
     "output_type": "stream",
     "text": [
      "MultiVuServer - Closing connection to ('127.0.0.1', 52332)\n",
      "MultiVuServer - Found PPMS running.\n",
      "MultiVuServer - listening on ('localhost', 5000)\n",
      "MultiVuServer - Press ESC to exit.\n",
      "MultiVuClient - Starting connection to ('localhost', 5000)\n",
      "MultiVuClient - Starting connection to ('localhost', 5000)\n",
      "MultiVuServer - Accepted connection from ('127.0.0.1', 55569)\n",
      "MultiVuClient - Connected to PPMS MultiVuServer at ('127.0.0.1', 55569)\n",
      "MultiVuClient - Connected to PPMS MultiVuServer at ('127.0.0.1', 55569)\n",
      "MultiVuServer - Client ('127.0.0.1', 55569) disconnected.\n",
      "MultiVuClient - Closing connection to ('127.0.0.1', 55569)\n",
      "MultiVuClient - Closing connection to ('127.0.0.1', 55569)\n"
     ]
    },
    {
     "name": "stdout",
     "output_type": "stream",
     "text": [
      "field is stable = 43999.6094Oe\n"
     ]
    },
    {
     "name": "stderr",
     "output_type": "stream",
     "text": [
      "MultiVuServer - Closing connection to ('127.0.0.1', 55569)\n",
      "MultiVuServer - Found PPMS running.\n",
      "MultiVuServer - listening on ('localhost', 5000)\n",
      "MultiVuServer - Press ESC to exit.\n",
      "MultiVuClient - Starting connection to ('localhost', 5000)\n",
      "MultiVuClient - Starting connection to ('localhost', 5000)\n",
      "MultiVuServer - Accepted connection from ('127.0.0.1', 55570)\n",
      "MultiVuClient - Connected to PPMS MultiVuServer at ('127.0.0.1', 55570)\n",
      "MultiVuClient - Connected to PPMS MultiVuServer at ('127.0.0.1', 55570)\n",
      "MultiVuServer - Client ('127.0.0.1', 55570) disconnected.\n",
      "MultiVuClient - Closing connection to ('127.0.0.1', 55570)\n",
      "MultiVuClient - Closing connection to ('127.0.0.1', 55570)\n"
     ]
    },
    {
     "name": "stdout",
     "output_type": "stream",
     "text": [
      "field is stable = 44999.4766Oe\n"
     ]
    },
    {
     "name": "stderr",
     "output_type": "stream",
     "text": [
      "MultiVuServer - Closing connection to ('127.0.0.1', 55570)\n",
      "MultiVuServer - Found PPMS running.\n",
      "MultiVuServer - listening on ('localhost', 5000)\n",
      "MultiVuServer - Press ESC to exit.\n",
      "MultiVuClient - Starting connection to ('localhost', 5000)\n",
      "MultiVuClient - Starting connection to ('localhost', 5000)\n",
      "MultiVuServer - Accepted connection from ('127.0.0.1', 55571)\n",
      "MultiVuClient - Connected to PPMS MultiVuServer at ('127.0.0.1', 55571)\n",
      "MultiVuClient - Connected to PPMS MultiVuServer at ('127.0.0.1', 55571)\n",
      "MultiVuServer - Client ('127.0.0.1', 55571) disconnected.\n",
      "MultiVuClient - Closing connection to ('127.0.0.1', 55571)\n",
      "MultiVuClient - Closing connection to ('127.0.0.1', 55571)\n"
     ]
    },
    {
     "name": "stdout",
     "output_type": "stream",
     "text": [
      "field is stable = 45999.5156Oe\n"
     ]
    },
    {
     "name": "stderr",
     "output_type": "stream",
     "text": [
      "MultiVuServer - Closing connection to ('127.0.0.1', 55571)\n",
      "MultiVuServer - Found PPMS running.\n",
      "MultiVuServer - listening on ('localhost', 5000)\n",
      "MultiVuServer - Press ESC to exit.\n",
      "MultiVuClient - Starting connection to ('localhost', 5000)\n",
      "MultiVuClient - Starting connection to ('localhost', 5000)\n",
      "MultiVuServer - Accepted connection from ('127.0.0.1', 55573)\n",
      "MultiVuClient - Connected to PPMS MultiVuServer at ('127.0.0.1', 55573)\n",
      "MultiVuClient - Connected to PPMS MultiVuServer at ('127.0.0.1', 55573)\n",
      "MultiVuServer - Client ('127.0.0.1', 55573) disconnected.\n",
      "MultiVuClient - Closing connection to ('127.0.0.1', 55573)\n",
      "MultiVuClient - Closing connection to ('127.0.0.1', 55573)\n"
     ]
    },
    {
     "name": "stdout",
     "output_type": "stream",
     "text": [
      "field is stable = 46999.625Oe\n"
     ]
    },
    {
     "name": "stderr",
     "output_type": "stream",
     "text": [
      "MultiVuServer - Closing connection to ('127.0.0.1', 55573)\n",
      "MultiVuServer - Found PPMS running.\n",
      "MultiVuServer - listening on ('localhost', 5000)\n",
      "MultiVuServer - Press ESC to exit.\n",
      "MultiVuClient - Starting connection to ('localhost', 5000)\n",
      "MultiVuClient - Starting connection to ('localhost', 5000)\n",
      "MultiVuServer - Accepted connection from ('127.0.0.1', 55574)\n",
      "MultiVuClient - Connected to PPMS MultiVuServer at ('127.0.0.1', 55574)\n",
      "MultiVuClient - Connected to PPMS MultiVuServer at ('127.0.0.1', 55574)\n",
      "MultiVuServer - Client ('127.0.0.1', 55574) disconnected.\n",
      "MultiVuClient - Closing connection to ('127.0.0.1', 55574)\n",
      "MultiVuClient - Closing connection to ('127.0.0.1', 55574)\n"
     ]
    },
    {
     "name": "stdout",
     "output_type": "stream",
     "text": [
      "field is stable = 47999.6523Oe\n"
     ]
    },
    {
     "name": "stderr",
     "output_type": "stream",
     "text": [
      "MultiVuServer - Closing connection to ('127.0.0.1', 55574)\n",
      "MultiVuServer - Found PPMS running.\n",
      "MultiVuServer - listening on ('localhost', 5000)\n",
      "MultiVuServer - Press ESC to exit.\n",
      "MultiVuClient - Starting connection to ('localhost', 5000)\n",
      "MultiVuClient - Starting connection to ('localhost', 5000)\n",
      "MultiVuServer - Accepted connection from ('127.0.0.1', 55575)\n",
      "MultiVuClient - Connected to PPMS MultiVuServer at ('127.0.0.1', 55575)\n",
      "MultiVuClient - Connected to PPMS MultiVuServer at ('127.0.0.1', 55575)\n",
      "MultiVuServer - Client ('127.0.0.1', 55575) disconnected.\n",
      "MultiVuClient - Closing connection to ('127.0.0.1', 55575)\n",
      "MultiVuClient - Closing connection to ('127.0.0.1', 55575)\n"
     ]
    },
    {
     "name": "stdout",
     "output_type": "stream",
     "text": [
      "field is stable = 49000.168Oe\n"
     ]
    },
    {
     "name": "stderr",
     "output_type": "stream",
     "text": [
      "MultiVuServer - Closing connection to ('127.0.0.1', 55575)\n",
      "MultiVuServer - Found PPMS running.\n",
      "MultiVuServer - listening on ('localhost', 5000)\n",
      "MultiVuServer - Press ESC to exit.\n",
      "MultiVuClient - Starting connection to ('localhost', 5000)\n",
      "MultiVuClient - Starting connection to ('localhost', 5000)\n",
      "MultiVuServer - Accepted connection from ('127.0.0.1', 55577)\n",
      "MultiVuClient - Connected to PPMS MultiVuServer at ('127.0.0.1', 55577)\n",
      "MultiVuClient - Connected to PPMS MultiVuServer at ('127.0.0.1', 55577)\n",
      "MultiVuServer - Client ('127.0.0.1', 55577) disconnected.\n",
      "MultiVuClient - Closing connection to ('127.0.0.1', 55577)\n",
      "MultiVuClient - Closing connection to ('127.0.0.1', 55577)\n"
     ]
    },
    {
     "name": "stdout",
     "output_type": "stream",
     "text": [
      "field is stable = 50000.4375Oe\n"
     ]
    },
    {
     "name": "stderr",
     "output_type": "stream",
     "text": [
      "MultiVuServer - Closing connection to ('127.0.0.1', 55577)\n",
      "MultiVuServer - Found PPMS running.\n",
      "MultiVuServer - listening on ('localhost', 5000)\n",
      "MultiVuServer - Press ESC to exit.\n",
      "MultiVuClient - Starting connection to ('localhost', 5000)\n",
      "MultiVuClient - Starting connection to ('localhost', 5000)\n",
      "MultiVuServer - Accepted connection from ('127.0.0.1', 55578)\n",
      "MultiVuClient - Connected to PPMS MultiVuServer at ('127.0.0.1', 55578)\n",
      "MultiVuClient - Connected to PPMS MultiVuServer at ('127.0.0.1', 55578)\n",
      "MultiVuServer - Client ('127.0.0.1', 55578) disconnected.\n",
      "MultiVuClient - Closing connection to ('127.0.0.1', 55578)\n",
      "MultiVuClient - Closing connection to ('127.0.0.1', 55578)\n"
     ]
    },
    {
     "name": "stdout",
     "output_type": "stream",
     "text": [
      "field is stable = 51000.4609Oe\n"
     ]
    },
    {
     "name": "stderr",
     "output_type": "stream",
     "text": [
      "MultiVuServer - Closing connection to ('127.0.0.1', 55578)\n",
      "MultiVuServer - Found PPMS running.\n",
      "MultiVuServer - listening on ('localhost', 5000)\n",
      "MultiVuServer - Press ESC to exit.\n",
      "MultiVuClient - Starting connection to ('localhost', 5000)\n",
      "MultiVuClient - Starting connection to ('localhost', 5000)\n",
      "MultiVuServer - Accepted connection from ('127.0.0.1', 55579)\n",
      "MultiVuClient - Connected to PPMS MultiVuServer at ('127.0.0.1', 55579)\n",
      "MultiVuClient - Connected to PPMS MultiVuServer at ('127.0.0.1', 55579)\n",
      "MultiVuServer - Client ('127.0.0.1', 55579) disconnected.\n",
      "MultiVuClient - Closing connection to ('127.0.0.1', 55579)\n",
      "MultiVuClient - Closing connection to ('127.0.0.1', 55579)\n"
     ]
    },
    {
     "name": "stdout",
     "output_type": "stream",
     "text": [
      "field is stable = 52000.1836Oe\n"
     ]
    },
    {
     "name": "stderr",
     "output_type": "stream",
     "text": [
      "MultiVuServer - Closing connection to ('127.0.0.1', 55579)\n",
      "MultiVuServer - Found PPMS running.\n",
      "MultiVuServer - listening on ('localhost', 5000)\n",
      "MultiVuServer - Press ESC to exit.\n",
      "MultiVuClient - Starting connection to ('localhost', 5000)\n",
      "MultiVuClient - Starting connection to ('localhost', 5000)\n",
      "MultiVuServer - Accepted connection from ('127.0.0.1', 55581)\n",
      "MultiVuClient - Connected to PPMS MultiVuServer at ('127.0.0.1', 55581)\n",
      "MultiVuClient - Connected to PPMS MultiVuServer at ('127.0.0.1', 55581)\n",
      "MultiVuServer - Client ('127.0.0.1', 55581) disconnected.\n",
      "MultiVuClient - Closing connection to ('127.0.0.1', 55581)\n",
      "MultiVuClient - Closing connection to ('127.0.0.1', 55581)\n"
     ]
    },
    {
     "name": "stdout",
     "output_type": "stream",
     "text": [
      "field is stable = 53000.3438Oe\n"
     ]
    },
    {
     "name": "stderr",
     "output_type": "stream",
     "text": [
      "MultiVuServer - Closing connection to ('127.0.0.1', 55581)\n",
      "MultiVuServer - Found PPMS running.\n",
      "MultiVuServer - listening on ('localhost', 5000)\n",
      "MultiVuServer - Press ESC to exit.\n",
      "MultiVuClient - Starting connection to ('localhost', 5000)\n",
      "MultiVuClient - Starting connection to ('localhost', 5000)\n",
      "MultiVuServer - Accepted connection from ('127.0.0.1', 55582)\n",
      "MultiVuClient - Connected to PPMS MultiVuServer at ('127.0.0.1', 55582)\n",
      "MultiVuClient - Connected to PPMS MultiVuServer at ('127.0.0.1', 55582)\n",
      "MultiVuServer - Client ('127.0.0.1', 55582) disconnected.\n",
      "MultiVuClient - Closing connection to ('127.0.0.1', 55582)\n",
      "MultiVuClient - Closing connection to ('127.0.0.1', 55582)\n"
     ]
    },
    {
     "name": "stdout",
     "output_type": "stream",
     "text": [
      "field is stable = 54000.2656Oe\n"
     ]
    },
    {
     "name": "stderr",
     "output_type": "stream",
     "text": [
      "MultiVuServer - Closing connection to ('127.0.0.1', 55582)\n",
      "MultiVuServer - Found PPMS running.\n",
      "MultiVuServer - listening on ('localhost', 5000)\n",
      "MultiVuServer - Press ESC to exit.\n",
      "MultiVuClient - Starting connection to ('localhost', 5000)\n",
      "MultiVuClient - Starting connection to ('localhost', 5000)\n",
      "MultiVuServer - Accepted connection from ('127.0.0.1', 55583)\n",
      "MultiVuClient - Connected to PPMS MultiVuServer at ('127.0.0.1', 55583)\n",
      "MultiVuClient - Connected to PPMS MultiVuServer at ('127.0.0.1', 55583)\n",
      "MultiVuServer - Client ('127.0.0.1', 55583) disconnected.\n",
      "MultiVuClient - Closing connection to ('127.0.0.1', 55583)\n",
      "MultiVuClient - Closing connection to ('127.0.0.1', 55583)\n"
     ]
    },
    {
     "name": "stdout",
     "output_type": "stream",
     "text": [
      "field is stable = 55000.2031Oe\n"
     ]
    },
    {
     "name": "stderr",
     "output_type": "stream",
     "text": [
      "MultiVuServer - Closing connection to ('127.0.0.1', 55583)\n",
      "MultiVuServer - Found PPMS running.\n",
      "MultiVuServer - listening on ('localhost', 5000)\n",
      "MultiVuServer - Press ESC to exit.\n",
      "MultiVuClient - Starting connection to ('localhost', 5000)\n",
      "MultiVuClient - Starting connection to ('localhost', 5000)\n",
      "MultiVuServer - Accepted connection from ('127.0.0.1', 55585)\n",
      "MultiVuClient - Connected to PPMS MultiVuServer at ('127.0.0.1', 55585)\n",
      "MultiVuClient - Connected to PPMS MultiVuServer at ('127.0.0.1', 55585)\n",
      "MultiVuServer - Client ('127.0.0.1', 55585) disconnected.\n",
      "MultiVuClient - Closing connection to ('127.0.0.1', 55585)\n",
      "MultiVuClient - Closing connection to ('127.0.0.1', 55585)\n"
     ]
    },
    {
     "name": "stdout",
     "output_type": "stream",
     "text": [
      "field is stable = 56000.1992Oe\n"
     ]
    },
    {
     "name": "stderr",
     "output_type": "stream",
     "text": [
      "MultiVuServer - Closing connection to ('127.0.0.1', 55585)\n",
      "MultiVuServer - Found PPMS running.\n",
      "MultiVuServer - listening on ('localhost', 5000)\n",
      "MultiVuServer - Press ESC to exit.\n",
      "MultiVuClient - Starting connection to ('localhost', 5000)\n",
      "MultiVuClient - Starting connection to ('localhost', 5000)\n",
      "MultiVuServer - Accepted connection from ('127.0.0.1', 55586)\n",
      "MultiVuClient - Connected to PPMS MultiVuServer at ('127.0.0.1', 55586)\n",
      "MultiVuClient - Connected to PPMS MultiVuServer at ('127.0.0.1', 55586)\n",
      "MultiVuServer - Client ('127.0.0.1', 55586) disconnected.\n",
      "MultiVuClient - Closing connection to ('127.0.0.1', 55586)\n",
      "MultiVuClient - Closing connection to ('127.0.0.1', 55586)\n"
     ]
    },
    {
     "name": "stdout",
     "output_type": "stream",
     "text": [
      "field is stable = 57000.2266Oe\n"
     ]
    },
    {
     "name": "stderr",
     "output_type": "stream",
     "text": [
      "MultiVuServer - Closing connection to ('127.0.0.1', 55586)\n",
      "MultiVuServer - Found PPMS running.\n",
      "MultiVuServer - listening on ('localhost', 5000)\n",
      "MultiVuServer - Press ESC to exit.\n",
      "MultiVuClient - Starting connection to ('localhost', 5000)\n",
      "MultiVuClient - Starting connection to ('localhost', 5000)\n",
      "MultiVuServer - Accepted connection from ('127.0.0.1', 55587)\n",
      "MultiVuClient - Connected to PPMS MultiVuServer at ('127.0.0.1', 55587)\n",
      "MultiVuClient - Connected to PPMS MultiVuServer at ('127.0.0.1', 55587)\n",
      "MultiVuServer - Client ('127.0.0.1', 55587) disconnected.\n",
      "MultiVuClient - Closing connection to ('127.0.0.1', 55587)\n",
      "MultiVuClient - Closing connection to ('127.0.0.1', 55587)\n"
     ]
    },
    {
     "name": "stdout",
     "output_type": "stream",
     "text": [
      "field is stable = 58000.2812Oe\n"
     ]
    },
    {
     "name": "stderr",
     "output_type": "stream",
     "text": [
      "MultiVuServer - Closing connection to ('127.0.0.1', 55587)\n",
      "MultiVuServer - Found PPMS running.\n",
      "MultiVuServer - listening on ('localhost', 5000)\n",
      "MultiVuServer - Press ESC to exit.\n",
      "MultiVuClient - Starting connection to ('localhost', 5000)\n",
      "MultiVuClient - Starting connection to ('localhost', 5000)\n",
      "MultiVuServer - Accepted connection from ('127.0.0.1', 55590)\n",
      "MultiVuClient - Connected to PPMS MultiVuServer at ('127.0.0.1', 55590)\n",
      "MultiVuClient - Connected to PPMS MultiVuServer at ('127.0.0.1', 55590)\n",
      "MultiVuServer - Client ('127.0.0.1', 55590) disconnected.\n",
      "MultiVuClient - Closing connection to ('127.0.0.1', 55590)\n",
      "MultiVuClient - Closing connection to ('127.0.0.1', 55590)\n"
     ]
    },
    {
     "name": "stdout",
     "output_type": "stream",
     "text": [
      "field is stable = 59000.4805Oe\n"
     ]
    },
    {
     "name": "stderr",
     "output_type": "stream",
     "text": [
      "MultiVuServer - Closing connection to ('127.0.0.1', 55590)\n",
      "MultiVuServer - Found PPMS running.\n",
      "MultiVuServer - listening on ('localhost', 5000)\n",
      "MultiVuServer - Press ESC to exit.\n",
      "MultiVuClient - Starting connection to ('localhost', 5000)\n",
      "MultiVuClient - Starting connection to ('localhost', 5000)\n",
      "MultiVuServer - Accepted connection from ('127.0.0.1', 55591)\n",
      "MultiVuClient - Connected to PPMS MultiVuServer at ('127.0.0.1', 55591)\n",
      "MultiVuClient - Connected to PPMS MultiVuServer at ('127.0.0.1', 55591)\n",
      "MultiVuServer - Client ('127.0.0.1', 55591) disconnected.\n",
      "MultiVuClient - Closing connection to ('127.0.0.1', 55591)\n",
      "MultiVuClient - Closing connection to ('127.0.0.1', 55591)\n"
     ]
    },
    {
     "name": "stdout",
     "output_type": "stream",
     "text": [
      "field is stable = 60000.4336Oe\n"
     ]
    },
    {
     "name": "stderr",
     "output_type": "stream",
     "text": [
      "MultiVuServer - Closing connection to ('127.0.0.1', 55591)\n",
      "MultiVuServer - Found PPMS running.\n",
      "MultiVuServer - listening on ('localhost', 5000)\n",
      "MultiVuServer - Press ESC to exit.\n",
      "MultiVuClient - Starting connection to ('localhost', 5000)\n",
      "MultiVuClient - Starting connection to ('localhost', 5000)\n",
      "MultiVuServer - Accepted connection from ('127.0.0.1', 55592)\n",
      "MultiVuClient - Connected to PPMS MultiVuServer at ('127.0.0.1', 55592)\n",
      "MultiVuClient - Connected to PPMS MultiVuServer at ('127.0.0.1', 55592)\n",
      "MultiVuServer - Client ('127.0.0.1', 55592) disconnected.\n",
      "MultiVuClient - Closing connection to ('127.0.0.1', 55592)\n",
      "MultiVuClient - Closing connection to ('127.0.0.1', 55592)\n"
     ]
    },
    {
     "name": "stdout",
     "output_type": "stream",
     "text": [
      "field is stable = 61000.1836Oe\n"
     ]
    },
    {
     "name": "stderr",
     "output_type": "stream",
     "text": [
      "MultiVuServer - Closing connection to ('127.0.0.1', 55592)\n",
      "MultiVuServer - Found PPMS running.\n",
      "MultiVuServer - listening on ('localhost', 5000)\n",
      "MultiVuServer - Press ESC to exit.\n",
      "MultiVuClient - Starting connection to ('localhost', 5000)\n",
      "MultiVuClient - Starting connection to ('localhost', 5000)\n",
      "MultiVuServer - Accepted connection from ('127.0.0.1', 55595)\n",
      "MultiVuClient - Connected to PPMS MultiVuServer at ('127.0.0.1', 55595)\n",
      "MultiVuClient - Connected to PPMS MultiVuServer at ('127.0.0.1', 55595)\n",
      "MultiVuServer - Client ('127.0.0.1', 55595) disconnected.\n",
      "MultiVuClient - Closing connection to ('127.0.0.1', 55595)\n",
      "MultiVuClient - Closing connection to ('127.0.0.1', 55595)\n"
     ]
    },
    {
     "name": "stdout",
     "output_type": "stream",
     "text": [
      "field is stable = 62000.3398Oe\n"
     ]
    },
    {
     "name": "stderr",
     "output_type": "stream",
     "text": [
      "MultiVuServer - Closing connection to ('127.0.0.1', 55595)\n",
      "MultiVuServer - Found PPMS running.\n",
      "MultiVuServer - listening on ('localhost', 5000)\n",
      "MultiVuServer - Press ESC to exit.\n",
      "MultiVuClient - Starting connection to ('localhost', 5000)\n",
      "MultiVuClient - Starting connection to ('localhost', 5000)\n",
      "MultiVuServer - Accepted connection from ('127.0.0.1', 55596)\n",
      "MultiVuClient - Connected to PPMS MultiVuServer at ('127.0.0.1', 55596)\n",
      "MultiVuClient - Connected to PPMS MultiVuServer at ('127.0.0.1', 55596)\n",
      "MultiVuServer - Client ('127.0.0.1', 55596) disconnected.\n",
      "MultiVuClient - Closing connection to ('127.0.0.1', 55596)\n",
      "MultiVuClient - Closing connection to ('127.0.0.1', 55596)\n"
     ]
    },
    {
     "name": "stdout",
     "output_type": "stream",
     "text": [
      "field is stable = 63000.4102Oe\n"
     ]
    },
    {
     "name": "stderr",
     "output_type": "stream",
     "text": [
      "MultiVuServer - Closing connection to ('127.0.0.1', 55596)\n",
      "MultiVuServer - Found PPMS running.\n",
      "MultiVuServer - listening on ('localhost', 5000)\n",
      "MultiVuServer - Press ESC to exit.\n",
      "MultiVuClient - Starting connection to ('localhost', 5000)\n",
      "MultiVuClient - Starting connection to ('localhost', 5000)\n",
      "MultiVuServer - Accepted connection from ('127.0.0.1', 55597)\n",
      "MultiVuClient - Connected to PPMS MultiVuServer at ('127.0.0.1', 55597)\n",
      "MultiVuClient - Connected to PPMS MultiVuServer at ('127.0.0.1', 55597)\n",
      "MultiVuServer - Client ('127.0.0.1', 55597) disconnected.\n",
      "MultiVuClient - Closing connection to ('127.0.0.1', 55597)\n",
      "MultiVuClient - Closing connection to ('127.0.0.1', 55597)\n"
     ]
    },
    {
     "name": "stdout",
     "output_type": "stream",
     "text": [
      "field is stable = 64000.4609Oe\n"
     ]
    },
    {
     "name": "stderr",
     "output_type": "stream",
     "text": [
      "MultiVuServer - Closing connection to ('127.0.0.1', 55597)\n",
      "MultiVuServer - Found PPMS running.\n",
      "MultiVuServer - listening on ('localhost', 5000)\n",
      "MultiVuServer - Press ESC to exit.\n",
      "MultiVuClient - Starting connection to ('localhost', 5000)\n",
      "MultiVuClient - Starting connection to ('localhost', 5000)\n",
      "MultiVuServer - Accepted connection from ('127.0.0.1', 55599)\n",
      "MultiVuClient - Connected to PPMS MultiVuServer at ('127.0.0.1', 55599)\n",
      "MultiVuClient - Connected to PPMS MultiVuServer at ('127.0.0.1', 55599)\n",
      "MultiVuServer - Client ('127.0.0.1', 55599) disconnected.\n",
      "MultiVuClient - Closing connection to ('127.0.0.1', 55599)\n",
      "MultiVuClient - Closing connection to ('127.0.0.1', 55599)\n"
     ]
    },
    {
     "name": "stdout",
     "output_type": "stream",
     "text": [
      "field is stable = 65000.2852Oe\n"
     ]
    },
    {
     "name": "stderr",
     "output_type": "stream",
     "text": [
      "MultiVuServer - Closing connection to ('127.0.0.1', 55599)\n",
      "MultiVuServer - Found PPMS running.\n",
      "MultiVuServer - listening on ('localhost', 5000)\n",
      "MultiVuServer - Press ESC to exit.\n",
      "MultiVuClient - Starting connection to ('localhost', 5000)\n",
      "MultiVuClient - Starting connection to ('localhost', 5000)\n",
      "MultiVuServer - Accepted connection from ('127.0.0.1', 55600)\n",
      "MultiVuClient - Connected to PPMS MultiVuServer at ('127.0.0.1', 55600)\n",
      "MultiVuClient - Connected to PPMS MultiVuServer at ('127.0.0.1', 55600)\n",
      "MultiVuServer - Client ('127.0.0.1', 55600) disconnected.\n",
      "MultiVuClient - Closing connection to ('127.0.0.1', 55600)\n",
      "MultiVuClient - Closing connection to ('127.0.0.1', 55600)\n"
     ]
    },
    {
     "name": "stdout",
     "output_type": "stream",
     "text": [
      "field is stable = 66000.2266Oe\n"
     ]
    },
    {
     "name": "stderr",
     "output_type": "stream",
     "text": [
      "MultiVuServer - Closing connection to ('127.0.0.1', 55600)\n",
      "MultiVuServer - Found PPMS running.\n",
      "MultiVuServer - listening on ('localhost', 5000)\n",
      "MultiVuServer - Press ESC to exit.\n",
      "MultiVuClient - Starting connection to ('localhost', 5000)\n",
      "MultiVuClient - Starting connection to ('localhost', 5000)\n",
      "MultiVuServer - Accepted connection from ('127.0.0.1', 55601)\n",
      "MultiVuClient - Connected to PPMS MultiVuServer at ('127.0.0.1', 55601)\n",
      "MultiVuClient - Connected to PPMS MultiVuServer at ('127.0.0.1', 55601)\n",
      "MultiVuServer - Client ('127.0.0.1', 55601) disconnected.\n",
      "MultiVuClient - Closing connection to ('127.0.0.1', 55601)\n",
      "MultiVuClient - Closing connection to ('127.0.0.1', 55601)\n"
     ]
    },
    {
     "name": "stdout",
     "output_type": "stream",
     "text": [
      "field is stable = 67000.2344Oe\n"
     ]
    },
    {
     "name": "stderr",
     "output_type": "stream",
     "text": [
      "MultiVuServer - Closing connection to ('127.0.0.1', 55601)\n",
      "MultiVuServer - Found PPMS running.\n",
      "MultiVuServer - listening on ('localhost', 5000)\n",
      "MultiVuServer - Press ESC to exit.\n",
      "MultiVuClient - Starting connection to ('localhost', 5000)\n",
      "MultiVuClient - Starting connection to ('localhost', 5000)\n",
      "MultiVuServer - Accepted connection from ('127.0.0.1', 55603)\n",
      "MultiVuClient - Connected to PPMS MultiVuServer at ('127.0.0.1', 55603)\n",
      "MultiVuClient - Connected to PPMS MultiVuServer at ('127.0.0.1', 55603)\n",
      "MultiVuServer - Client ('127.0.0.1', 55603) disconnected.\n",
      "MultiVuClient - Closing connection to ('127.0.0.1', 55603)\n",
      "MultiVuClient - Closing connection to ('127.0.0.1', 55603)\n"
     ]
    },
    {
     "name": "stdout",
     "output_type": "stream",
     "text": [
      "field is stable = 68000.5469Oe\n"
     ]
    },
    {
     "name": "stderr",
     "output_type": "stream",
     "text": [
      "MultiVuServer - Closing connection to ('127.0.0.1', 55603)\n",
      "MultiVuServer - Found PPMS running.\n",
      "MultiVuServer - listening on ('localhost', 5000)\n",
      "MultiVuServer - Press ESC to exit.\n",
      "MultiVuClient - Starting connection to ('localhost', 5000)\n",
      "MultiVuClient - Starting connection to ('localhost', 5000)\n",
      "MultiVuServer - Accepted connection from ('127.0.0.1', 55604)\n",
      "MultiVuClient - Connected to PPMS MultiVuServer at ('127.0.0.1', 55604)\n",
      "MultiVuClient - Connected to PPMS MultiVuServer at ('127.0.0.1', 55604)\n",
      "MultiVuServer - Client ('127.0.0.1', 55604) disconnected.\n",
      "MultiVuClient - Closing connection to ('127.0.0.1', 55604)\n",
      "MultiVuClient - Closing connection to ('127.0.0.1', 55604)\n"
     ]
    },
    {
     "name": "stdout",
     "output_type": "stream",
     "text": [
      "field is stable = 69000.2422Oe\n"
     ]
    },
    {
     "name": "stderr",
     "output_type": "stream",
     "text": [
      "MultiVuServer - Closing connection to ('127.0.0.1', 55604)\n",
      "MultiVuServer - Found PPMS running.\n",
      "MultiVuServer - listening on ('localhost', 5000)\n",
      "MultiVuServer - Press ESC to exit.\n",
      "MultiVuClient - Starting connection to ('localhost', 5000)\n",
      "MultiVuClient - Starting connection to ('localhost', 5000)\n",
      "MultiVuServer - Accepted connection from ('127.0.0.1', 55605)\n",
      "MultiVuClient - Connected to PPMS MultiVuServer at ('127.0.0.1', 55605)\n",
      "MultiVuClient - Connected to PPMS MultiVuServer at ('127.0.0.1', 55605)\n",
      "MultiVuServer - Client ('127.0.0.1', 55605) disconnected.\n",
      "MultiVuClient - Closing connection to ('127.0.0.1', 55605)\n",
      "MultiVuClient - Closing connection to ('127.0.0.1', 55605)\n"
     ]
    },
    {
     "name": "stdout",
     "output_type": "stream",
     "text": [
      "field is stable = 70000.3438Oe\n"
     ]
    },
    {
     "name": "stderr",
     "output_type": "stream",
     "text": [
      "MultiVuServer - Closing connection to ('127.0.0.1', 55605)\n",
      "MultiVuServer - Found PPMS running.\n",
      "MultiVuServer - listening on ('localhost', 5000)\n",
      "MultiVuServer - Press ESC to exit.\n",
      "MultiVuClient - Starting connection to ('localhost', 5000)\n",
      "MultiVuClient - Starting connection to ('localhost', 5000)\n",
      "MultiVuServer - Accepted connection from ('127.0.0.1', 55607)\n",
      "MultiVuClient - Connected to PPMS MultiVuServer at ('127.0.0.1', 55607)\n",
      "MultiVuClient - Connected to PPMS MultiVuServer at ('127.0.0.1', 55607)\n",
      "MultiVuServer - Client ('127.0.0.1', 55607) disconnected.\n",
      "MultiVuClient - Closing connection to ('127.0.0.1', 55607)\n",
      "MultiVuClient - Closing connection to ('127.0.0.1', 55607)\n"
     ]
    },
    {
     "name": "stdout",
     "output_type": "stream",
     "text": [
      "field is stable = 71000.1172Oe\n"
     ]
    },
    {
     "name": "stderr",
     "output_type": "stream",
     "text": [
      "MultiVuServer - Closing connection to ('127.0.0.1', 55607)\n",
      "MultiVuServer - Found PPMS running.\n",
      "MultiVuServer - listening on ('localhost', 5000)\n",
      "MultiVuServer - Press ESC to exit.\n",
      "MultiVuClient - Starting connection to ('localhost', 5000)\n",
      "MultiVuClient - Starting connection to ('localhost', 5000)\n",
      "MultiVuServer - Accepted connection from ('127.0.0.1', 55608)\n",
      "MultiVuClient - Connected to PPMS MultiVuServer at ('127.0.0.1', 55608)\n",
      "MultiVuClient - Connected to PPMS MultiVuServer at ('127.0.0.1', 55608)\n",
      "MultiVuServer - Client ('127.0.0.1', 55608) disconnected.\n",
      "MultiVuClient - Closing connection to ('127.0.0.1', 55608)\n",
      "MultiVuClient - Closing connection to ('127.0.0.1', 55608)\n"
     ]
    },
    {
     "name": "stdout",
     "output_type": "stream",
     "text": [
      "field is stable = 72000.4375Oe\n"
     ]
    },
    {
     "name": "stderr",
     "output_type": "stream",
     "text": [
      "MultiVuServer - Closing connection to ('127.0.0.1', 55608)\n",
      "MultiVuServer - Found PPMS running.\n",
      "MultiVuServer - listening on ('localhost', 5000)\n",
      "MultiVuServer - Press ESC to exit.\n",
      "MultiVuClient - Starting connection to ('localhost', 5000)\n",
      "MultiVuClient - Starting connection to ('localhost', 5000)\n",
      "MultiVuServer - Accepted connection from ('127.0.0.1', 55610)\n",
      "MultiVuClient - Connected to PPMS MultiVuServer at ('127.0.0.1', 55610)\n",
      "MultiVuClient - Connected to PPMS MultiVuServer at ('127.0.0.1', 55610)\n",
      "MultiVuServer - Client ('127.0.0.1', 55610) disconnected.\n",
      "MultiVuClient - Closing connection to ('127.0.0.1', 55610)\n",
      "MultiVuClient - Closing connection to ('127.0.0.1', 55610)\n"
     ]
    },
    {
     "name": "stdout",
     "output_type": "stream",
     "text": [
      "field is stable = 73000.5312Oe\n"
     ]
    },
    {
     "name": "stderr",
     "output_type": "stream",
     "text": [
      "MultiVuServer - Closing connection to ('127.0.0.1', 55610)\n",
      "MultiVuServer - Found PPMS running.\n",
      "MultiVuServer - listening on ('localhost', 5000)\n",
      "MultiVuServer - Press ESC to exit.\n",
      "MultiVuClient - Starting connection to ('localhost', 5000)\n",
      "MultiVuClient - Starting connection to ('localhost', 5000)\n",
      "MultiVuServer - Accepted connection from ('127.0.0.1', 55611)\n",
      "MultiVuClient - Connected to PPMS MultiVuServer at ('127.0.0.1', 55611)\n",
      "MultiVuClient - Connected to PPMS MultiVuServer at ('127.0.0.1', 55611)\n",
      "MultiVuServer - Client ('127.0.0.1', 55611) disconnected.\n",
      "MultiVuClient - Closing connection to ('127.0.0.1', 55611)\n",
      "MultiVuClient - Closing connection to ('127.0.0.1', 55611)\n"
     ]
    },
    {
     "name": "stdout",
     "output_type": "stream",
     "text": [
      "field is stable = 74000.4922Oe\n"
     ]
    },
    {
     "name": "stderr",
     "output_type": "stream",
     "text": [
      "MultiVuServer - Closing connection to ('127.0.0.1', 55611)\n",
      "MultiVuServer - Found PPMS running.\n",
      "MultiVuServer - listening on ('localhost', 5000)\n",
      "MultiVuServer - Press ESC to exit.\n",
      "MultiVuClient - Starting connection to ('localhost', 5000)\n",
      "MultiVuClient - Starting connection to ('localhost', 5000)\n",
      "MultiVuServer - Accepted connection from ('127.0.0.1', 55612)\n",
      "MultiVuClient - Connected to PPMS MultiVuServer at ('127.0.0.1', 55612)\n",
      "MultiVuClient - Connected to PPMS MultiVuServer at ('127.0.0.1', 55612)\n",
      "MultiVuServer - Client ('127.0.0.1', 55612) disconnected.\n",
      "MultiVuClient - Closing connection to ('127.0.0.1', 55612)\n",
      "MultiVuClient - Closing connection to ('127.0.0.1', 55612)\n"
     ]
    },
    {
     "name": "stdout",
     "output_type": "stream",
     "text": [
      "field is stable = 75000.2109Oe\n"
     ]
    },
    {
     "name": "stderr",
     "output_type": "stream",
     "text": [
      "MultiVuServer - Closing connection to ('127.0.0.1', 55612)\n",
      "MultiVuServer - Found PPMS running.\n",
      "MultiVuServer - listening on ('localhost', 5000)\n",
      "MultiVuServer - Press ESC to exit.\n",
      "MultiVuClient - Starting connection to ('localhost', 5000)\n",
      "MultiVuClient - Starting connection to ('localhost', 5000)\n",
      "MultiVuServer - Accepted connection from ('127.0.0.1', 55614)\n",
      "MultiVuClient - Connected to PPMS MultiVuServer at ('127.0.0.1', 55614)\n",
      "MultiVuClient - Connected to PPMS MultiVuServer at ('127.0.0.1', 55614)\n",
      "MultiVuServer - Client ('127.0.0.1', 55614) disconnected.\n",
      "MultiVuClient - Closing connection to ('127.0.0.1', 55614)\n",
      "MultiVuClient - Closing connection to ('127.0.0.1', 55614)\n"
     ]
    },
    {
     "name": "stdout",
     "output_type": "stream",
     "text": [
      "field is stable = 76000.4141Oe\n"
     ]
    },
    {
     "name": "stderr",
     "output_type": "stream",
     "text": [
      "MultiVuServer - Closing connection to ('127.0.0.1', 55614)\n",
      "MultiVuServer - Found PPMS running.\n",
      "MultiVuServer - listening on ('localhost', 5000)\n",
      "MultiVuServer - Press ESC to exit.\n",
      "MultiVuClient - Starting connection to ('localhost', 5000)\n",
      "MultiVuClient - Starting connection to ('localhost', 5000)\n",
      "MultiVuServer - Accepted connection from ('127.0.0.1', 55615)\n",
      "MultiVuClient - Connected to PPMS MultiVuServer at ('127.0.0.1', 55615)\n",
      "MultiVuClient - Connected to PPMS MultiVuServer at ('127.0.0.1', 55615)\n",
      "MultiVuServer - Client ('127.0.0.1', 55615) disconnected.\n",
      "MultiVuClient - Closing connection to ('127.0.0.1', 55615)\n",
      "MultiVuClient - Closing connection to ('127.0.0.1', 55615)\n"
     ]
    },
    {
     "name": "stdout",
     "output_type": "stream",
     "text": [
      "field is stable = 77000.375Oe\n"
     ]
    },
    {
     "name": "stderr",
     "output_type": "stream",
     "text": [
      "MultiVuServer - Closing connection to ('127.0.0.1', 55615)\n",
      "MultiVuServer - Found PPMS running.\n",
      "MultiVuServer - listening on ('localhost', 5000)\n",
      "MultiVuServer - Press ESC to exit.\n",
      "MultiVuClient - Starting connection to ('localhost', 5000)\n",
      "MultiVuClient - Starting connection to ('localhost', 5000)\n",
      "MultiVuServer - Accepted connection from ('127.0.0.1', 55616)\n",
      "MultiVuClient - Connected to PPMS MultiVuServer at ('127.0.0.1', 55616)\n",
      "MultiVuClient - Connected to PPMS MultiVuServer at ('127.0.0.1', 55616)\n",
      "MultiVuServer - Client ('127.0.0.1', 55616) disconnected.\n",
      "MultiVuClient - Closing connection to ('127.0.0.1', 55616)\n",
      "MultiVuClient - Closing connection to ('127.0.0.1', 55616)\n"
     ]
    },
    {
     "name": "stdout",
     "output_type": "stream",
     "text": [
      "field is stable = 78000.2578Oe\n"
     ]
    },
    {
     "name": "stderr",
     "output_type": "stream",
     "text": [
      "MultiVuServer - Closing connection to ('127.0.0.1', 55616)\n",
      "MultiVuServer - Found PPMS running.\n",
      "MultiVuServer - listening on ('localhost', 5000)\n",
      "MultiVuServer - Press ESC to exit.\n",
      "MultiVuClient - Starting connection to ('localhost', 5000)\n",
      "MultiVuClient - Starting connection to ('localhost', 5000)\n",
      "MultiVuServer - Accepted connection from ('127.0.0.1', 55618)\n",
      "MultiVuClient - Connected to PPMS MultiVuServer at ('127.0.0.1', 55618)\n",
      "MultiVuClient - Connected to PPMS MultiVuServer at ('127.0.0.1', 55618)\n",
      "MultiVuServer - Client ('127.0.0.1', 55618) disconnected.\n",
      "MultiVuClient - Closing connection to ('127.0.0.1', 55618)\n",
      "MultiVuClient - Closing connection to ('127.0.0.1', 55618)\n"
     ]
    },
    {
     "name": "stdout",
     "output_type": "stream",
     "text": [
      "field is stable = 79000.1953Oe\n"
     ]
    },
    {
     "name": "stderr",
     "output_type": "stream",
     "text": [
      "MultiVuServer - Closing connection to ('127.0.0.1', 55618)\n",
      "MultiVuServer - Found PPMS running.\n",
      "MultiVuServer - listening on ('localhost', 5000)\n",
      "MultiVuServer - Press ESC to exit.\n",
      "MultiVuClient - Starting connection to ('localhost', 5000)\n",
      "MultiVuClient - Starting connection to ('localhost', 5000)\n",
      "MultiVuServer - Accepted connection from ('127.0.0.1', 55619)\n",
      "MultiVuClient - Connected to PPMS MultiVuServer at ('127.0.0.1', 55619)\n",
      "MultiVuClient - Connected to PPMS MultiVuServer at ('127.0.0.1', 55619)\n",
      "MultiVuServer - Client ('127.0.0.1', 55619) disconnected.\n",
      "MultiVuClient - Closing connection to ('127.0.0.1', 55619)\n",
      "MultiVuClient - Closing connection to ('127.0.0.1', 55619)\n"
     ]
    },
    {
     "name": "stdout",
     "output_type": "stream",
     "text": [
      "field is stable = 80000.2266Oe\n"
     ]
    },
    {
     "name": "stderr",
     "output_type": "stream",
     "text": [
      "MultiVuServer - Closing connection to ('127.0.0.1', 55619)\n",
      "MultiVuServer - Found PPMS running.\n",
      "MultiVuServer - listening on ('localhost', 5000)\n",
      "MultiVuServer - Press ESC to exit.\n",
      "MultiVuClient - Starting connection to ('localhost', 5000)\n",
      "MultiVuClient - Starting connection to ('localhost', 5000)\n",
      "MultiVuServer - Accepted connection from ('127.0.0.1', 55621)\n",
      "MultiVuClient - Connected to PPMS MultiVuServer at ('127.0.0.1', 55621)\n",
      "MultiVuClient - Connected to PPMS MultiVuServer at ('127.0.0.1', 55621)\n",
      "MultiVuServer - Client ('127.0.0.1', 55621) disconnected.\n",
      "MultiVuClient - Closing connection to ('127.0.0.1', 55621)\n",
      "MultiVuClient - Closing connection to ('127.0.0.1', 55621)\n"
     ]
    },
    {
     "name": "stdout",
     "output_type": "stream",
     "text": [
      "field is stable = 81000.5078Oe\n"
     ]
    },
    {
     "name": "stderr",
     "output_type": "stream",
     "text": [
      "MultiVuServer - Closing connection to ('127.0.0.1', 55621)\n",
      "MultiVuServer - Found PPMS running.\n",
      "MultiVuServer - listening on ('localhost', 5000)\n",
      "MultiVuServer - Press ESC to exit.\n",
      "MultiVuClient - Starting connection to ('localhost', 5000)\n",
      "MultiVuClient - Starting connection to ('localhost', 5000)\n",
      "MultiVuServer - Accepted connection from ('127.0.0.1', 55623)\n",
      "MultiVuClient - Connected to PPMS MultiVuServer at ('127.0.0.1', 55623)\n",
      "MultiVuClient - Connected to PPMS MultiVuServer at ('127.0.0.1', 55623)\n",
      "MultiVuServer - Client ('127.0.0.1', 55623) disconnected.\n",
      "MultiVuClient - Closing connection to ('127.0.0.1', 55623)\n",
      "MultiVuClient - Closing connection to ('127.0.0.1', 55623)\n"
     ]
    },
    {
     "name": "stdout",
     "output_type": "stream",
     "text": [
      "field is stable = 82000.2578Oe\n"
     ]
    },
    {
     "name": "stderr",
     "output_type": "stream",
     "text": [
      "MultiVuServer - Closing connection to ('127.0.0.1', 55623)\n",
      "MultiVuServer - Found PPMS running.\n",
      "MultiVuServer - listening on ('localhost', 5000)\n",
      "MultiVuServer - Press ESC to exit.\n",
      "MultiVuClient - Starting connection to ('localhost', 5000)\n",
      "MultiVuClient - Starting connection to ('localhost', 5000)\n",
      "MultiVuServer - Accepted connection from ('127.0.0.1', 55624)\n",
      "MultiVuClient - Connected to PPMS MultiVuServer at ('127.0.0.1', 55624)\n",
      "MultiVuClient - Connected to PPMS MultiVuServer at ('127.0.0.1', 55624)\n",
      "MultiVuServer - Client ('127.0.0.1', 55624) disconnected.\n",
      "MultiVuClient - Closing connection to ('127.0.0.1', 55624)\n",
      "MultiVuClient - Closing connection to ('127.0.0.1', 55624)\n"
     ]
    },
    {
     "name": "stdout",
     "output_type": "stream",
     "text": [
      "field is stable = 83000.4141Oe\n"
     ]
    },
    {
     "name": "stderr",
     "output_type": "stream",
     "text": [
      "MultiVuServer - Closing connection to ('127.0.0.1', 55624)\n",
      "MultiVuServer - Found PPMS running.\n",
      "MultiVuServer - listening on ('localhost', 5000)\n",
      "MultiVuServer - Press ESC to exit.\n",
      "MultiVuClient - Starting connection to ('localhost', 5000)\n",
      "MultiVuClient - Starting connection to ('localhost', 5000)\n",
      "MultiVuServer - Accepted connection from ('127.0.0.1', 55625)\n",
      "MultiVuClient - Connected to PPMS MultiVuServer at ('127.0.0.1', 55625)\n",
      "MultiVuClient - Connected to PPMS MultiVuServer at ('127.0.0.1', 55625)\n",
      "MultiVuServer - Client ('127.0.0.1', 55625) disconnected.\n",
      "MultiVuClient - Closing connection to ('127.0.0.1', 55625)\n",
      "MultiVuClient - Closing connection to ('127.0.0.1', 55625)\n"
     ]
    },
    {
     "name": "stdout",
     "output_type": "stream",
     "text": [
      "field is stable = 84000.3984Oe\n"
     ]
    },
    {
     "name": "stderr",
     "output_type": "stream",
     "text": [
      "MultiVuServer - Closing connection to ('127.0.0.1', 55625)\n",
      "MultiVuServer - Found PPMS running.\n",
      "MultiVuServer - listening on ('localhost', 5000)\n",
      "MultiVuServer - Press ESC to exit.\n",
      "MultiVuClient - Starting connection to ('localhost', 5000)\n",
      "MultiVuClient - Starting connection to ('localhost', 5000)\n",
      "MultiVuServer - Accepted connection from ('127.0.0.1', 55627)\n",
      "MultiVuClient - Connected to PPMS MultiVuServer at ('127.0.0.1', 55627)\n",
      "MultiVuClient - Connected to PPMS MultiVuServer at ('127.0.0.1', 55627)\n",
      "MultiVuServer - Client ('127.0.0.1', 55627) disconnected.\n",
      "MultiVuClient - Closing connection to ('127.0.0.1', 55627)\n",
      "MultiVuClient - Closing connection to ('127.0.0.1', 55627)\n"
     ]
    },
    {
     "name": "stdout",
     "output_type": "stream",
     "text": [
      "field is stable = 85000.4453Oe\n"
     ]
    },
    {
     "name": "stderr",
     "output_type": "stream",
     "text": [
      "MultiVuServer - Closing connection to ('127.0.0.1', 55627)\n",
      "MultiVuServer - Found PPMS running.\n",
      "MultiVuServer - listening on ('localhost', 5000)\n",
      "MultiVuServer - Press ESC to exit.\n",
      "MultiVuClient - Starting connection to ('localhost', 5000)\n",
      "MultiVuClient - Starting connection to ('localhost', 5000)\n",
      "MultiVuServer - Accepted connection from ('127.0.0.1', 55628)\n",
      "MultiVuClient - Connected to PPMS MultiVuServer at ('127.0.0.1', 55628)\n",
      "MultiVuClient - Connected to PPMS MultiVuServer at ('127.0.0.1', 55628)\n",
      "MultiVuServer - Client ('127.0.0.1', 55628) disconnected.\n",
      "MultiVuClient - Closing connection to ('127.0.0.1', 55628)\n",
      "MultiVuClient - Closing connection to ('127.0.0.1', 55628)\n"
     ]
    },
    {
     "name": "stdout",
     "output_type": "stream",
     "text": [
      "field is stable = 86000.3516Oe\n"
     ]
    },
    {
     "name": "stderr",
     "output_type": "stream",
     "text": [
      "MultiVuServer - Closing connection to ('127.0.0.1', 55628)\n",
      "MultiVuServer - Found PPMS running.\n",
      "MultiVuServer - listening on ('localhost', 5000)\n",
      "MultiVuServer - Press ESC to exit.\n",
      "MultiVuClient - Starting connection to ('localhost', 5000)\n",
      "MultiVuClient - Starting connection to ('localhost', 5000)\n",
      "MultiVuServer - Accepted connection from ('127.0.0.1', 55629)\n",
      "MultiVuClient - Connected to PPMS MultiVuServer at ('127.0.0.1', 55629)\n",
      "MultiVuClient - Connected to PPMS MultiVuServer at ('127.0.0.1', 55629)\n",
      "MultiVuServer - Client ('127.0.0.1', 55629) disconnected.\n",
      "MultiVuClient - Closing connection to ('127.0.0.1', 55629)\n",
      "MultiVuClient - Closing connection to ('127.0.0.1', 55629)\n"
     ]
    },
    {
     "name": "stdout",
     "output_type": "stream",
     "text": [
      "field is stable = 87000.5Oe\n"
     ]
    },
    {
     "name": "stderr",
     "output_type": "stream",
     "text": [
      "MultiVuServer - Closing connection to ('127.0.0.1', 55629)\n",
      "MultiVuServer - Found PPMS running.\n",
      "MultiVuServer - listening on ('localhost', 5000)\n",
      "MultiVuServer - Press ESC to exit.\n",
      "MultiVuClient - Starting connection to ('localhost', 5000)\n",
      "MultiVuClient - Starting connection to ('localhost', 5000)\n",
      "MultiVuServer - Accepted connection from ('127.0.0.1', 55631)\n",
      "MultiVuClient - Connected to PPMS MultiVuServer at ('127.0.0.1', 55631)\n",
      "MultiVuClient - Connected to PPMS MultiVuServer at ('127.0.0.1', 55631)\n",
      "MultiVuServer - Client ('127.0.0.1', 55631) disconnected.\n",
      "MultiVuClient - Closing connection to ('127.0.0.1', 55631)\n",
      "MultiVuClient - Closing connection to ('127.0.0.1', 55631)\n"
     ]
    },
    {
     "name": "stdout",
     "output_type": "stream",
     "text": [
      "field is stable = 88000.3359Oe\n"
     ]
    },
    {
     "name": "stderr",
     "output_type": "stream",
     "text": [
      "MultiVuServer - Closing connection to ('127.0.0.1', 55631)\n",
      "MultiVuServer - Found PPMS running.\n",
      "MultiVuServer - listening on ('localhost', 5000)\n",
      "MultiVuServer - Press ESC to exit.\n",
      "MultiVuClient - Starting connection to ('localhost', 5000)\n",
      "MultiVuClient - Starting connection to ('localhost', 5000)\n",
      "MultiVuServer - Accepted connection from ('127.0.0.1', 55632)\n",
      "MultiVuClient - Connected to PPMS MultiVuServer at ('127.0.0.1', 55632)\n",
      "MultiVuClient - Connected to PPMS MultiVuServer at ('127.0.0.1', 55632)\n",
      "MultiVuServer - Client ('127.0.0.1', 55632) disconnected.\n",
      "MultiVuClient - Closing connection to ('127.0.0.1', 55632)\n",
      "MultiVuClient - Closing connection to ('127.0.0.1', 55632)\n"
     ]
    },
    {
     "name": "stdout",
     "output_type": "stream",
     "text": [
      "field is stable = 89000.4062Oe\n"
     ]
    },
    {
     "name": "stderr",
     "output_type": "stream",
     "text": [
      "MultiVuServer - Closing connection to ('127.0.0.1', 55632)\n",
      "MultiVuServer - Found PPMS running.\n",
      "MultiVuServer - listening on ('localhost', 5000)\n",
      "MultiVuServer - Press ESC to exit.\n",
      "MultiVuClient - Starting connection to ('localhost', 5000)\n",
      "MultiVuClient - Starting connection to ('localhost', 5000)\n",
      "MultiVuServer - Accepted connection from ('127.0.0.1', 55634)\n",
      "MultiVuClient - Connected to PPMS MultiVuServer at ('127.0.0.1', 55634)\n",
      "MultiVuClient - Connected to PPMS MultiVuServer at ('127.0.0.1', 55634)\n",
      "MultiVuServer - Client ('127.0.0.1', 55634) disconnected.\n",
      "MultiVuClient - Closing connection to ('127.0.0.1', 55634)\n",
      "MultiVuClient - Closing connection to ('127.0.0.1', 55634)\n"
     ]
    },
    {
     "name": "stdout",
     "output_type": "stream",
     "text": [
      "field is stable = 90000.3906Oe\n"
     ]
    },
    {
     "name": "stderr",
     "output_type": "stream",
     "text": [
      "MultiVuServer - Closing connection to ('127.0.0.1', 55634)\n",
      "MultiVuServer - Found PPMS running.\n",
      "MultiVuServer - listening on ('localhost', 5000)\n",
      "MultiVuServer - Press ESC to exit.\n",
      "MultiVuClient - Starting connection to ('localhost', 5000)\n",
      "MultiVuClient - Starting connection to ('localhost', 5000)\n",
      "MultiVuServer - Accepted connection from ('127.0.0.1', 55635)\n",
      "MultiVuClient - Connected to PPMS MultiVuServer at ('127.0.0.1', 55635)\n",
      "MultiVuClient - Connected to PPMS MultiVuServer at ('127.0.0.1', 55635)\n",
      "MultiVuServer - Client ('127.0.0.1', 55635) disconnected.\n",
      "MultiVuClient - Closing connection to ('127.0.0.1', 55635)\n",
      "MultiVuClient - Closing connection to ('127.0.0.1', 55635)\n"
     ]
    },
    {
     "name": "stdout",
     "output_type": "stream",
     "text": [
      "field is stable = 89000.375Oe\n"
     ]
    },
    {
     "name": "stderr",
     "output_type": "stream",
     "text": [
      "MultiVuServer - Closing connection to ('127.0.0.1', 55635)\n",
      "MultiVuServer - Found PPMS running.\n",
      "MultiVuServer - listening on ('localhost', 5000)\n",
      "MultiVuServer - Press ESC to exit.\n",
      "MultiVuClient - Starting connection to ('localhost', 5000)\n",
      "MultiVuClient - Starting connection to ('localhost', 5000)\n",
      "MultiVuServer - Accepted connection from ('127.0.0.1', 55637)\n",
      "MultiVuClient - Connected to PPMS MultiVuServer at ('127.0.0.1', 55637)\n",
      "MultiVuClient - Connected to PPMS MultiVuServer at ('127.0.0.1', 55637)\n",
      "MultiVuServer - Client ('127.0.0.1', 55637) disconnected.\n",
      "MultiVuClient - Closing connection to ('127.0.0.1', 55637)\n",
      "MultiVuClient - Closing connection to ('127.0.0.1', 55637)\n"
     ]
    },
    {
     "name": "stdout",
     "output_type": "stream",
     "text": [
      "field is stable = 88000.2969Oe\n"
     ]
    },
    {
     "name": "stderr",
     "output_type": "stream",
     "text": [
      "MultiVuServer - Closing connection to ('127.0.0.1', 55637)\n"
     ]
    },
    {
     "ename": "PermissionError",
     "evalue": "[Errno 13] Permission denied: 'data/LFO110_IP_curr_para_Caxis_harm123_fielddep_300K_1666931946.csv'",
     "output_type": "error",
     "traceback": [
      "\u001b[1;31m---------------------------------------------------------------------------\u001b[0m",
      "\u001b[1;31mPermissionError\u001b[0m                           Traceback (most recent call last)",
      "\u001b[1;32m<ipython-input-22-27e125d4ba11>\u001b[0m in \u001b[0;36m<module>\u001b[1;34m\u001b[0m\n\u001b[0;32m     16\u001b[0m     \u001b[0mD\u001b[0m\u001b[1;33m=\u001b[0m\u001b[0mlock4\u001b[0m\u001b[1;33m.\u001b[0m\u001b[0mlock_in_measure\u001b[0m\u001b[1;33m(\u001b[0m\u001b[0mcount\u001b[0m\u001b[1;33m=\u001b[0m\u001b[1;36m1\u001b[0m\u001b[1;33m,\u001b[0m \u001b[0mtime_step\u001b[0m\u001b[1;33m=\u001b[0m\u001b[1;36m0\u001b[0m\u001b[1;33m,\u001b[0m \u001b[0mwait_before_measure\u001b[0m\u001b[1;33m=\u001b[0m\u001b[1;36m0\u001b[0m\u001b[1;33m)\u001b[0m\u001b[1;33m\u001b[0m\u001b[1;33m\u001b[0m\u001b[0m\n\u001b[0;32m     17\u001b[0m \u001b[1;33m\u001b[0m\u001b[0m\n\u001b[1;32m---> 18\u001b[1;33m     \u001b[1;32mwith\u001b[0m \u001b[0mopen\u001b[0m\u001b[1;33m(\u001b[0m\u001b[0mfile_name\u001b[0m\u001b[1;33m,\u001b[0m \u001b[1;34m'a'\u001b[0m\u001b[1;33m)\u001b[0m \u001b[1;32mas\u001b[0m \u001b[0mf\u001b[0m\u001b[1;33m:\u001b[0m\u001b[1;33m\u001b[0m\u001b[1;33m\u001b[0m\u001b[0m\n\u001b[0m\u001b[0;32m     19\u001b[0m         \u001b[0mf\u001b[0m\u001b[1;33m.\u001b[0m\u001b[0mwrite\u001b[0m\u001b[1;33m(\u001b[0m\u001b[1;34m\"{},{},{},{},{},{},{},{},{},{},{},{},{},{},{},{},{},{},{},{},{},{},{},{},{},{},{},{},{},{},{},{},{},{}\\n\"\u001b[0m\u001b[1;33m.\u001b[0m\u001b[0mformat\u001b[0m\u001b[1;33m(\u001b[0m\u001b[0mfield\u001b[0m\u001b[1;33m,\u001b[0m \u001b[0mA\u001b[0m\u001b[1;33m[\u001b[0m\u001b[1;36m0\u001b[0m\u001b[1;33m]\u001b[0m\u001b[1;33m,\u001b[0m \u001b[0mA\u001b[0m\u001b[1;33m[\u001b[0m\u001b[1;36m1\u001b[0m\u001b[1;33m]\u001b[0m\u001b[1;33m,\u001b[0m \u001b[0mA\u001b[0m\u001b[1;33m[\u001b[0m\u001b[1;36m2\u001b[0m\u001b[1;33m]\u001b[0m\u001b[1;33m,\u001b[0m \u001b[0mA\u001b[0m\u001b[1;33m[\u001b[0m\u001b[1;36m3\u001b[0m\u001b[1;33m]\u001b[0m\u001b[1;33m,\u001b[0m \u001b[0mA\u001b[0m\u001b[1;33m[\u001b[0m\u001b[1;36m4\u001b[0m\u001b[1;33m]\u001b[0m\u001b[1;33m,\u001b[0m \u001b[0mA\u001b[0m\u001b[1;33m[\u001b[0m\u001b[1;36m5\u001b[0m\u001b[1;33m]\u001b[0m\u001b[1;33m,\u001b[0m \u001b[0mA\u001b[0m\u001b[1;33m[\u001b[0m\u001b[1;36m6\u001b[0m\u001b[1;33m]\u001b[0m\u001b[1;33m,\u001b[0m \u001b[0mA\u001b[0m\u001b[1;33m[\u001b[0m\u001b[1;36m7\u001b[0m\u001b[1;33m]\u001b[0m\u001b[1;33m,\u001b[0m \u001b[0mB\u001b[0m\u001b[1;33m[\u001b[0m\u001b[1;36m0\u001b[0m\u001b[1;33m]\u001b[0m\u001b[1;33m,\u001b[0m \u001b[0mB\u001b[0m\u001b[1;33m[\u001b[0m\u001b[1;36m1\u001b[0m\u001b[1;33m]\u001b[0m\u001b[1;33m,\u001b[0m \u001b[0mB\u001b[0m\u001b[1;33m[\u001b[0m\u001b[1;36m2\u001b[0m\u001b[1;33m]\u001b[0m\u001b[1;33m,\u001b[0m \u001b[0mB\u001b[0m\u001b[1;33m[\u001b[0m\u001b[1;36m3\u001b[0m\u001b[1;33m]\u001b[0m\u001b[1;33m,\u001b[0m \u001b[0mB\u001b[0m\u001b[1;33m[\u001b[0m\u001b[1;36m4\u001b[0m\u001b[1;33m]\u001b[0m\u001b[1;33m,\u001b[0m \u001b[0mB\u001b[0m\u001b[1;33m[\u001b[0m\u001b[1;36m5\u001b[0m\u001b[1;33m]\u001b[0m\u001b[1;33m,\u001b[0m \u001b[0mB\u001b[0m\u001b[1;33m[\u001b[0m\u001b[1;36m6\u001b[0m\u001b[1;33m]\u001b[0m\u001b[1;33m,\u001b[0m \u001b[0mB\u001b[0m\u001b[1;33m[\u001b[0m\u001b[1;36m7\u001b[0m\u001b[1;33m]\u001b[0m\u001b[1;33m,\u001b[0m \u001b[0mC\u001b[0m\u001b[1;33m[\u001b[0m\u001b[1;36m0\u001b[0m\u001b[1;33m]\u001b[0m\u001b[1;33m,\u001b[0m \u001b[0mC\u001b[0m\u001b[1;33m[\u001b[0m\u001b[1;36m1\u001b[0m\u001b[1;33m]\u001b[0m\u001b[1;33m,\u001b[0m \u001b[0mC\u001b[0m\u001b[1;33m[\u001b[0m\u001b[1;36m2\u001b[0m\u001b[1;33m]\u001b[0m\u001b[1;33m,\u001b[0m \u001b[0mC\u001b[0m\u001b[1;33m[\u001b[0m\u001b[1;36m3\u001b[0m\u001b[1;33m]\u001b[0m\u001b[1;33m,\u001b[0m \u001b[0mC\u001b[0m\u001b[1;33m[\u001b[0m\u001b[1;36m4\u001b[0m\u001b[1;33m]\u001b[0m\u001b[1;33m,\u001b[0m \u001b[0mC\u001b[0m\u001b[1;33m[\u001b[0m\u001b[1;36m5\u001b[0m\u001b[1;33m]\u001b[0m\u001b[1;33m,\u001b[0m \u001b[0mC\u001b[0m\u001b[1;33m[\u001b[0m\u001b[1;36m6\u001b[0m\u001b[1;33m]\u001b[0m\u001b[1;33m,\u001b[0m \u001b[0mC\u001b[0m\u001b[1;33m[\u001b[0m\u001b[1;36m7\u001b[0m\u001b[1;33m]\u001b[0m\u001b[1;33m,\u001b[0m \u001b[0mD\u001b[0m\u001b[1;33m[\u001b[0m\u001b[1;36m0\u001b[0m\u001b[1;33m]\u001b[0m\u001b[1;33m,\u001b[0m \u001b[0mD\u001b[0m\u001b[1;33m[\u001b[0m\u001b[1;36m1\u001b[0m\u001b[1;33m]\u001b[0m\u001b[1;33m,\u001b[0m \u001b[0mD\u001b[0m\u001b[1;33m[\u001b[0m\u001b[1;36m2\u001b[0m\u001b[1;33m]\u001b[0m\u001b[1;33m,\u001b[0m \u001b[0mD\u001b[0m\u001b[1;33m[\u001b[0m\u001b[1;36m3\u001b[0m\u001b[1;33m]\u001b[0m\u001b[1;33m,\u001b[0m \u001b[0mD\u001b[0m\u001b[1;33m[\u001b[0m\u001b[1;36m4\u001b[0m\u001b[1;33m]\u001b[0m\u001b[1;33m,\u001b[0m \u001b[0mD\u001b[0m\u001b[1;33m[\u001b[0m\u001b[1;36m5\u001b[0m\u001b[1;33m]\u001b[0m\u001b[1;33m,\u001b[0m \u001b[0mD\u001b[0m\u001b[1;33m[\u001b[0m\u001b[1;36m6\u001b[0m\u001b[1;33m]\u001b[0m\u001b[1;33m,\u001b[0m \u001b[0mD\u001b[0m\u001b[1;33m[\u001b[0m\u001b[1;36m7\u001b[0m\u001b[1;33m]\u001b[0m\u001b[1;33m,\u001b[0m \u001b[0mcurr\u001b[0m\u001b[1;33m)\u001b[0m\u001b[1;33m)\u001b[0m\u001b[1;33m\u001b[0m\u001b[1;33m\u001b[0m\u001b[0m\n",
      "\u001b[1;31mPermissionError\u001b[0m: [Errno 13] Permission denied: 'data/LFO110_IP_curr_para_Caxis_harm123_fielddep_300K_1666931946.csv'"
     ]
    }
   ],
   "source": [
    "Field=np.append(np.arange(-5000,5000,50),np.arange(5000,-5050,-50)) \n",
    "Field=np.append(Field, 0) \n",
    "# T=GetTemp()\n",
    "# print('Temp is {} K'.format(T[0]))\n",
    "T=300\n",
    "curr=4\n",
    "file_name = \"data/LFO110_OOP_curr_para_Caxis_harm123_fielddep_{}K_{}.csv\".format(T, int(time.time()))\n",
    "with open(file_name, 'w') as f:\n",
    "    f.write(\"Field,x1,y1,r1,phi1,dx1,dy1,dr1,dphi1,x2,y2,r2,phi2,dx2,dy2,dr2,dphi2,x3,y3,r3,phi3,dx3,dy3,dr3,dphi3,x4,y4,r4,phi4,dx4,dy4,dr4,dphi4,I\\n\")\n",
    "\n",
    "for field in Field:\n",
    "    SetFieldStable(Field=field, rate=100, Mode='driven')\n",
    "    A=lock1.lock_in_measure(count=3, time_step=0.1, wait_before_measure=0)\n",
    "    B=lock2.lock_in_measure(count=10, time_step=0.1, wait_before_measure=0)\n",
    "    C=lock3.lock_in_measure(count=10, time_step=0.1, wait_before_measure=0)\n",
    "    D=lock4.lock_in_measure(count=1, time_step=0, wait_before_measure=0)\n",
    "    \n",
    "    with open(file_name, 'a') as f:\n",
    "        f.write(\"{},{},{},{},{},{},{},{},{},{},{},{},{},{},{},{},{},{},{},{},{},{},{},{},{},{},{},{},{},{},{},{},{},{}\\n\".format(field, A[0], A[1], A[2], A[3], A[4], A[5], A[6], A[7], B[0], B[1], B[2], B[3], B[4], B[5], B[6], B[7], C[0], C[1], C[2], C[3], C[4], C[5], C[6], C[7], D[0], D[1], D[2], D[3], D[4], D[5], D[6], D[7], curr))\n"
   ]
  },
  {
   "cell_type": "code",
   "execution_count": null,
   "id": "06433d8f",
   "metadata": {},
   "outputs": [],
   "source": []
  }
 ],
 "metadata": {
  "kernelspec": {
   "display_name": "Python 3",
   "language": "python",
   "name": "python3"
  },
  "language_info": {
   "codemirror_mode": {
    "name": "ipython",
    "version": 3
   },
   "file_extension": ".py",
   "mimetype": "text/x-python",
   "name": "python",
   "nbconvert_exporter": "python",
   "pygments_lexer": "ipython3",
   "version": "3.8.8"
  }
 },
 "nbformat": 4,
 "nbformat_minor": 5
}
